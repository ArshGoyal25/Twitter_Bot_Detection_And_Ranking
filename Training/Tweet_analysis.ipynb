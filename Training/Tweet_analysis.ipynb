{
  "nbformat": 4,
  "nbformat_minor": 0,
  "metadata": {
    "accelerator": "GPU",
    "colab": {
      "name": "Tweet_analysis.ipynb",
      "provenance": [],
      "collapsed_sections": []
    },
    "kernelspec": {
      "display_name": "Python 3",
      "name": "python3"
    },
    "language_info": {
      "name": "python"
    }
  },
  "cells": [
    {
      "cell_type": "code",
      "metadata": {
        "id": "on7bZVFADcro"
      },
      "source": [
        "from google.colab import drive\n",
        "\n",
        "drive.mount(\"/content/drive\")"
      ],
      "execution_count": null,
      "outputs": []
    },
    {
      "cell_type": "code",
      "metadata": {
        "id": "x3NlSKlXDih4"
      },
      "source": [
        "import sys, os, re, csv, codecs, numpy as np, pandas as pd\n",
        "\n",
        "from keras.preprocessing.text import Tokenizer\n",
        "from keras.preprocessing.sequence import pad_sequences\n",
        "from keras.layers import Dense, Input, LSTM, Embedding, Dropout, Activation\n",
        "from keras.layers import Bidirectional, GlobalMaxPool1D\n",
        "from keras.models import Model\n",
        "from keras import initializers, regularizers, constraints, optimizers, layers\n",
        "import pandas as pd\n",
        "import numpy as np\n",
        "import math\n",
        "from keras.preprocessing.text import Tokenizer\n",
        "from keras.preprocessing import text, sequence\n",
        "from keras.layers import Embedding, Dense, LSTM, Dense, Input, concatenate\n",
        "from keras.models import Model\n",
        "import tensorflow as tf\n",
        "from keras.preprocessing import text, sequence\n",
        "from keras.preprocessing.text import Tokenizer\n",
        "from keras.preprocessing.sequence import pad_sequences\n",
        "import datetime\n",
        "from sklearn.model_selection import train_test_split"
      ],
      "execution_count": null,
      "outputs": []
    },
    {
      "cell_type": "code",
      "metadata": {
        "id": "IVEg7NAzDtDb"
      },
      "source": [
        "embed_size = 50 \n",
        "max_features = 20000 \n",
        "maxlen = 250 "
      ],
      "execution_count": null,
      "outputs": []
    },
    {
      "cell_type": "code",
      "metadata": {
        "id": "e0cf-_tCDtAw"
      },
      "source": [
        "df_final_temp=pd.read_csv(\"/content/drive/MyDrive/SAAS-2121/Datasets/mini_datasets/final_dataset.csv\")\n",
        "\n",
        "categorywise_data = df_final_temp[['genuine','social_spambot_1','social_spambot_2', 'social_spambot_3','traditional_spambot','fake_followers']] \n",
        "counts_category = []                                              \n",
        "categories = list(categorywise_data.columns.values)\n",
        "for i in categories:\n",
        "    counts_category.append((i, categorywise_data[i].sum()))\n",
        "    \n",
        "dataframe = pd.DataFrame(counts_category, columns=['Labels', 'number_of_comments'])\n",
        "\n",
        "EMBEDDING_FILE = '/content/drive/MyDrive/SAAS-2121/Bot_Ranking_Code/Hate_Speech_Detection/glove.6B.50d.txt'\n",
        "del df_final_temp[\"Unnamed: 0\"]\n",
        "\n",
        "df_final_temp=df_final_temp.drop_duplicates(subset='text')"
      ],
      "execution_count": null,
      "outputs": []
    },
    {
      "cell_type": "code",
      "metadata": {
        "id": "ep2gv4UVDs9C"
      },
      "source": [
        "def remove_urls(string):\n",
        "    urls=re.compile(r'(?:http|ftp|https)://(?:[\\w_-]+(?:(?:\\.[\\w_-]+)+))(?:[\\w.,@?^=%&:/~+#-]*[\\w@?^=%&/~+#-])?')\n",
        "    for url in re.findall(urls, string):\n",
        "      string=re.sub(url, \"<URL>\", string)\n",
        "    \n",
        "    return string\n",
        "\n",
        "def remove_tags(string):\n",
        "    tags=re.compile(r'(^|[^@\\w])@(\\w{1,15})\\b')\n",
        "    for tag in re.findall(tags, string):\n",
        "      account_name='@'+tag[1]\n",
        "      string=re.sub(account_name, \"<ACCOUNT>\", string)\n",
        "  \n",
        "    return string\n",
        "\n",
        "def clean_tweets(tweets):\n",
        "  tweets_without_urls_and_tags = []\n",
        "  for tweet in list(tweets):\n",
        "    try:\n",
        "      tweet_without_urls_and_tags = remove_tags(remove_urls(tweet))\n",
        "      tweets_without_urls_and_tags.append(tweet_without_urls_and_tags)\n",
        "    except:\n",
        "      tweet=''\n",
        "      tweets_without_urls_and_tags.append(tweet)\n",
        "\n",
        "  return tweets_without_urls_and_tags\n"
      ],
      "execution_count": null,
      "outputs": []
    },
    {
      "cell_type": "code",
      "metadata": {
        "colab": {
          "base_uri": "https://localhost:8080/",
          "height": 484
        },
        "id": "092MGeHCDsx1",
        "outputId": "e85295ac-6bf1-425e-fa26-93b3c493a0cd"
      },
      "source": [
        "## cleaning the tweets, renaming and reordering columns \n",
        "df_final_temp['cleaned_tweets'] = clean_tweets(df_final_temp['text'])\n",
        "df_final_temp.drop('text', axis=1, inplace=True)\n",
        "df_final_temp.rename(columns={\"cleaned_tweets\":\"text\"}, inplace=True)\n",
        "cols = df_final_temp.columns.tolist()\n",
        "cols = cols[-1:] + cols[:-1]\n",
        "df_final_temp = df_final_temp[cols]\n",
        "df_final_temp"
      ],
      "execution_count": null,
      "outputs": [
        {
          "data": {
            "text/html": [
              "<div>\n",
              "<style scoped>\n",
              "    .dataframe tbody tr th:only-of-type {\n",
              "        vertical-align: middle;\n",
              "    }\n",
              "\n",
              "    .dataframe tbody tr th {\n",
              "        vertical-align: top;\n",
              "    }\n",
              "\n",
              "    .dataframe thead th {\n",
              "        text-align: right;\n",
              "    }\n",
              "</style>\n",
              "<table border=\"1\" class=\"dataframe\">\n",
              "  <thead>\n",
              "    <tr style=\"text-align: right;\">\n",
              "      <th></th>\n",
              "      <th>text</th>\n",
              "      <th>genuine</th>\n",
              "      <th>social_spambot_1</th>\n",
              "      <th>social_spambot_2</th>\n",
              "      <th>social_spambot_3</th>\n",
              "      <th>traditional_spambot</th>\n",
              "      <th>fake_followers</th>\n",
              "    </tr>\n",
              "  </thead>\n",
              "  <tbody>\n",
              "    <tr>\n",
              "      <th>0</th>\n",
              "      <td>RT &lt;ACCOUNT&gt;: #KaptaanKhanOnGeo</td>\n",
              "      <td>1</td>\n",
              "      <td>0</td>\n",
              "      <td>0</td>\n",
              "      <td>0</td>\n",
              "      <td>0</td>\n",
              "      <td>0</td>\n",
              "    </tr>\n",
              "    <tr>\n",
              "      <th>5</th>\n",
              "      <td>Brain fitness seen as hot industry of the futu...</td>\n",
              "      <td>0</td>\n",
              "      <td>0</td>\n",
              "      <td>0</td>\n",
              "      <td>0</td>\n",
              "      <td>1</td>\n",
              "      <td>0</td>\n",
              "    </tr>\n",
              "    <tr>\n",
              "      <th>6</th>\n",
              "      <td>\"'Twas the Night After Edmund\" available on IT...</td>\n",
              "      <td>0</td>\n",
              "      <td>0</td>\n",
              "      <td>0</td>\n",
              "      <td>0</td>\n",
              "      <td>0</td>\n",
              "      <td>1</td>\n",
              "    </tr>\n",
              "    <tr>\n",
              "      <th>8</th>\n",
              "      <td>Chuva chata tudo praga do &lt;ACCOUNT&gt;</td>\n",
              "      <td>0</td>\n",
              "      <td>0</td>\n",
              "      <td>0</td>\n",
              "      <td>0</td>\n",
              "      <td>0</td>\n",
              "      <td>1</td>\n",
              "    </tr>\n",
              "    <tr>\n",
              "      <th>16</th>\n",
              "      <td>Flood-hit town gets safety support - &lt;URL&gt;</td>\n",
              "      <td>0</td>\n",
              "      <td>0</td>\n",
              "      <td>0</td>\n",
              "      <td>0</td>\n",
              "      <td>1</td>\n",
              "      <td>0</td>\n",
              "    </tr>\n",
              "    <tr>\n",
              "      <th>...</th>\n",
              "      <td>...</td>\n",
              "      <td>...</td>\n",
              "      <td>...</td>\n",
              "      <td>...</td>\n",
              "      <td>...</td>\n",
              "      <td>...</td>\n",
              "      <td>...</td>\n",
              "    </tr>\n",
              "    <tr>\n",
              "      <th>210408</th>\n",
              "      <td>I don't think going through all his fetus musi...</td>\n",
              "      <td>0</td>\n",
              "      <td>0</td>\n",
              "      <td>1</td>\n",
              "      <td>0</td>\n",
              "      <td>0</td>\n",
              "      <td>0</td>\n",
              "    </tr>\n",
              "    <tr>\n",
              "      <th>210415</th>\n",
              "      <td>My lrt&amp;amp;quote thats just like me!</td>\n",
              "      <td>0</td>\n",
              "      <td>0</td>\n",
              "      <td>1</td>\n",
              "      <td>0</td>\n",
              "      <td>0</td>\n",
              "      <td>0</td>\n",
              "    </tr>\n",
              "    <tr>\n",
              "      <th>210423</th>\n",
              "      <td>kiwi doesn't know what a penis is</td>\n",
              "      <td>0</td>\n",
              "      <td>0</td>\n",
              "      <td>1</td>\n",
              "      <td>0</td>\n",
              "      <td>0</td>\n",
              "      <td>0</td>\n",
              "    </tr>\n",
              "    <tr>\n",
              "      <th>210434</th>\n",
              "      <td>don't keep askin for my advice if you don't li...</td>\n",
              "      <td>0</td>\n",
              "      <td>0</td>\n",
              "      <td>1</td>\n",
              "      <td>0</td>\n",
              "      <td>0</td>\n",
              "      <td>0</td>\n",
              "    </tr>\n",
              "    <tr>\n",
              "      <th>210435</th>\n",
              "      <td>Read the History of the Stylistics  &lt;URL&gt;</td>\n",
              "      <td>0</td>\n",
              "      <td>0</td>\n",
              "      <td>0</td>\n",
              "      <td>1</td>\n",
              "      <td>0</td>\n",
              "      <td>0</td>\n",
              "    </tr>\n",
              "  </tbody>\n",
              "</table>\n",
              "<p>38925 rows × 7 columns</p>\n",
              "</div>"
            ],
            "text/plain": [
              "                                                     text  ...  fake_followers\n",
              "0                         RT <ACCOUNT>: #KaptaanKhanOnGeo  ...               0\n",
              "5       Brain fitness seen as hot industry of the futu...  ...               0\n",
              "6       \"'Twas the Night After Edmund\" available on IT...  ...               1\n",
              "8                     Chuva chata tudo praga do <ACCOUNT>  ...               1\n",
              "16             Flood-hit town gets safety support - <URL>  ...               0\n",
              "...                                                   ...  ...             ...\n",
              "210408  I don't think going through all his fetus musi...  ...               0\n",
              "210415               My lrt&amp;quote thats just like me!  ...               0\n",
              "210423                  kiwi doesn't know what a penis is  ...               0\n",
              "210434  don't keep askin for my advice if you don't li...  ...               0\n",
              "210435          Read the History of the Stylistics  <URL>  ...               0\n",
              "\n",
              "[38925 rows x 7 columns]"
            ]
          },
          "execution_count": 5,
          "metadata": {},
          "output_type": "execute_result"
        }
      ]
    },
    {
      "cell_type": "code",
      "metadata": {
        "id": "RIDThd55DsqM"
      },
      "source": [
        "train, test = train_test_split(df_final_temp, test_size=0.2)"
      ],
      "execution_count": null,
      "outputs": []
    },
    {
      "cell_type": "code",
      "metadata": {
        "id": "Wmhvtb4fDslK"
      },
      "source": [
        "train_x=train[\"text\"]\n",
        "test_x=test[\"text\"]\n",
        "train_x = train['text'].str.lower()\n",
        "test_x = test['text'].str.lower()"
      ],
      "execution_count": null,
      "outputs": []
    },
    {
      "cell_type": "code",
      "metadata": {
        "id": "lVuvTLXEDsfu"
      },
      "source": [
        "train_y = train[['genuine','social_spambot_1','social_spambot_2', 'social_spambot_3','traditional_spambot','fake_followers']].values\n",
        "test_y=test[['genuine','social_spambot_1','social_spambot_2', 'social_spambot_3','traditional_spambot','fake_followers']].values\n",
        "df_final_temp=df_final_temp.applymap(str)"
      ],
      "execution_count": null,
      "outputs": []
    },
    {
      "cell_type": "code",
      "metadata": {
        "id": "bCS2M5BCDsa2"
      },
      "source": [
        "list_sentences_train=train_x\n",
        "list_sentences_test =test_x"
      ],
      "execution_count": null,
      "outputs": []
    },
    {
      "cell_type": "code",
      "metadata": {
        "id": "WnTtReo_DsQP"
      },
      "source": [
        "tokenizer = Tokenizer(num_words=max_features)\n",
        "tokenizer.fit_on_texts(list(list_sentences_train))\n",
        "list_tokenized_train = tokenizer.texts_to_sequences(list_sentences_train)\n",
        "list_tokenized_test = tokenizer.texts_to_sequences(list_sentences_test)\n",
        "X_t = pad_sequences(list_tokenized_train, maxlen=maxlen)\n",
        "X_te = pad_sequences(list_tokenized_test, maxlen=maxlen)"
      ],
      "execution_count": null,
      "outputs": []
    },
    {
      "cell_type": "code",
      "metadata": {
        "id": "jN32D2SAJlOf"
      },
      "source": [
        "def get_coefs(word,*arr): return word, np.asarray(arr, dtype='float32')\n",
        "embeddings_index = dict(get_coefs(*o.strip().split()) for o in open(EMBEDDING_FILE))"
      ],
      "execution_count": null,
      "outputs": []
    },
    {
      "cell_type": "code",
      "metadata": {
        "colab": {
          "base_uri": "https://localhost:8080/"
        },
        "id": "cd3EVzFBJlKU",
        "outputId": "19ac8cbe-ce30-434b-fcd9-b6e6e688a19c"
      },
      "source": [
        "all_embs = np.stack(embeddings_index.values())\n",
        "emb_mean,emb_std = all_embs.mean(), all_embs.std()\n",
        "emb_mean,emb_std"
      ],
      "execution_count": null,
      "outputs": [
        {
          "name": "stderr",
          "output_type": "stream",
          "text": [
            "/usr/local/lib/python3.7/dist-packages/IPython/core/interactiveshell.py:2822: FutureWarning: arrays to stack must be passed as a \"sequence\" type such as list or tuple. Support for non-sequence iterables such as generators is deprecated as of NumPy 1.16 and will raise an error in the future.\n",
            "  if self.run_code(code, result):\n"
          ]
        },
        {
          "data": {
            "text/plain": [
              "(0.020940498, 0.6441043)"
            ]
          },
          "execution_count": 12,
          "metadata": {},
          "output_type": "execute_result"
        }
      ]
    },
    {
      "cell_type": "code",
      "metadata": {
        "id": "ee_ddWB8JlGQ"
      },
      "source": [
        "word_index = tokenizer.word_index\n",
        "nb_words = min(max_features, len(word_index))\n",
        "embedding_matrix = np.random.normal(emb_mean, emb_std, (nb_words, embed_size))\n",
        "for word, i in word_index.items():\n",
        "    if i >= max_features: continue\n",
        "    embedding_vector = embeddings_index.get(word)\n",
        "    if embedding_vector is not None: embedding_matrix[i] = embedding_vector"
      ],
      "execution_count": null,
      "outputs": []
    },
    {
      "cell_type": "code",
      "metadata": {
        "colab": {
          "base_uri": "https://localhost:8080/"
        },
        "id": "6Vf21Gu0JlBx",
        "outputId": "b54c9b19-9b09-43a8-eb08-68d22e213b48"
      },
      "source": [
        "inp = Input(shape=(maxlen,))\n",
        "x = Embedding(max_features, embed_size, weights=[embedding_matrix])(inp)\n",
        "x = Bidirectional(LSTM(50, return_sequences=True, dropout=0.1, recurrent_dropout=0.1))(x)\n",
        "x = GlobalMaxPool1D()(x)\n",
        "x = Dense(50, activation=\"relu\")(x)\n",
        "x = Dropout(0.1)(x)\n",
        "x = Dense(6, activation=\"sigmoid\")(x)\n",
        "model = Model(inputs=inp, outputs=x)\n",
        "model.compile(loss='binary_crossentropy', optimizer='adam', metrics=['accuracy'])"
      ],
      "execution_count": null,
      "outputs": [
        {
          "name": "stdout",
          "output_type": "stream",
          "text": [
            "WARNING:tensorflow:Layer lstm will not use cuDNN kernels since it doesn't meet the criteria. It will use a generic GPU kernel as fallback when running on GPU.\n",
            "WARNING:tensorflow:Layer lstm will not use cuDNN kernels since it doesn't meet the criteria. It will use a generic GPU kernel as fallback when running on GPU.\n",
            "WARNING:tensorflow:Layer lstm will not use cuDNN kernels since it doesn't meet the criteria. It will use a generic GPU kernel as fallback when running on GPU.\n"
          ]
        }
      ]
    },
    {
      "cell_type": "code",
      "metadata": {
        "colab": {
          "background_save": true,
          "base_uri": "https://localhost:8080/",
          "height": 337
        },
        "id": "PIu4CLSPJk9L",
        "outputId": "b4670bd3-f3ab-415d-d72d-f059065faccc"
      },
      "source": [
        "model.fit(X_t, train_y, batch_size=32, epochs=2, validation_split=0.1);"
      ],
      "execution_count": null,
      "outputs": [
        {
          "name": "stdout",
          "output_type": "stream",
          "text": [
            "Epoch 1/2\n",
            "876/876 [==============================] - 512s 578ms/step - loss: 0.2694 - accuracy: 0.6207 - val_loss: 0.2114 - val_accuracy: 0.7052\n",
            "Epoch 2/2\n",
            "876/876 [==============================] - 513s 585ms/step - loss: 0.1919 - accuracy: 0.7401 - val_loss: 0.1809 - val_accuracy: 0.7624\n"
          ]
        }
      ]
    },
    {
      "cell_type": "code",
      "metadata": {
        "colab": {
          "base_uri": "https://localhost:8080/",
          "height": 313
        },
        "id": "GvjDPC7QOn7y",
        "outputId": "824cdd20-517c-4d15-ddac-169365c8cefe"
      },
      "source": [
        "df_geuine=pd.read_csv(\"/content/drive/MyDrive/SAAS-2121/Datasets/datasets_full.csv/genuine_accounts.csv/tweets.csv\", error_bad_lines=False)\n",
        "df_social_1=pd.read_csv(\"/content/drive/MyDrive/SAAS-2121/Datasets/datasets_full.csv/social_spambots_1.csv/tweets.csv\", error_bad_lines=False)\n",
        "df_social_2=pd.read_csv(\"/content/drive/MyDrive/SAAS-2121/Datasets/datasets_full.csv/social_spambots_2.csv/tweets.csv\", error_bad_lines=False)\n",
        "df_social_3=pd.read_csv(\"/content/drive/MyDrive/SAAS-2121/Datasets/datasets_full.csv/social_spambots_3.csv/tweets.csv\", error_bad_lines=False)\n",
        "df_traditional=pd.read_csv(\"/content/drive/MyDrive/SAAS-2121/Datasets/datasets_full.csv/traditional_spambots_1.csv/tweets.csv\", error_bad_lines=False)\n",
        "df_fake_followers=pd.read_csv(\"/content/drive/MyDrive/SAAS-2121/Datasets/datasets_full.csv/fake_followers.csv/tweets.csv\", error_bad_lines=False)\n"
      ],
      "execution_count": null,
      "outputs": [
        {
          "output_type": "error",
          "ename": "NameError",
          "evalue": "ignored",
          "traceback": [
            "\u001b[0;31m---------------------------------------------------------------------------\u001b[0m",
            "\u001b[0;31mNameError\u001b[0m                                 Traceback (most recent call last)",
            "\u001b[0;32m<ipython-input-2-f47c1ab4975b>\u001b[0m in \u001b[0;36m<module>\u001b[0;34m()\u001b[0m\n\u001b[0;32m----> 1\u001b[0;31m \u001b[0mdf_geuine\u001b[0m\u001b[0;34m=\u001b[0m\u001b[0mpd\u001b[0m\u001b[0;34m.\u001b[0m\u001b[0mread_csv\u001b[0m\u001b[0;34m(\u001b[0m\u001b[0;34m\"/content/drive/MyDrive/SAAS-2121/Datasets/datasets_full.csv/genuine_accounts.csv/tweets.csv\"\u001b[0m\u001b[0;34m,\u001b[0m \u001b[0merror_bad_lines\u001b[0m\u001b[0;34m=\u001b[0m\u001b[0;32mFalse\u001b[0m\u001b[0;34m)\u001b[0m\u001b[0;34m\u001b[0m\u001b[0;34m\u001b[0m\u001b[0m\n\u001b[0m\u001b[1;32m      2\u001b[0m \u001b[0mdf_social_1\u001b[0m\u001b[0;34m=\u001b[0m\u001b[0mpd\u001b[0m\u001b[0;34m.\u001b[0m\u001b[0mread_csv\u001b[0m\u001b[0;34m(\u001b[0m\u001b[0;34m\"/content/drive/MyDrive/SAAS-2121/Datasets/datasets_full.csv/social_spambots_1.csv/tweets.csv\"\u001b[0m\u001b[0;34m,\u001b[0m \u001b[0merror_bad_lines\u001b[0m\u001b[0;34m=\u001b[0m\u001b[0;32mFalse\u001b[0m\u001b[0;34m)\u001b[0m\u001b[0;34m\u001b[0m\u001b[0;34m\u001b[0m\u001b[0m\n\u001b[1;32m      3\u001b[0m \u001b[0mdf_social_2\u001b[0m\u001b[0;34m=\u001b[0m\u001b[0mpd\u001b[0m\u001b[0;34m.\u001b[0m\u001b[0mread_csv\u001b[0m\u001b[0;34m(\u001b[0m\u001b[0;34m\"/content/drive/MyDrive/SAAS-2121/Datasets/datasets_full.csv/social_spambots_2.csv/tweets.csv\"\u001b[0m\u001b[0;34m,\u001b[0m \u001b[0merror_bad_lines\u001b[0m\u001b[0;34m=\u001b[0m\u001b[0;32mFalse\u001b[0m\u001b[0;34m)\u001b[0m\u001b[0;34m\u001b[0m\u001b[0;34m\u001b[0m\u001b[0m\n\u001b[1;32m      4\u001b[0m \u001b[0mdf_social_3\u001b[0m\u001b[0;34m=\u001b[0m\u001b[0mpd\u001b[0m\u001b[0;34m.\u001b[0m\u001b[0mread_csv\u001b[0m\u001b[0;34m(\u001b[0m\u001b[0;34m\"/content/drive/MyDrive/SAAS-2121/Datasets/datasets_full.csv/social_spambots_3.csv/tweets.csv\"\u001b[0m\u001b[0;34m,\u001b[0m \u001b[0merror_bad_lines\u001b[0m\u001b[0;34m=\u001b[0m\u001b[0;32mFalse\u001b[0m\u001b[0;34m)\u001b[0m\u001b[0;34m\u001b[0m\u001b[0;34m\u001b[0m\u001b[0m\n\u001b[1;32m      5\u001b[0m \u001b[0mdf_traditional\u001b[0m\u001b[0;34m=\u001b[0m\u001b[0mpd\u001b[0m\u001b[0;34m.\u001b[0m\u001b[0mread_csv\u001b[0m\u001b[0;34m(\u001b[0m\u001b[0;34m\"/content/drive/MyDrive/SAAS-2121/Datasets/datasets_full.csv/traditional_spambots_1.csv/tweets.csv\"\u001b[0m\u001b[0;34m,\u001b[0m \u001b[0merror_bad_lines\u001b[0m\u001b[0;34m=\u001b[0m\u001b[0;32mFalse\u001b[0m\u001b[0;34m)\u001b[0m\u001b[0;34m\u001b[0m\u001b[0;34m\u001b[0m\u001b[0m\n",
            "\u001b[0;31mNameError\u001b[0m: name 'pd' is not defined"
          ]
        }
      ]
    },
    {
      "cell_type": "code",
      "metadata": {
        "id": "A6bOUcHIQndp"
      },
      "source": [
        ""
      ],
      "execution_count": null,
      "outputs": []
    },
    {
      "cell_type": "code",
      "metadata": {
        "id": "9JhUYIKcRdB_"
      },
      "source": [
        "df_genuine_part=pd.DataFrame()\n",
        "df_genuine_part[\"text\"]=df_geuine[\"RT @morningJewshow: Speaking about Jews and comedy tonight at Temple Emanu-El in San Francisco. In other words, my High Holidays.\"]\n",
        "df_genuine_part[\"genuine\"]=1\n",
        "df_genuine_part[\"social_spambot_1\"]=0\n",
        "df_genuine_part[\"social_spambot_2\"]=0\n",
        "df_genuine_part[\"social_spambot_3\"]=0\n",
        "df_genuine_part[\"traditional_spambot\"]=0\n",
        "df_genuine_part[\"fake_followers\"]=0"
      ],
      "execution_count": null,
      "outputs": []
    },
    {
      "cell_type": "code",
      "metadata": {
        "id": "FMYrnPH9R61f"
      },
      "source": [
        "df_social_1_part=pd.DataFrame()\n",
        "df_social_1_part[\"text\"]=df_social_1[\"text\"]\n",
        "df_social_1_part[\"genuine\"]=0\n",
        "df_social_1_part[\"social_spambot_1\"]=1\n",
        "df_social_1_part[\"social_spambot_2\"]=0\n",
        "df_social_1_part[\"social_spambot_3\"]=0\n",
        "df_social_1_part[\"traditional_spambot\"]=0\n",
        "df_social_1_part[\"fake_followers\"]=0"
      ],
      "execution_count": null,
      "outputs": []
    },
    {
      "cell_type": "code",
      "metadata": {
        "id": "tsXMOy87Se-X"
      },
      "source": [
        "df_social_1_part=pd.DataFrame()\n",
        "df_social_2_part[\"text\"]=df_social_2[\"text\"]\n",
        "df_social_2_part[\"genuine\"]=0\n",
        "df_social_2_part[\"social_spambot_1\"]=0\n",
        "df_social_2_part[\"social_spambot_2\"]=1\n",
        "df_social_2_part[\"social_spambot_3\"]=0\n",
        "df_social_2_part[\"traditional_spambot\"]=0\n",
        "df_social_2_part[\"fake_followers\"]=0"
      ],
      "execution_count": null,
      "outputs": []
    },
    {
      "cell_type": "code",
      "metadata": {
        "id": "TONtNU-GToQy"
      },
      "source": [
        "df_social_3_part=pd.DataFrame()\n",
        "df_social_3_part[\"text\"]=df_social_3[\"text\"]\n",
        "df_social_3_part[\"genuine\"]=0\n",
        "df_social_3_part[\"social_spambot_1\"]=0\n",
        "df_social_3_part[\"social_spambot_2\"]=0\n",
        "df_social_3_part[\"social_spambot_3\"]=1\n",
        "df_social_3_part[\"traditional_spambot\"]=0\n",
        "df_social_3_part[\"fake_followers\"]=0"
      ],
      "execution_count": null,
      "outputs": []
    },
    {
      "cell_type": "code",
      "metadata": {
        "id": "JloZBVo0TuVQ"
      },
      "source": [
        "df_traditional_part=pd.DataFrame()\n",
        "df_traditional_part[\"text\"]=df_traditional[\"text\"]\n",
        "df_traditional_part[\"genuine\"]=0\n",
        "df_traditional_part[\"social_spambot_1\"]=0\n",
        "df_traditional_part[\"social_spambot_2\"]=0\n",
        "df_traditional_part[\"social_spambot_3\"]=0\n",
        "df_traditional_part[\"traditional_spambot\"]=1\n",
        "df_traditional_part[\"fake_followers\"]=0"
      ],
      "execution_count": null,
      "outputs": []
    },
    {
      "cell_type": "code",
      "metadata": {
        "id": "DFTuaMDZTvTR"
      },
      "source": [
        "df_fake_followers_part=pd.DataFrame()\n",
        "df_fake_followers_part[\"text\"]=df_fake_followers[\"text\"]\n",
        "df_fake_followers_part[\"genuine\"]=0\n",
        "df_fake_followers_part[\"social_spambot_1\"]=0\n",
        "df_fake_followers_part[\"social_spambot_2\"]=0\n",
        "df_fake_followers_part[\"social_spambot_3\"]=0\n",
        "df_fake_followers_part[\"traditional_spambot\"]=0\n",
        "df_fake_followers_part[\"fake_followers\"]=1"
      ],
      "execution_count": null,
      "outputs": []
    },
    {
      "cell_type": "code",
      "metadata": {
        "id": "Xi8UUlKNTvLT"
      },
      "source": [
        "\"\"\"df_genuine_part.to_csv(\"genuine_full.csv\")\n",
        "df_social_1_part.to_csv(\"socialspam_1_full.csv\")\n",
        "df_social_2_part.to_csv(\"socialspam_2_full.csv\")\n",
        "df_social_3_part.to_csv(\"socialspam_3_full.csv\")\n",
        "df_traditional_part.to_csv(\"traditional_full.csv\")\n",
        "df_fake_followers_part.to_csv(\"fakefollowers_full.csv\")\"\"\"\n",
        "df_genuine_part=pd.read_csv(\"/content/drive/MyDrive/SAAS-2121/Datasets/tweet_level dataset/genuine_full.csv\",engine='python')\n",
        "df_social_1_part=pd.read_csv(\"/content/drive/MyDrive/SAAS-2121/Datasets/tweet_level dataset/socialspam_1_full.csv\",engine='python')\n",
        "df_social_2_part=pd.read_csv(\"/content/drive/MyDrive/SAAS-2121/Datasets/tweet_level dataset/socialspam_2_full.csv\",engine='python')\n",
        "df_social_3_part=pd.read_csv(\"/content/drive/MyDrive/SAAS-2121/Datasets/tweet_level dataset/socialspam_3_full.csv\",engine='python')\n",
        "df_traditional_part=pd.read_csv(\"/content/drive/MyDrive/SAAS-2121/Datasets/tweet_level dataset/traditional_full.csv\",engine='python')\n",
        "df_fake_followers_part=pd.read_csv(\"/content/drive/MyDrive/SAAS-2121/Datasets/tweet_level dataset/fakefollowers_full.csv\",engine='python')"
      ],
      "execution_count": null,
      "outputs": []
    },
    {
      "cell_type": "code",
      "metadata": {
        "id": "X3BluiQLURij"
      },
      "source": [
        "final_tweet_dataset=pd.DataFrame()"
      ],
      "execution_count": null,
      "outputs": []
    },
    {
      "cell_type": "code",
      "metadata": {
        "id": "8xjhYtajVuMJ"
      },
      "source": [
        "final_tweet_dataset=final_tweet_dataset.append(df_genuine_part)\n",
        "final_tweet_dataset=final_tweet_dataset.append(df_social_1_part)\n",
        "final_tweet_dataset=final_tweet_dataset.append(df_social_2_part)\n",
        "final_tweet_dataset=final_tweet_dataset.append(df_social_3_part)\n",
        "final_tweet_dataset=final_tweet_dataset.append(df_traditional_part)\n",
        "final_tweet_dataset=final_tweet_dataset.append(df_fake_followers_part)"
      ],
      "execution_count": null,
      "outputs": []
    },
    {
      "cell_type": "code",
      "metadata": {
        "id": "7t9FUaJUWLB5"
      },
      "source": [
        ""
      ],
      "execution_count": null,
      "outputs": []
    }
  ]
}