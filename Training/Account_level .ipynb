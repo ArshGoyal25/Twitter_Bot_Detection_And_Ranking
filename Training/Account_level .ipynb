{
  "nbformat": 4,
  "nbformat_minor": 0,
  "metadata": {
    "colab": {
      "name": "Account_level.ipynb",
      "provenance": [],
      "collapsed_sections": []
    },
    "kernelspec": {
      "name": "python3",
      "display_name": "Python 3"
    },
    "language_info": {
      "name": "python"
    }
  },
  "cells": [
    {
      "cell_type": "code",
      "metadata": {
        "id": "W7-PoPhhhl6_",
        "colab": {
          "base_uri": "https://localhost:8080/"
        },
        "outputId": "e71e7016-74b4-4db4-e688-08691a1ba250"
      },
      "source": [
        "import pandas as pd\n",
        "import numpy as np\n",
        "import math\n",
        "from keras.layers import Embedding, Dense, LSTM, Dense, Input, concatenate\n",
        "from keras.models import Model\n",
        "import tensorflow as tf\n",
        "from keras.preprocessing.text import Tokenizer\n",
        "from keras.preprocessing.sequence import pad_sequences\n",
        "import datetime\n",
        "from keras.regularizers import l2\n",
        "from keras.models import load_model\n",
        "from google.colab import drive\n",
        "drive.mount(\"/content/drive\")"
      ],
      "execution_count": null,
      "outputs": [
        {
          "output_type": "stream",
          "name": "stdout",
          "text": [
            "Mounted at /content/drive\n"
          ]
        }
      ]
    },
    {
      "cell_type": "markdown",
      "metadata": {
        "id": "89Dat9WsXjYn"
      },
      "source": [
        "# **Stacking all the diffrent types of bot accounts(social spambots 1,social spambots 2,social spam bots 3) into one single Dataframe for easy processing**\n"
      ]
    },
    {
      "cell_type": "code",
      "metadata": {
        "id": "jffUNtrwmzzC"
      },
      "source": [
        "bot_accounts = pd.concat([pd.read_csv('/content/drive/MyDrive/SAAS-2121/Datasets/account_level dataset/users 1.csv'),\n",
        "                          pd.read_csv('/content/drive/MyDrive/SAAS-2121/Datasets/account_level dataset/users 2.csv'), \n",
        "                          pd.read_csv('/content/drive/MyDrive/SAAS-2121/Datasets/account_level dataset/users 3.csv')]).reset_index(drop=True)"
      ],
      "execution_count": null,
      "outputs": []
    },
    {
      "cell_type": "code",
      "metadata": {
        "id": "cdT_OdfFpRE7"
      },
      "source": [
        ""
      ],
      "execution_count": null,
      "outputs": []
    },
    {
      "cell_type": "code",
      "metadata": {
        "id": "4RIEmt2lpQyk"
      },
      "source": [
        ""
      ],
      "execution_count": null,
      "outputs": []
    },
    {
      "cell_type": "code",
      "metadata": {
        "colab": {
          "base_uri": "https://localhost:8080/",
          "height": 391
        },
        "id": "Udi9NllgYh2g",
        "outputId": "d9fa97a7-2e16-4ec6-f2c5-d3c03e7f3ff5"
      },
      "source": [
        "bot_accounts.head()"
      ],
      "execution_count": null,
      "outputs": [
        {
          "output_type": "execute_result",
          "data": {
            "text/html": [
              "<div>\n",
              "<style scoped>\n",
              "    .dataframe tbody tr th:only-of-type {\n",
              "        vertical-align: middle;\n",
              "    }\n",
              "\n",
              "    .dataframe tbody tr th {\n",
              "        vertical-align: top;\n",
              "    }\n",
              "\n",
              "    .dataframe thead th {\n",
              "        text-align: right;\n",
              "    }\n",
              "</style>\n",
              "<table border=\"1\" class=\"dataframe\">\n",
              "  <thead>\n",
              "    <tr style=\"text-align: right;\">\n",
              "      <th></th>\n",
              "      <th>id</th>\n",
              "      <th>name</th>\n",
              "      <th>screen_name</th>\n",
              "      <th>statuses_count</th>\n",
              "      <th>followers_count</th>\n",
              "      <th>friends_count</th>\n",
              "      <th>favourites_count</th>\n",
              "      <th>listed_count</th>\n",
              "      <th>url</th>\n",
              "      <th>lang</th>\n",
              "      <th>time_zone</th>\n",
              "      <th>location</th>\n",
              "      <th>default_profile</th>\n",
              "      <th>default_profile_image</th>\n",
              "      <th>geo_enabled</th>\n",
              "      <th>profile_image_url</th>\n",
              "      <th>profile_banner_url</th>\n",
              "      <th>profile_use_background_image</th>\n",
              "      <th>profile_background_image_url_https</th>\n",
              "      <th>profile_text_color</th>\n",
              "      <th>profile_image_url_https</th>\n",
              "      <th>profile_sidebar_border_color</th>\n",
              "      <th>profile_background_tile</th>\n",
              "      <th>profile_sidebar_fill_color</th>\n",
              "      <th>profile_background_image_url</th>\n",
              "      <th>profile_background_color</th>\n",
              "      <th>profile_link_color</th>\n",
              "      <th>utc_offset</th>\n",
              "      <th>is_translator</th>\n",
              "      <th>follow_request_sent</th>\n",
              "      <th>protected</th>\n",
              "      <th>verified</th>\n",
              "      <th>notifications</th>\n",
              "      <th>description</th>\n",
              "      <th>contributors_enabled</th>\n",
              "      <th>following</th>\n",
              "      <th>created_at</th>\n",
              "      <th>timestamp</th>\n",
              "      <th>crawled_at</th>\n",
              "      <th>updated</th>\n",
              "      <th>test_set_1</th>\n",
              "      <th>test_set_2</th>\n",
              "    </tr>\n",
              "  </thead>\n",
              "  <tbody>\n",
              "    <tr>\n",
              "      <th>0</th>\n",
              "      <td>24858289</td>\n",
              "      <td>Davide Bertoli</td>\n",
              "      <td>davideb66</td>\n",
              "      <td>1299</td>\n",
              "      <td>22</td>\n",
              "      <td>40</td>\n",
              "      <td>1</td>\n",
              "      <td>0</td>\n",
              "      <td>NaN</td>\n",
              "      <td>it</td>\n",
              "      <td>Rome</td>\n",
              "      <td>NaN</td>\n",
              "      <td>1.0</td>\n",
              "      <td>1.0</td>\n",
              "      <td>1.0</td>\n",
              "      <td>http://abs.twimg.com/sticky/default_profile_im...</td>\n",
              "      <td>NaN</td>\n",
              "      <td>1.0</td>\n",
              "      <td>https://abs.twimg.com/images/themes/theme1/bg.png</td>\n",
              "      <td>333333</td>\n",
              "      <td>https://abs.twimg.com/sticky/default_profile_i...</td>\n",
              "      <td>C0DEED</td>\n",
              "      <td>NaN</td>\n",
              "      <td>DDEEF6</td>\n",
              "      <td>http://abs.twimg.com/images/themes/theme1/bg.png</td>\n",
              "      <td>C0DEED</td>\n",
              "      <td>0084B4</td>\n",
              "      <td>7200.0</td>\n",
              "      <td>NaN</td>\n",
              "      <td>NaN</td>\n",
              "      <td>NaN</td>\n",
              "      <td>NaN</td>\n",
              "      <td>NaN</td>\n",
              "      <td>NaN</td>\n",
              "      <td>NaN</td>\n",
              "      <td>NaN</td>\n",
              "      <td>Tue Mar 17 08:51:12 +0000 2009</td>\n",
              "      <td>2009-03-17 09:51:12</td>\n",
              "      <td>2014-04-19 14:46:19</td>\n",
              "      <td>2016-03-15 14:12:22</td>\n",
              "      <td>1.0</td>\n",
              "      <td>NaN</td>\n",
              "    </tr>\n",
              "    <tr>\n",
              "      <th>1</th>\n",
              "      <td>33212890</td>\n",
              "      <td>Elisa D'Ospina</td>\n",
              "      <td>ElisaDospina</td>\n",
              "      <td>18665</td>\n",
              "      <td>12561</td>\n",
              "      <td>3442</td>\n",
              "      <td>16358</td>\n",
              "      <td>110</td>\n",
              "      <td>http://t.co/ceK8TovxwI</td>\n",
              "      <td>it</td>\n",
              "      <td>Greenland</td>\n",
              "      <td>Italy</td>\n",
              "      <td>NaN</td>\n",
              "      <td>NaN</td>\n",
              "      <td>1.0</td>\n",
              "      <td>http://pbs.twimg.com/profile_images/2603147033...</td>\n",
              "      <td>https://pbs.twimg.com/profile_banners/33212890...</td>\n",
              "      <td>1.0</td>\n",
              "      <td>https://pbs.twimg.com/profile_background_image...</td>\n",
              "      <td>333333</td>\n",
              "      <td>https://pbs.twimg.com/profile_images/260314703...</td>\n",
              "      <td>FFFFFF</td>\n",
              "      <td>1.0</td>\n",
              "      <td>F3F3F3</td>\n",
              "      <td>http://pbs.twimg.com/profile_background_images...</td>\n",
              "      <td>EBEBEB</td>\n",
              "      <td>990000</td>\n",
              "      <td>-7200.0</td>\n",
              "      <td>NaN</td>\n",
              "      <td>NaN</td>\n",
              "      <td>NaN</td>\n",
              "      <td>NaN</td>\n",
              "      <td>NaN</td>\n",
              "      <td>Autrice del libro #unavitatuttacurve dal 9 apr...</td>\n",
              "      <td>NaN</td>\n",
              "      <td>NaN</td>\n",
              "      <td>Sun Apr 19 14:38:04 +0000 2009</td>\n",
              "      <td>2009-04-19 16:38:04</td>\n",
              "      <td>2014-05-18 23:20:58</td>\n",
              "      <td>2016-03-15 14:17:13</td>\n",
              "      <td>1.0</td>\n",
              "      <td>NaN</td>\n",
              "    </tr>\n",
              "    <tr>\n",
              "      <th>2</th>\n",
              "      <td>39773427</td>\n",
              "      <td>Donato Vincenzo</td>\n",
              "      <td>Vladimir65</td>\n",
              "      <td>22987</td>\n",
              "      <td>600</td>\n",
              "      <td>755</td>\n",
              "      <td>14</td>\n",
              "      <td>6</td>\n",
              "      <td>NaN</td>\n",
              "      <td>it</td>\n",
              "      <td>Rome</td>\n",
              "      <td>iPhone: 45.471680,9.192429</td>\n",
              "      <td>NaN</td>\n",
              "      <td>NaN</td>\n",
              "      <td>NaN</td>\n",
              "      <td>http://pbs.twimg.com/profile_images/2290354446...</td>\n",
              "      <td>https://pbs.twimg.com/profile_banners/39773427...</td>\n",
              "      <td>1.0</td>\n",
              "      <td>https://pbs.twimg.com/profile_background_image...</td>\n",
              "      <td>333333</td>\n",
              "      <td>https://pbs.twimg.com/profile_images/229035444...</td>\n",
              "      <td>FFFFFF</td>\n",
              "      <td>1.0</td>\n",
              "      <td>EFEFEF</td>\n",
              "      <td>http://pbs.twimg.com/profile_background_images...</td>\n",
              "      <td>131516</td>\n",
              "      <td>009999</td>\n",
              "      <td>7200.0</td>\n",
              "      <td>NaN</td>\n",
              "      <td>NaN</td>\n",
              "      <td>NaN</td>\n",
              "      <td>NaN</td>\n",
              "      <td>NaN</td>\n",
              "      <td>[Live Long and Prosper]</td>\n",
              "      <td>NaN</td>\n",
              "      <td>NaN</td>\n",
              "      <td>Wed May 13 15:34:41 +0000 2009</td>\n",
              "      <td>2009-05-13 17:34:41</td>\n",
              "      <td>2014-05-13 23:21:54</td>\n",
              "      <td>2016-03-15 14:16:44</td>\n",
              "      <td>1.0</td>\n",
              "      <td>NaN</td>\n",
              "    </tr>\n",
              "    <tr>\n",
              "      <th>3</th>\n",
              "      <td>57007623</td>\n",
              "      <td>Rafiela Morales L.</td>\n",
              "      <td>RafielaMorales</td>\n",
              "      <td>7975</td>\n",
              "      <td>398</td>\n",
              "      <td>350</td>\n",
              "      <td>11</td>\n",
              "      <td>2</td>\n",
              "      <td>NaN</td>\n",
              "      <td>en</td>\n",
              "      <td>Pacific Time (US &amp; Canada)</td>\n",
              "      <td>ÜT: 18.4698712,-69.9327525</td>\n",
              "      <td>NaN</td>\n",
              "      <td>NaN</td>\n",
              "      <td>NaN</td>\n",
              "      <td>http://pbs.twimg.com/profile_images/3788000008...</td>\n",
              "      <td>https://pbs.twimg.com/profile_banners/57007623...</td>\n",
              "      <td>1.0</td>\n",
              "      <td>https://pbs.twimg.com/profile_background_image...</td>\n",
              "      <td>3E4415</td>\n",
              "      <td>https://pbs.twimg.com/profile_images/378800000...</td>\n",
              "      <td>829D5E</td>\n",
              "      <td>1.0</td>\n",
              "      <td>8BC712</td>\n",
              "      <td>http://pbs.twimg.com/profile_background_images...</td>\n",
              "      <td>E60584</td>\n",
              "      <td>4BC90C</td>\n",
              "      <td>-25200.0</td>\n",
              "      <td>NaN</td>\n",
              "      <td>NaN</td>\n",
              "      <td>NaN</td>\n",
              "      <td>NaN</td>\n",
              "      <td>NaN</td>\n",
              "      <td>Cuasi Odontologa*♥,#Bipolar, #Sarcastica &amp; Som...</td>\n",
              "      <td>NaN</td>\n",
              "      <td>NaN</td>\n",
              "      <td>Wed Jul 15 12:55:03 +0000 2009</td>\n",
              "      <td>2009-07-15 14:55:03</td>\n",
              "      <td>2014-05-19 23:24:18</td>\n",
              "      <td>2016-03-15 14:18:54</td>\n",
              "      <td>1.0</td>\n",
              "      <td>NaN</td>\n",
              "    </tr>\n",
              "    <tr>\n",
              "      <th>4</th>\n",
              "      <td>63258466</td>\n",
              "      <td>§ h a † u r♄</td>\n",
              "      <td>FabrizioC_c</td>\n",
              "      <td>20218</td>\n",
              "      <td>413</td>\n",
              "      <td>405</td>\n",
              "      <td>162</td>\n",
              "      <td>8</td>\n",
              "      <td>http://t.co/PK5F0JDKcy</td>\n",
              "      <td>it</td>\n",
              "      <td>Rome</td>\n",
              "      <td>Firenze</td>\n",
              "      <td>NaN</td>\n",
              "      <td>NaN</td>\n",
              "      <td>1.0</td>\n",
              "      <td>http://pbs.twimg.com/profile_images/4633019422...</td>\n",
              "      <td>https://pbs.twimg.com/profile_banners/63258466...</td>\n",
              "      <td>1.0</td>\n",
              "      <td>https://pbs.twimg.com/profile_background_image...</td>\n",
              "      <td>D67345</td>\n",
              "      <td>https://pbs.twimg.com/profile_images/463301942...</td>\n",
              "      <td>16471D</td>\n",
              "      <td>NaN</td>\n",
              "      <td>DFF0EF</td>\n",
              "      <td>http://pbs.twimg.com/profile_background_images...</td>\n",
              "      <td>EBEBEB</td>\n",
              "      <td>000000</td>\n",
              "      <td>7200.0</td>\n",
              "      <td>NaN</td>\n",
              "      <td>NaN</td>\n",
              "      <td>NaN</td>\n",
              "      <td>NaN</td>\n",
              "      <td>NaN</td>\n",
              "      <td>I shall rise from my own death, to avenge hers...</td>\n",
              "      <td>NaN</td>\n",
              "      <td>NaN</td>\n",
              "      <td>Wed Aug 05 21:12:49 +0000 2009</td>\n",
              "      <td>2009-08-05 23:12:49</td>\n",
              "      <td>2014-05-11 23:22:23</td>\n",
              "      <td>2016-03-15 14:17:05</td>\n",
              "      <td>1.0</td>\n",
              "      <td>NaN</td>\n",
              "    </tr>\n",
              "  </tbody>\n",
              "</table>\n",
              "</div>"
            ],
            "text/plain": [
              "         id                name  ... test_set_1  test_set_2\n",
              "0  24858289      Davide Bertoli  ...        1.0         NaN\n",
              "1  33212890      Elisa D'Ospina  ...        1.0         NaN\n",
              "2  39773427     Donato Vincenzo  ...        1.0         NaN\n",
              "3  57007623  Rafiela Morales L.  ...        1.0         NaN\n",
              "4  63258466        § h a † u r♄  ...        1.0         NaN\n",
              "\n",
              "[5 rows x 42 columns]"
            ]
          },
          "metadata": {},
          "execution_count": 3
        }
      ]
    },
    {
      "cell_type": "code",
      "metadata": {
        "id": "auP7dg_NpT1F"
      },
      "source": [
        ""
      ],
      "execution_count": null,
      "outputs": []
    },
    {
      "cell_type": "code",
      "metadata": {
        "id": "Wr53yw_jpTm9"
      },
      "source": [
        ""
      ],
      "execution_count": null,
      "outputs": []
    },
    {
      "cell_type": "code",
      "metadata": {
        "id": "nhpGf767pTep"
      },
      "source": [
        ""
      ],
      "execution_count": null,
      "outputs": []
    },
    {
      "cell_type": "code",
      "metadata": {
        "id": "_nMMh4dLpTUN"
      },
      "source": [
        ""
      ],
      "execution_count": null,
      "outputs": []
    },
    {
      "cell_type": "code",
      "metadata": {
        "colab": {
          "base_uri": "https://localhost:8080/"
        },
        "id": "0J_pWKUgYngA",
        "outputId": "488d8e77-bf70-4526-d3ac-3599e7e90628"
      },
      "source": [
        "bot_accounts.info()"
      ],
      "execution_count": null,
      "outputs": [
        {
          "output_type": "stream",
          "name": "stdout",
          "text": [
            "<class 'pandas.core.frame.DataFrame'>\n",
            "RangeIndex: 4912 entries, 0 to 4911\n",
            "Data columns (total 42 columns):\n",
            " #   Column                              Non-Null Count  Dtype  \n",
            "---  ------                              --------------  -----  \n",
            " 0   id                                  4912 non-null   int64  \n",
            " 1   name                                4912 non-null   object \n",
            " 2   screen_name                         4912 non-null   object \n",
            " 3   statuses_count                      4912 non-null   int64  \n",
            " 4   followers_count                     4912 non-null   int64  \n",
            " 5   friends_count                       4912 non-null   int64  \n",
            " 6   favourites_count                    4912 non-null   int64  \n",
            " 7   listed_count                        4912 non-null   int64  \n",
            " 8   url                                 285 non-null    object \n",
            " 9   lang                                4912 non-null   object \n",
            " 10  time_zone                           1220 non-null   object \n",
            " 11  location                            812 non-null    object \n",
            " 12  default_profile                     338 non-null    float64\n",
            " 13  default_profile_image               47 non-null     float64\n",
            " 14  geo_enabled                         33 non-null     float64\n",
            " 15  profile_image_url                   4912 non-null   object \n",
            " 16  profile_banner_url                  134 non-null    object \n",
            " 17  profile_use_background_image        4906 non-null   float64\n",
            " 18  profile_background_image_url_https  4912 non-null   object \n",
            " 19  profile_text_color                  4912 non-null   object \n",
            " 20  profile_image_url_https             4912 non-null   object \n",
            " 21  profile_sidebar_border_color        4912 non-null   object \n",
            " 22  profile_background_tile             3944 non-null   float64\n",
            " 23  profile_sidebar_fill_color          4912 non-null   object \n",
            " 24  profile_background_image_url        4912 non-null   object \n",
            " 25  profile_background_color            4912 non-null   object \n",
            " 26  profile_link_color                  4912 non-null   object \n",
            " 27  utc_offset                          1220 non-null   float64\n",
            " 28  is_translator                       0 non-null      float64\n",
            " 29  follow_request_sent                 0 non-null      float64\n",
            " 30  protected                           0 non-null      float64\n",
            " 31  verified                            0 non-null      float64\n",
            " 32  notifications                       0 non-null      float64\n",
            " 33  description                         1417 non-null   object \n",
            " 34  contributors_enabled                0 non-null      float64\n",
            " 35  following                           0 non-null      float64\n",
            " 36  created_at                          4912 non-null   object \n",
            " 37  timestamp                           4912 non-null   object \n",
            " 38  crawled_at                          4912 non-null   object \n",
            " 39  updated                             4912 non-null   object \n",
            " 40  test_set_1                          991 non-null    float64\n",
            " 41  test_set_2                          464 non-null    float64\n",
            "dtypes: float64(15), int64(6), object(21)\n",
            "memory usage: 1.6+ MB\n"
          ]
        }
      ]
    },
    {
      "cell_type": "markdown",
      "metadata": {
        "id": "441euYXSYadV"
      },
      "source": [
        "# **Loading genuine account level data**"
      ]
    },
    {
      "cell_type": "code",
      "metadata": {
        "id": "tircpgjiYZJO"
      },
      "source": [
        "clean_accounts = pd.read_csv('/content/drive/MyDrive/SAAS-2121/Datasets/account_level dataset/genuine.csv')"
      ],
      "execution_count": null,
      "outputs": []
    },
    {
      "cell_type": "code",
      "metadata": {
        "colab": {
          "base_uri": "https://localhost:8080/",
          "height": 492
        },
        "id": "ksyn5C9tYjpu",
        "outputId": "5db15a3c-9a25-42f9-a1e2-44ce72327e2f"
      },
      "source": [
        "clean_accounts.head()"
      ],
      "execution_count": null,
      "outputs": [
        {
          "output_type": "execute_result",
          "data": {
            "text/html": [
              "<div>\n",
              "<style scoped>\n",
              "    .dataframe tbody tr th:only-of-type {\n",
              "        vertical-align: middle;\n",
              "    }\n",
              "\n",
              "    .dataframe tbody tr th {\n",
              "        vertical-align: top;\n",
              "    }\n",
              "\n",
              "    .dataframe thead th {\n",
              "        text-align: right;\n",
              "    }\n",
              "</style>\n",
              "<table border=\"1\" class=\"dataframe\">\n",
              "  <thead>\n",
              "    <tr style=\"text-align: right;\">\n",
              "      <th></th>\n",
              "      <th>id</th>\n",
              "      <th>name</th>\n",
              "      <th>screen_name</th>\n",
              "      <th>statuses_count</th>\n",
              "      <th>followers_count</th>\n",
              "      <th>friends_count</th>\n",
              "      <th>favourites_count</th>\n",
              "      <th>listed_count</th>\n",
              "      <th>url</th>\n",
              "      <th>lang</th>\n",
              "      <th>time_zone</th>\n",
              "      <th>location</th>\n",
              "      <th>default_profile</th>\n",
              "      <th>default_profile_image</th>\n",
              "      <th>geo_enabled</th>\n",
              "      <th>profile_image_url</th>\n",
              "      <th>profile_banner_url</th>\n",
              "      <th>profile_use_background_image</th>\n",
              "      <th>profile_background_image_url_https</th>\n",
              "      <th>profile_text_color</th>\n",
              "      <th>profile_image_url_https</th>\n",
              "      <th>profile_sidebar_border_color</th>\n",
              "      <th>profile_background_tile</th>\n",
              "      <th>profile_sidebar_fill_color</th>\n",
              "      <th>profile_background_image_url</th>\n",
              "      <th>profile_background_color</th>\n",
              "      <th>profile_link_color</th>\n",
              "      <th>utc_offset</th>\n",
              "      <th>is_translator</th>\n",
              "      <th>follow_request_sent</th>\n",
              "      <th>protected</th>\n",
              "      <th>verified</th>\n",
              "      <th>notifications</th>\n",
              "      <th>description</th>\n",
              "      <th>contributors_enabled</th>\n",
              "      <th>following</th>\n",
              "      <th>created_at</th>\n",
              "      <th>timestamp</th>\n",
              "      <th>crawled_at</th>\n",
              "      <th>updated</th>\n",
              "      <th>test_set_1</th>\n",
              "      <th>test_set_2</th>\n",
              "    </tr>\n",
              "  </thead>\n",
              "  <tbody>\n",
              "    <tr>\n",
              "      <th>0</th>\n",
              "      <td>1502026416</td>\n",
              "      <td>TASUKU HAYAKAWA</td>\n",
              "      <td>0918Bask</td>\n",
              "      <td>2177</td>\n",
              "      <td>208</td>\n",
              "      <td>332</td>\n",
              "      <td>265</td>\n",
              "      <td>1</td>\n",
              "      <td>NaN</td>\n",
              "      <td>ja</td>\n",
              "      <td>NaN</td>\n",
              "      <td>Tokyo .Japan .</td>\n",
              "      <td>NaN</td>\n",
              "      <td>NaN</td>\n",
              "      <td>1.0</td>\n",
              "      <td>http://pbs.twimg.com/profile_images/5887331863...</td>\n",
              "      <td>https://pbs.twimg.com/profile_banners/15020264...</td>\n",
              "      <td>NaN</td>\n",
              "      <td>https://abs.twimg.com/images/themes/theme1/bg.png</td>\n",
              "      <td>000000</td>\n",
              "      <td>https://pbs.twimg.com/profile_images/588733186...</td>\n",
              "      <td>000000</td>\n",
              "      <td>NaN</td>\n",
              "      <td>000000</td>\n",
              "      <td>http://abs.twimg.com/images/themes/theme1/bg.png</td>\n",
              "      <td>000000</td>\n",
              "      <td>EB0C1F</td>\n",
              "      <td>NaN</td>\n",
              "      <td>NaN</td>\n",
              "      <td>NaN</td>\n",
              "      <td>NaN</td>\n",
              "      <td>NaN</td>\n",
              "      <td>NaN</td>\n",
              "      <td>15years ago X.Lines24</td>\n",
              "      <td>NaN</td>\n",
              "      <td>NaN</td>\n",
              "      <td>Tue Jun 11 11:20:35 +0000 2013</td>\n",
              "      <td>2013-06-11 13:20:35</td>\n",
              "      <td>2015-05-02 06:41:46</td>\n",
              "      <td>2016-03-15 15:53:47</td>\n",
              "      <td>0</td>\n",
              "      <td>0</td>\n",
              "    </tr>\n",
              "    <tr>\n",
              "      <th>1</th>\n",
              "      <td>2492782375</td>\n",
              "      <td>ro_or</td>\n",
              "      <td>1120Roll</td>\n",
              "      <td>2660</td>\n",
              "      <td>330</td>\n",
              "      <td>485</td>\n",
              "      <td>3972</td>\n",
              "      <td>5</td>\n",
              "      <td>NaN</td>\n",
              "      <td>ja</td>\n",
              "      <td>Tokyo</td>\n",
              "      <td>神奈川県横浜市</td>\n",
              "      <td>1.0</td>\n",
              "      <td>NaN</td>\n",
              "      <td>1.0</td>\n",
              "      <td>http://pbs.twimg.com/profile_images/5737442928...</td>\n",
              "      <td>https://pbs.twimg.com/profile_banners/24927823...</td>\n",
              "      <td>1.0</td>\n",
              "      <td>https://abs.twimg.com/images/themes/theme1/bg.png</td>\n",
              "      <td>333333</td>\n",
              "      <td>https://pbs.twimg.com/profile_images/573744292...</td>\n",
              "      <td>C0DEED</td>\n",
              "      <td>NaN</td>\n",
              "      <td>DDEEF6</td>\n",
              "      <td>http://abs.twimg.com/images/themes/theme1/bg.png</td>\n",
              "      <td>C0DEED</td>\n",
              "      <td>0084B4</td>\n",
              "      <td>32400.0</td>\n",
              "      <td>NaN</td>\n",
              "      <td>NaN</td>\n",
              "      <td>NaN</td>\n",
              "      <td>NaN</td>\n",
              "      <td>NaN</td>\n",
              "      <td>保守見習い地元大好き人間。 経済学、電工、仏教を勉強中、ちなDeではいかんのか？ (*^◯^*)</td>\n",
              "      <td>NaN</td>\n",
              "      <td>NaN</td>\n",
              "      <td>Tue May 13 10:37:57 +0000 2014</td>\n",
              "      <td>2014-05-13 12:37:57</td>\n",
              "      <td>2015-05-01 17:20:27</td>\n",
              "      <td>2016-03-15 15:53:48</td>\n",
              "      <td>0</td>\n",
              "      <td>0</td>\n",
              "    </tr>\n",
              "    <tr>\n",
              "      <th>2</th>\n",
              "      <td>293212315</td>\n",
              "      <td>bearclaw</td>\n",
              "      <td>14KBBrown</td>\n",
              "      <td>1254</td>\n",
              "      <td>166</td>\n",
              "      <td>177</td>\n",
              "      <td>1185</td>\n",
              "      <td>0</td>\n",
              "      <td>NaN</td>\n",
              "      <td>en</td>\n",
              "      <td>Eastern Time (US &amp; Canada)</td>\n",
              "      <td>NaN</td>\n",
              "      <td>NaN</td>\n",
              "      <td>NaN</td>\n",
              "      <td>NaN</td>\n",
              "      <td>http://pbs.twimg.com/profile_images/5908597242...</td>\n",
              "      <td>https://pbs.twimg.com/profile_banners/29321231...</td>\n",
              "      <td>1.0</td>\n",
              "      <td>https://pbs.twimg.com/profile_background_image...</td>\n",
              "      <td>0F9A89</td>\n",
              "      <td>https://pbs.twimg.com/profile_images/590859724...</td>\n",
              "      <td>EED96D</td>\n",
              "      <td>1.0</td>\n",
              "      <td>EED96D</td>\n",
              "      <td>http://pbs.twimg.com/profile_background_images...</td>\n",
              "      <td>E63A50</td>\n",
              "      <td>E63A50</td>\n",
              "      <td>-14400.0</td>\n",
              "      <td>NaN</td>\n",
              "      <td>NaN</td>\n",
              "      <td>NaN</td>\n",
              "      <td>NaN</td>\n",
              "      <td>NaN</td>\n",
              "      <td>Let me see what your best move is!</td>\n",
              "      <td>NaN</td>\n",
              "      <td>NaN</td>\n",
              "      <td>Wed May 04 23:30:37 +0000 2011</td>\n",
              "      <td>2011-05-05 01:30:37</td>\n",
              "      <td>2015-05-01 18:48:28</td>\n",
              "      <td>2016-03-15 15:53:48</td>\n",
              "      <td>0</td>\n",
              "      <td>0</td>\n",
              "    </tr>\n",
              "    <tr>\n",
              "      <th>3</th>\n",
              "      <td>191839658</td>\n",
              "      <td>pocahontas farida</td>\n",
              "      <td>wadespeters</td>\n",
              "      <td>202968</td>\n",
              "      <td>2248</td>\n",
              "      <td>981</td>\n",
              "      <td>60304</td>\n",
              "      <td>101</td>\n",
              "      <td>http://t.co/rGV0HIJGsu</td>\n",
              "      <td>en</td>\n",
              "      <td>Greenland</td>\n",
              "      <td>#freePalestine - rip paul</td>\n",
              "      <td>NaN</td>\n",
              "      <td>NaN</td>\n",
              "      <td>1.0</td>\n",
              "      <td>http://pbs.twimg.com/profile_images/5915979249...</td>\n",
              "      <td>https://pbs.twimg.com/profile_banners/19183965...</td>\n",
              "      <td>1.0</td>\n",
              "      <td>https://abs.twimg.com/images/themes/theme3/bg.gif</td>\n",
              "      <td>634047</td>\n",
              "      <td>https://pbs.twimg.com/profile_images/591597924...</td>\n",
              "      <td>D3D2CF</td>\n",
              "      <td>NaN</td>\n",
              "      <td>E3E2DE</td>\n",
              "      <td>http://abs.twimg.com/images/themes/theme3/bg.gif</td>\n",
              "      <td>EDECE9</td>\n",
              "      <td>088253</td>\n",
              "      <td>-7200.0</td>\n",
              "      <td>NaN</td>\n",
              "      <td>NaN</td>\n",
              "      <td>NaN</td>\n",
              "      <td>NaN</td>\n",
              "      <td>NaN</td>\n",
              "      <td>20. menna: #farida #nyc and the 80s actually y...</td>\n",
              "      <td>NaN</td>\n",
              "      <td>NaN</td>\n",
              "      <td>Fri Sep 17 14:02:10 +0000 2010</td>\n",
              "      <td>2010-09-17 16:02:10</td>\n",
              "      <td>2015-05-01 13:55:16</td>\n",
              "      <td>2016-03-15 15:53:48</td>\n",
              "      <td>0</td>\n",
              "      <td>0</td>\n",
              "    </tr>\n",
              "    <tr>\n",
              "      <th>4</th>\n",
              "      <td>3020965143</td>\n",
              "      <td>Ms Kathy</td>\n",
              "      <td>191a5bd05da04dc</td>\n",
              "      <td>82</td>\n",
              "      <td>21</td>\n",
              "      <td>79</td>\n",
              "      <td>5</td>\n",
              "      <td>0</td>\n",
              "      <td>NaN</td>\n",
              "      <td>en</td>\n",
              "      <td>NaN</td>\n",
              "      <td>Wichita KS</td>\n",
              "      <td>1.0</td>\n",
              "      <td>NaN</td>\n",
              "      <td>NaN</td>\n",
              "      <td>http://pbs.twimg.com/profile_images/5635511026...</td>\n",
              "      <td>NaN</td>\n",
              "      <td>1.0</td>\n",
              "      <td>https://abs.twimg.com/images/themes/theme1/bg.png</td>\n",
              "      <td>333333</td>\n",
              "      <td>https://pbs.twimg.com/profile_images/563551102...</td>\n",
              "      <td>C0DEED</td>\n",
              "      <td>NaN</td>\n",
              "      <td>DDEEF6</td>\n",
              "      <td>http://abs.twimg.com/images/themes/theme1/bg.png</td>\n",
              "      <td>C0DEED</td>\n",
              "      <td>0084B4</td>\n",
              "      <td>NaN</td>\n",
              "      <td>NaN</td>\n",
              "      <td>NaN</td>\n",
              "      <td>NaN</td>\n",
              "      <td>NaN</td>\n",
              "      <td>NaN</td>\n",
              "      <td>Cosmetologist</td>\n",
              "      <td>NaN</td>\n",
              "      <td>NaN</td>\n",
              "      <td>Fri Feb 06 04:10:49 +0000 2015</td>\n",
              "      <td>2015-02-06 05:10:49</td>\n",
              "      <td>2015-05-02 01:17:32</td>\n",
              "      <td>2016-03-15 15:53:48</td>\n",
              "      <td>0</td>\n",
              "      <td>0</td>\n",
              "    </tr>\n",
              "  </tbody>\n",
              "</table>\n",
              "</div>"
            ],
            "text/plain": [
              "           id               name  ... test_set_1  test_set_2\n",
              "0  1502026416    TASUKU HAYAKAWA  ...          0           0\n",
              "1  2492782375              ro_or  ...          0           0\n",
              "2   293212315           bearclaw  ...          0           0\n",
              "3   191839658  pocahontas farida  ...          0           0\n",
              "4  3020965143           Ms Kathy  ...          0           0\n",
              "\n",
              "[5 rows x 42 columns]"
            ]
          },
          "metadata": {},
          "execution_count": 5
        }
      ]
    },
    {
      "cell_type": "code",
      "metadata": {
        "colab": {
          "base_uri": "https://localhost:8080/"
        },
        "id": "IZ5r6P17pzPw",
        "outputId": "b13ea782-05fe-43e6-be9d-d76394d97823"
      },
      "source": [
        "clean_accounts.info()"
      ],
      "execution_count": null,
      "outputs": [
        {
          "output_type": "stream",
          "name": "stdout",
          "text": [
            "<class 'pandas.core.frame.DataFrame'>\n",
            "RangeIndex: 3474 entries, 0 to 3473\n",
            "Data columns (total 42 columns):\n",
            " #   Column                              Non-Null Count  Dtype  \n",
            "---  ------                              --------------  -----  \n",
            " 0   id                                  3474 non-null   int64  \n",
            " 1   name                                3473 non-null   object \n",
            " 2   screen_name                         3474 non-null   object \n",
            " 3   statuses_count                      3474 non-null   int64  \n",
            " 4   followers_count                     3474 non-null   int64  \n",
            " 5   friends_count                       3474 non-null   int64  \n",
            " 6   favourites_count                    3474 non-null   int64  \n",
            " 7   listed_count                        3474 non-null   int64  \n",
            " 8   url                                 1266 non-null   object \n",
            " 9   lang                                3474 non-null   object \n",
            " 10  time_zone                           2475 non-null   object \n",
            " 11  location                            2365 non-null   object \n",
            " 12  default_profile                     1032 non-null   float64\n",
            " 13  default_profile_image               13 non-null     float64\n",
            " 14  geo_enabled                         2155 non-null   float64\n",
            " 15  profile_image_url                   3474 non-null   object \n",
            " 16  profile_banner_url                  3165 non-null   object \n",
            " 17  profile_use_background_image        3084 non-null   float64\n",
            " 18  profile_background_image_url_https  3474 non-null   object \n",
            " 19  profile_text_color                  3474 non-null   object \n",
            " 20  profile_image_url_https             3474 non-null   object \n",
            " 21  profile_sidebar_border_color        3474 non-null   object \n",
            " 22  profile_background_tile             1307 non-null   float64\n",
            " 23  profile_sidebar_fill_color          3474 non-null   object \n",
            " 24  profile_background_image_url        3474 non-null   object \n",
            " 25  profile_background_color            3474 non-null   object \n",
            " 26  profile_link_color                  3474 non-null   object \n",
            " 27  utc_offset                          2475 non-null   float64\n",
            " 28  is_translator                       1 non-null      float64\n",
            " 29  follow_request_sent                 0 non-null      float64\n",
            " 30  protected                           78 non-null     float64\n",
            " 31  verified                            11 non-null     float64\n",
            " 32  notifications                       0 non-null      float64\n",
            " 33  description                         3095 non-null   object \n",
            " 34  contributors_enabled                0 non-null      float64\n",
            " 35  following                           0 non-null      float64\n",
            " 36  created_at                          3474 non-null   object \n",
            " 37  timestamp                           3474 non-null   object \n",
            " 38  crawled_at                          3474 non-null   object \n",
            " 39  updated                             3474 non-null   object \n",
            " 40  test_set_1                          3474 non-null   int64  \n",
            " 41  test_set_2                          3474 non-null   int64  \n",
            "dtypes: float64(13), int64(8), object(21)\n",
            "memory usage: 1.1+ MB\n"
          ]
        }
      ]
    },
    {
      "cell_type": "code",
      "metadata": {
        "id": "eKUp5-Qfpf2E"
      },
      "source": [
        ""
      ],
      "execution_count": null,
      "outputs": []
    },
    {
      "cell_type": "code",
      "metadata": {
        "id": "dbSFXFt6pfyX"
      },
      "source": [
        ""
      ],
      "execution_count": null,
      "outputs": []
    },
    {
      "cell_type": "code",
      "metadata": {
        "id": "L2UTt38Rpful"
      },
      "source": [
        ""
      ],
      "execution_count": null,
      "outputs": []
    },
    {
      "cell_type": "code",
      "metadata": {
        "id": "70lC_5ttpfqj"
      },
      "source": [
        ""
      ],
      "execution_count": null,
      "outputs": []
    },
    {
      "cell_type": "code",
      "metadata": {
        "id": "XMKEUWZjpfl4"
      },
      "source": [
        ""
      ],
      "execution_count": null,
      "outputs": []
    },
    {
      "cell_type": "markdown",
      "metadata": {
        "id": "YeLdAjsoZUvg"
      },
      "source": [
        "# **Feature selection for bot accounts and genuine accounts** "
      ]
    },
    {
      "cell_type": "code",
      "metadata": {
        "id": "xxqBubCrpwAe"
      },
      "source": [
        "selected_cols = ['screen_name', 'created_at', 'updated', 'location', 'verified', 'statuses_count', 'friends_count','followers_count', 'favourites_count', 'default_profile_image', 'profile_use_background_image', 'protected', 'default_profile']\n",
        "bot_accounts = bot_accounts[selected_cols]\n",
        "clean_accounts = clean_accounts[selected_cols]"
      ],
      "execution_count": null,
      "outputs": []
    },
    {
      "cell_type": "code",
      "metadata": {
        "id": "pzQd5DeHp4sr"
      },
      "source": [
        ""
      ],
      "execution_count": null,
      "outputs": []
    },
    {
      "cell_type": "code",
      "metadata": {
        "id": "jB1MXMj8p4pK"
      },
      "source": [
        ""
      ],
      "execution_count": null,
      "outputs": []
    },
    {
      "cell_type": "code",
      "metadata": {
        "id": "ZdG3KhHjp4WW"
      },
      "source": [
        ""
      ],
      "execution_count": null,
      "outputs": []
    },
    {
      "cell_type": "code",
      "metadata": {
        "id": "UAi-ly1Dp4SL"
      },
      "source": [
        ""
      ],
      "execution_count": null,
      "outputs": []
    },
    {
      "cell_type": "code",
      "metadata": {
        "id": "wIWZlIO7p4NW"
      },
      "source": [
        ""
      ],
      "execution_count": null,
      "outputs": []
    },
    {
      "cell_type": "markdown",
      "metadata": {
        "id": "uEaIcvwPacrq"
      },
      "source": [
        "# **preprocessing of the dataframes**"
      ]
    },
    {
      "cell_type": "code",
      "metadata": {
        "id": "83BFy1XrqE9c"
      },
      "source": [
        "def clean_df(df):\n",
        "    df['created_at'] = pd.to_datetime(df['created_at'],utc=True)\n",
        "    df['updated'] = pd.to_datetime(df['updated'],utc=True)\n",
        "    df['age'] = (df['updated'] - df['created_at']).astype('timedelta64[D]').astype(int)\n",
        "    df['has_location'] = df['location'].apply(lambda x: 0 if x==x else 1)\n",
        "    df['has_avatar'] = df['default_profile_image'].apply(lambda x: 1 if x==x else 0)\n",
        "    df['has_background'] = df['profile_use_background_image'].apply(lambda x: 1 if x==x else 0)\n",
        "    df['is_verified']=df['verified'].apply(lambda x: 1 if x==x else 0)\n",
        "    df['is_protected']=df['protected'].apply(lambda x: 1 if x==x else 0)\n",
        "    df['profile_modified'] = df['default_profile'].apply(lambda x: 0 if x==x else 1)\n",
        "    df = df.rename(index=str, columns={\"screen_name\": \"username\", \"statuses_count\": \"total_tweets\", \"friends_count\": \"total_following\", \"followers_count\": \"total_followers\", \"favourites_count\": \"total_likes\"})\n",
        "    return df[['username', 'age', 'has_location', 'is_verified', 'total_tweets', 'total_following', 'total_followers', 'total_likes', 'has_avatar', 'has_background', 'is_protected', 'profile_modified']]\n",
        "\n",
        "bot_accounts = clean_df(bot_accounts)\n",
        "clean_accounts = clean_df(clean_accounts)"
      ],
      "execution_count": null,
      "outputs": []
    },
    {
      "cell_type": "markdown",
      "metadata": {
        "id": "uH5XKIpJb_ZY"
      },
      "source": [
        "# **Updated dataframes**"
      ]
    },
    {
      "cell_type": "code",
      "metadata": {
        "colab": {
          "base_uri": "https://localhost:8080/",
          "height": 203
        },
        "id": "7JMSR0aQqIt6",
        "outputId": "42b9104c-83cb-4b87-c2cf-da76929e97c5"
      },
      "source": [
        "bot_accounts.head()"
      ],
      "execution_count": null,
      "outputs": [
        {
          "output_type": "execute_result",
          "data": {
            "text/html": [
              "<div>\n",
              "<style scoped>\n",
              "    .dataframe tbody tr th:only-of-type {\n",
              "        vertical-align: middle;\n",
              "    }\n",
              "\n",
              "    .dataframe tbody tr th {\n",
              "        vertical-align: top;\n",
              "    }\n",
              "\n",
              "    .dataframe thead th {\n",
              "        text-align: right;\n",
              "    }\n",
              "</style>\n",
              "<table border=\"1\" class=\"dataframe\">\n",
              "  <thead>\n",
              "    <tr style=\"text-align: right;\">\n",
              "      <th></th>\n",
              "      <th>username</th>\n",
              "      <th>age</th>\n",
              "      <th>has_location</th>\n",
              "      <th>is_verified</th>\n",
              "      <th>total_tweets</th>\n",
              "      <th>total_following</th>\n",
              "      <th>total_followers</th>\n",
              "      <th>total_likes</th>\n",
              "      <th>has_avatar</th>\n",
              "      <th>has_background</th>\n",
              "      <th>is_protected</th>\n",
              "      <th>profile_modified</th>\n",
              "    </tr>\n",
              "  </thead>\n",
              "  <tbody>\n",
              "    <tr>\n",
              "      <th>0</th>\n",
              "      <td>davideb66</td>\n",
              "      <td>2555</td>\n",
              "      <td>1</td>\n",
              "      <td>0</td>\n",
              "      <td>1299</td>\n",
              "      <td>40</td>\n",
              "      <td>22</td>\n",
              "      <td>1</td>\n",
              "      <td>1</td>\n",
              "      <td>1</td>\n",
              "      <td>0</td>\n",
              "      <td>0</td>\n",
              "    </tr>\n",
              "    <tr>\n",
              "      <th>1</th>\n",
              "      <td>ElisaDospina</td>\n",
              "      <td>2521</td>\n",
              "      <td>0</td>\n",
              "      <td>0</td>\n",
              "      <td>18665</td>\n",
              "      <td>3442</td>\n",
              "      <td>12561</td>\n",
              "      <td>16358</td>\n",
              "      <td>0</td>\n",
              "      <td>1</td>\n",
              "      <td>0</td>\n",
              "      <td>1</td>\n",
              "    </tr>\n",
              "    <tr>\n",
              "      <th>2</th>\n",
              "      <td>Vladimir65</td>\n",
              "      <td>2497</td>\n",
              "      <td>0</td>\n",
              "      <td>0</td>\n",
              "      <td>22987</td>\n",
              "      <td>755</td>\n",
              "      <td>600</td>\n",
              "      <td>14</td>\n",
              "      <td>0</td>\n",
              "      <td>1</td>\n",
              "      <td>0</td>\n",
              "      <td>1</td>\n",
              "    </tr>\n",
              "    <tr>\n",
              "      <th>3</th>\n",
              "      <td>RafielaMorales</td>\n",
              "      <td>2435</td>\n",
              "      <td>0</td>\n",
              "      <td>0</td>\n",
              "      <td>7975</td>\n",
              "      <td>350</td>\n",
              "      <td>398</td>\n",
              "      <td>11</td>\n",
              "      <td>0</td>\n",
              "      <td>1</td>\n",
              "      <td>0</td>\n",
              "      <td>1</td>\n",
              "    </tr>\n",
              "    <tr>\n",
              "      <th>4</th>\n",
              "      <td>FabrizioC_c</td>\n",
              "      <td>2413</td>\n",
              "      <td>0</td>\n",
              "      <td>0</td>\n",
              "      <td>20218</td>\n",
              "      <td>405</td>\n",
              "      <td>413</td>\n",
              "      <td>162</td>\n",
              "      <td>0</td>\n",
              "      <td>1</td>\n",
              "      <td>0</td>\n",
              "      <td>1</td>\n",
              "    </tr>\n",
              "  </tbody>\n",
              "</table>\n",
              "</div>"
            ],
            "text/plain": [
              "         username   age  ...  is_protected  profile_modified\n",
              "0       davideb66  2555  ...             0                 0\n",
              "1    ElisaDospina  2521  ...             0                 1\n",
              "2      Vladimir65  2497  ...             0                 1\n",
              "3  RafielaMorales  2435  ...             0                 1\n",
              "4     FabrizioC_c  2413  ...             0                 1\n",
              "\n",
              "[5 rows x 12 columns]"
            ]
          },
          "metadata": {},
          "execution_count": 9
        }
      ]
    },
    {
      "cell_type": "code",
      "metadata": {
        "colab": {
          "base_uri": "https://localhost:8080/",
          "height": 203
        },
        "id": "HkMyhSUqb5g-",
        "outputId": "95457b7e-64e4-4013-d06b-555f342e6a1e"
      },
      "source": [
        "clean_accounts.head()"
      ],
      "execution_count": null,
      "outputs": [
        {
          "output_type": "execute_result",
          "data": {
            "text/html": [
              "<div>\n",
              "<style scoped>\n",
              "    .dataframe tbody tr th:only-of-type {\n",
              "        vertical-align: middle;\n",
              "    }\n",
              "\n",
              "    .dataframe tbody tr th {\n",
              "        vertical-align: top;\n",
              "    }\n",
              "\n",
              "    .dataframe thead th {\n",
              "        text-align: right;\n",
              "    }\n",
              "</style>\n",
              "<table border=\"1\" class=\"dataframe\">\n",
              "  <thead>\n",
              "    <tr style=\"text-align: right;\">\n",
              "      <th></th>\n",
              "      <th>username</th>\n",
              "      <th>age</th>\n",
              "      <th>has_location</th>\n",
              "      <th>is_verified</th>\n",
              "      <th>total_tweets</th>\n",
              "      <th>total_following</th>\n",
              "      <th>total_followers</th>\n",
              "      <th>total_likes</th>\n",
              "      <th>has_avatar</th>\n",
              "      <th>has_background</th>\n",
              "      <th>is_protected</th>\n",
              "      <th>profile_modified</th>\n",
              "    </tr>\n",
              "  </thead>\n",
              "  <tbody>\n",
              "    <tr>\n",
              "      <th>0</th>\n",
              "      <td>0918Bask</td>\n",
              "      <td>1008</td>\n",
              "      <td>0</td>\n",
              "      <td>0</td>\n",
              "      <td>2177</td>\n",
              "      <td>332</td>\n",
              "      <td>208</td>\n",
              "      <td>265</td>\n",
              "      <td>0</td>\n",
              "      <td>0</td>\n",
              "      <td>0</td>\n",
              "      <td>1</td>\n",
              "    </tr>\n",
              "    <tr>\n",
              "      <th>1</th>\n",
              "      <td>1120Roll</td>\n",
              "      <td>672</td>\n",
              "      <td>0</td>\n",
              "      <td>0</td>\n",
              "      <td>2660</td>\n",
              "      <td>485</td>\n",
              "      <td>330</td>\n",
              "      <td>3972</td>\n",
              "      <td>0</td>\n",
              "      <td>1</td>\n",
              "      <td>0</td>\n",
              "      <td>0</td>\n",
              "    </tr>\n",
              "    <tr>\n",
              "      <th>2</th>\n",
              "      <td>14KBBrown</td>\n",
              "      <td>1776</td>\n",
              "      <td>1</td>\n",
              "      <td>0</td>\n",
              "      <td>1254</td>\n",
              "      <td>177</td>\n",
              "      <td>166</td>\n",
              "      <td>1185</td>\n",
              "      <td>0</td>\n",
              "      <td>1</td>\n",
              "      <td>0</td>\n",
              "      <td>1</td>\n",
              "    </tr>\n",
              "    <tr>\n",
              "      <th>3</th>\n",
              "      <td>wadespeters</td>\n",
              "      <td>2006</td>\n",
              "      <td>0</td>\n",
              "      <td>0</td>\n",
              "      <td>202968</td>\n",
              "      <td>981</td>\n",
              "      <td>2248</td>\n",
              "      <td>60304</td>\n",
              "      <td>0</td>\n",
              "      <td>1</td>\n",
              "      <td>0</td>\n",
              "      <td>1</td>\n",
              "    </tr>\n",
              "    <tr>\n",
              "      <th>4</th>\n",
              "      <td>191a5bd05da04dc</td>\n",
              "      <td>403</td>\n",
              "      <td>0</td>\n",
              "      <td>0</td>\n",
              "      <td>82</td>\n",
              "      <td>79</td>\n",
              "      <td>21</td>\n",
              "      <td>5</td>\n",
              "      <td>0</td>\n",
              "      <td>1</td>\n",
              "      <td>0</td>\n",
              "      <td>0</td>\n",
              "    </tr>\n",
              "  </tbody>\n",
              "</table>\n",
              "</div>"
            ],
            "text/plain": [
              "          username   age  ...  is_protected  profile_modified\n",
              "0         0918Bask  1008  ...             0                 1\n",
              "1         1120Roll   672  ...             0                 0\n",
              "2        14KBBrown  1776  ...             0                 1\n",
              "3      wadespeters  2006  ...             0                 1\n",
              "4  191a5bd05da04dc   403  ...             0                 0\n",
              "\n",
              "[5 rows x 12 columns]"
            ]
          },
          "metadata": {},
          "execution_count": 10
        }
      ]
    },
    {
      "cell_type": "markdown",
      "metadata": {
        "id": "1FGadyDlcjyc"
      },
      "source": [
        "# **Encoding binary values to Bot or Not accounts**"
      ]
    },
    {
      "cell_type": "code",
      "metadata": {
        "id": "VmfQOznyslw6"
      },
      "source": [
        "bot_accounts['BotOrNot'] = 1\n",
        "clean_accounts['BotOrNot'] = 0\n",
        "\n",
        "combined_df = pd.concat([bot_accounts, clean_accounts])\n",
        "\n",
        "new_df = combined_df.sample(frac=1).reset_index(drop=True)"
      ],
      "execution_count": null,
      "outputs": []
    },
    {
      "cell_type": "code",
      "metadata": {
        "id": "WN_XqVkLqSRm"
      },
      "source": [
        ""
      ],
      "execution_count": null,
      "outputs": []
    },
    {
      "cell_type": "code",
      "metadata": {
        "id": "Btb-4HM4qSFQ"
      },
      "source": [
        ""
      ],
      "execution_count": null,
      "outputs": []
    },
    {
      "cell_type": "code",
      "metadata": {
        "id": "dVsiAz7IqRzg"
      },
      "source": [
        ""
      ],
      "execution_count": null,
      "outputs": []
    },
    {
      "cell_type": "code",
      "metadata": {
        "id": "qhakTYjAqRv9"
      },
      "source": [
        ""
      ],
      "execution_count": null,
      "outputs": []
    },
    {
      "cell_type": "code",
      "metadata": {
        "id": "qR7lpTy-qRsV"
      },
      "source": [
        ""
      ],
      "execution_count": null,
      "outputs": []
    },
    {
      "cell_type": "code",
      "metadata": {
        "id": "UrtdD2tKqRpE"
      },
      "source": [
        ""
      ],
      "execution_count": null,
      "outputs": []
    },
    {
      "cell_type": "code",
      "metadata": {
        "id": "c4sMZe2VqRes"
      },
      "source": [
        ""
      ],
      "execution_count": null,
      "outputs": []
    },
    {
      "cell_type": "markdown",
      "metadata": {
        "id": "teejk47odsMK"
      },
      "source": [
        "# **Standardization of attributes and train test split**"
      ]
    },
    {
      "cell_type": "code",
      "metadata": {
        "id": "Eq_YEDqlssnn"
      },
      "source": [
        "training_df = new_df.drop('username', axis=1)[:int(combined_df.shape[0] * 0.8)]\n",
        "test_df = new_df.drop('username', axis=1)[int(combined_df.shape[0] * 0.8):]\n",
        "\n",
        "columns_to_standardize = ['age', 'total_tweets', 'total_following', 'total_followers', 'total_likes']\n",
        "\n",
        "training_df_mean = training_df[columns_to_standardize].mean()\n",
        "training_df_std = training_df[columns_to_standardize].std()\n",
        "\n",
        "training_df[columns_to_standardize] = (training_df[columns_to_standardize] - training_df_mean)/training_df_std\n",
        "test_df[columns_to_standardize] = (test_df[columns_to_standardize] - training_df_mean)/training_df_std"
      ],
      "execution_count": null,
      "outputs": []
    },
    {
      "cell_type": "code",
      "metadata": {
        "id": "7OXq0yKMsxI2"
      },
      "source": [
        "X_train = training_df.drop(['BotOrNot', 'is_protected'], axis=1).values\n",
        "y_train = training_df['BotOrNot'].values.reshape(-1,1)\n",
        "\n",
        "X_test = test_df.drop(['BotOrNot', 'is_protected'], axis=1).values\n",
        "y_test = test_df['BotOrNot'].values.reshape(-1,1)"
      ],
      "execution_count": null,
      "outputs": []
    },
    {
      "cell_type": "code",
      "metadata": {
        "id": "fvtIj53oqUHs",
        "colab": {
          "base_uri": "https://localhost:8080/"
        },
        "outputId": "55222775-efd4-4c2c-ff3c-6208059dc743"
      },
      "source": [
        "X_test[0]"
      ],
      "execution_count": null,
      "outputs": [
        {
          "output_type": "execute_result",
          "data": {
            "text/plain": [
              "array([ 0.82868672,  1.        ,  0.        ,  0.20498027,  0.28777462,\n",
              "       -0.01814796, -0.24477836,  0.        ,  1.        ,  1.        ])"
            ]
          },
          "metadata": {},
          "execution_count": 17
        }
      ]
    },
    {
      "cell_type": "code",
      "metadata": {
        "id": "aAjiYAHiqUEI"
      },
      "source": [
        ""
      ],
      "execution_count": null,
      "outputs": []
    },
    {
      "cell_type": "code",
      "metadata": {
        "id": "MtfXr6CvqUAQ"
      },
      "source": [
        ""
      ],
      "execution_count": null,
      "outputs": []
    },
    {
      "cell_type": "code",
      "metadata": {
        "id": "NDUPDwe_qT8M"
      },
      "source": [
        ""
      ],
      "execution_count": null,
      "outputs": []
    },
    {
      "cell_type": "markdown",
      "metadata": {
        "id": "7ZA_SAR8fza2"
      },
      "source": [
        "# **Stacking layers to the model**"
      ]
    },
    {
      "cell_type": "code",
      "metadata": {
        "id": "usckZJWiszjC"
      },
      "source": [
        "inp = Input(shape=[10])\n",
        "another = Dense(500, activation='relu', kernel_regularizer=l2(0.01), bias_regularizer=l2(0.01))(inp)\n",
        "another = Dense(200, activation='relu',kernel_regularizer=l2(0.01), bias_regularizer=l2(0.01))(another)\n",
        "another = Dense(1, activation='sigmoid')(another)\n",
        "mod = Model(inp, another)\n",
        "mod.compile(optimizer='adam', loss='binary_crossentropy', metrics=['accuracy'])"
      ],
      "execution_count": null,
      "outputs": []
    },
    {
      "cell_type": "code",
      "metadata": {
        "id": "1KVC7ptiqWIa"
      },
      "source": [
        ""
      ],
      "execution_count": null,
      "outputs": []
    },
    {
      "cell_type": "code",
      "metadata": {
        "id": "KoWkGZXhqWEi"
      },
      "source": [
        ""
      ],
      "execution_count": null,
      "outputs": []
    },
    {
      "cell_type": "code",
      "metadata": {
        "id": "NdqBy-OmqV6c"
      },
      "source": [
        ""
      ],
      "execution_count": null,
      "outputs": []
    },
    {
      "cell_type": "markdown",
      "metadata": {
        "id": "AYZl2Ec3jjpP"
      },
      "source": [
        "# **Model Training**"
      ]
    },
    {
      "cell_type": "code",
      "metadata": {
        "id": "q4T2XkZeMlaB",
        "colab": {
          "base_uri": "https://localhost:8080/"
        },
        "outputId": "25ac6144-2a51-48da-d61c-10d312c3e229"
      },
      "source": [
        "%load_ext tensorboard\n",
        "log_dir = \"logs/fit/\" + datetime.datetime.now().strftime(\"%Y%m%d-%H%M%S\")\n",
        "tensorboard_callback = tf.keras.callbacks.TensorBoard(log_dir=log_dir, histogram_freq=1)\n",
        "training = mod.fit(x=X_train, y=y_train, batch_size=64, epochs=40, validation_data=(X_test, y_test),callbacks=[tensorboard_callback])"
      ],
      "execution_count": null,
      "outputs": [
        {
          "output_type": "stream",
          "name": "stdout",
          "text": [
            "Epoch 1/40\n",
            "105/105 [==============================] - 2s 8ms/step - loss: 1.2735 - accuracy: 0.8699 - val_loss: 0.4104 - val_accuracy: 0.9291\n",
            "Epoch 2/40\n",
            "105/105 [==============================] - 1s 6ms/step - loss: 0.3509 - accuracy: 0.9341 - val_loss: 0.3299 - val_accuracy: 0.9356\n",
            "Epoch 3/40\n",
            "105/105 [==============================] - 1s 6ms/step - loss: 0.3077 - accuracy: 0.9366 - val_loss: 0.2887 - val_accuracy: 0.9249\n",
            "Epoch 4/40\n",
            "105/105 [==============================] - 1s 6ms/step - loss: 0.2838 - accuracy: 0.9439 - val_loss: 0.2760 - val_accuracy: 0.9452\n",
            "Epoch 5/40\n",
            "105/105 [==============================] - 1s 6ms/step - loss: 0.2681 - accuracy: 0.9453 - val_loss: 0.2557 - val_accuracy: 0.9422\n",
            "Epoch 6/40\n",
            "105/105 [==============================] - 1s 6ms/step - loss: 0.2569 - accuracy: 0.9502 - val_loss: 0.2968 - val_accuracy: 0.9118\n",
            "Epoch 7/40\n",
            "105/105 [==============================] - 1s 6ms/step - loss: 0.2514 - accuracy: 0.9477 - val_loss: 0.2387 - val_accuracy: 0.9529\n",
            "Epoch 8/40\n",
            "105/105 [==============================] - 1s 6ms/step - loss: 0.2447 - accuracy: 0.9501 - val_loss: 0.2392 - val_accuracy: 0.9523\n",
            "Epoch 9/40\n",
            "105/105 [==============================] - 1s 6ms/step - loss: 0.2337 - accuracy: 0.9523 - val_loss: 0.2588 - val_accuracy: 0.9225\n",
            "Epoch 10/40\n",
            "105/105 [==============================] - 1s 5ms/step - loss: 0.2336 - accuracy: 0.9513 - val_loss: 0.2218 - val_accuracy: 0.9583\n",
            "Epoch 11/40\n",
            "105/105 [==============================] - 1s 6ms/step - loss: 0.2249 - accuracy: 0.9524 - val_loss: 0.2167 - val_accuracy: 0.9613\n",
            "Epoch 12/40\n",
            "105/105 [==============================] - 1s 5ms/step - loss: 0.2212 - accuracy: 0.9545 - val_loss: 0.2215 - val_accuracy: 0.9434\n",
            "Epoch 13/40\n",
            "105/105 [==============================] - 1s 5ms/step - loss: 0.2168 - accuracy: 0.9547 - val_loss: 0.2083 - val_accuracy: 0.9625\n",
            "Epoch 14/40\n",
            "105/105 [==============================] - 1s 6ms/step - loss: 0.2113 - accuracy: 0.9556 - val_loss: 0.2223 - val_accuracy: 0.9678\n",
            "Epoch 15/40\n",
            "105/105 [==============================] - 1s 6ms/step - loss: 0.2122 - accuracy: 0.9563 - val_loss: 0.2032 - val_accuracy: 0.9523\n",
            "Epoch 16/40\n",
            "105/105 [==============================] - 1s 5ms/step - loss: 0.2079 - accuracy: 0.9562 - val_loss: 0.1977 - val_accuracy: 0.9589\n",
            "Epoch 17/40\n",
            "105/105 [==============================] - 1s 6ms/step - loss: 0.2022 - accuracy: 0.9586 - val_loss: 0.2106 - val_accuracy: 0.9482\n",
            "Epoch 18/40\n",
            "105/105 [==============================] - 1s 6ms/step - loss: 0.2024 - accuracy: 0.9572 - val_loss: 0.2079 - val_accuracy: 0.9690\n",
            "Epoch 19/40\n",
            "105/105 [==============================] - 1s 6ms/step - loss: 0.1993 - accuracy: 0.9568 - val_loss: 0.1981 - val_accuracy: 0.9505\n",
            "Epoch 20/40\n",
            "105/105 [==============================] - 1s 5ms/step - loss: 0.1957 - accuracy: 0.9581 - val_loss: 0.1906 - val_accuracy: 0.9642\n",
            "Epoch 21/40\n",
            "105/105 [==============================] - 1s 5ms/step - loss: 0.1932 - accuracy: 0.9584 - val_loss: 0.1836 - val_accuracy: 0.9577\n",
            "Epoch 22/40\n",
            "105/105 [==============================] - 1s 6ms/step - loss: 0.1948 - accuracy: 0.9593 - val_loss: 0.1809 - val_accuracy: 0.9595\n",
            "Epoch 23/40\n",
            "105/105 [==============================] - 1s 6ms/step - loss: 0.1867 - accuracy: 0.9615 - val_loss: 0.1798 - val_accuracy: 0.9613\n",
            "Epoch 24/40\n",
            "105/105 [==============================] - 1s 5ms/step - loss: 0.1862 - accuracy: 0.9611 - val_loss: 0.1814 - val_accuracy: 0.9613\n",
            "Epoch 25/40\n",
            "105/105 [==============================] - 1s 6ms/step - loss: 0.1881 - accuracy: 0.9597 - val_loss: 0.1957 - val_accuracy: 0.9482\n",
            "Epoch 26/40\n",
            "105/105 [==============================] - 1s 6ms/step - loss: 0.1882 - accuracy: 0.9614 - val_loss: 0.1787 - val_accuracy: 0.9553\n",
            "Epoch 27/40\n",
            "105/105 [==============================] - 1s 5ms/step - loss: 0.1872 - accuracy: 0.9584 - val_loss: 0.1779 - val_accuracy: 0.9601\n",
            "Epoch 28/40\n",
            "105/105 [==============================] - 1s 6ms/step - loss: 0.1815 - accuracy: 0.9620 - val_loss: 0.1747 - val_accuracy: 0.9601\n",
            "Epoch 29/40\n",
            "105/105 [==============================] - 1s 6ms/step - loss: 0.1777 - accuracy: 0.9620 - val_loss: 0.1709 - val_accuracy: 0.9672\n",
            "Epoch 30/40\n",
            "105/105 [==============================] - 1s 6ms/step - loss: 0.1771 - accuracy: 0.9644 - val_loss: 0.1885 - val_accuracy: 0.9464\n",
            "Epoch 31/40\n",
            "105/105 [==============================] - 1s 6ms/step - loss: 0.1766 - accuracy: 0.9612 - val_loss: 0.1714 - val_accuracy: 0.9589\n",
            "Epoch 32/40\n",
            "105/105 [==============================] - 1s 5ms/step - loss: 0.1767 - accuracy: 0.9630 - val_loss: 0.1700 - val_accuracy: 0.9607\n",
            "Epoch 33/40\n",
            "105/105 [==============================] - 1s 6ms/step - loss: 0.1713 - accuracy: 0.9644 - val_loss: 0.1662 - val_accuracy: 0.9714\n",
            "Epoch 34/40\n",
            "105/105 [==============================] - 1s 5ms/step - loss: 0.1722 - accuracy: 0.9639 - val_loss: 0.1823 - val_accuracy: 0.9476\n",
            "Epoch 35/40\n",
            "105/105 [==============================] - 1s 5ms/step - loss: 0.1676 - accuracy: 0.9660 - val_loss: 0.1652 - val_accuracy: 0.9720\n",
            "Epoch 36/40\n",
            "105/105 [==============================] - 1s 6ms/step - loss: 0.1685 - accuracy: 0.9657 - val_loss: 0.1800 - val_accuracy: 0.9476\n",
            "Epoch 37/40\n",
            "105/105 [==============================] - 1s 6ms/step - loss: 0.1698 - accuracy: 0.9638 - val_loss: 0.1628 - val_accuracy: 0.9708\n",
            "Epoch 38/40\n",
            "105/105 [==============================] - 1s 6ms/step - loss: 0.1661 - accuracy: 0.9645 - val_loss: 0.1694 - val_accuracy: 0.9529\n",
            "Epoch 39/40\n",
            "105/105 [==============================] - 1s 6ms/step - loss: 0.1695 - accuracy: 0.9660 - val_loss: 0.1582 - val_accuracy: 0.9738\n",
            "Epoch 40/40\n",
            "105/105 [==============================] - 1s 6ms/step - loss: 0.1623 - accuracy: 0.9656 - val_loss: 0.1555 - val_accuracy: 0.9678\n"
          ]
        }
      ]
    },
    {
      "cell_type": "markdown",
      "metadata": {
        "id": "LQnj8o50jnnW"
      },
      "source": [
        "# **Model Summary**"
      ]
    },
    {
      "cell_type": "code",
      "metadata": {
        "colab": {
          "base_uri": "https://localhost:8080/"
        },
        "id": "sbjc4EK7s4MX",
        "outputId": "8e361fc5-e76c-4d5b-bc0d-7861cd6ee836"
      },
      "source": [
        "mod.summary()"
      ],
      "execution_count": null,
      "outputs": [
        {
          "output_type": "stream",
          "name": "stdout",
          "text": [
            "Model: \"model\"\n",
            "_________________________________________________________________\n",
            "Layer (type)                 Output Shape              Param #   \n",
            "=================================================================\n",
            "input_1 (InputLayer)         [(None, 10)]              0         \n",
            "_________________________________________________________________\n",
            "dense (Dense)                (None, 500)               5500      \n",
            "_________________________________________________________________\n",
            "dense_1 (Dense)              (None, 200)               100200    \n",
            "_________________________________________________________________\n",
            "dense_2 (Dense)              (None, 1)                 201       \n",
            "=================================================================\n",
            "Total params: 105,901\n",
            "Trainable params: 105,901\n",
            "Non-trainable params: 0\n",
            "_________________________________________________________________\n"
          ]
        }
      ]
    },
    {
      "cell_type": "code",
      "metadata": {
        "id": "8BvMDGe0qZjp"
      },
      "source": [
        ""
      ],
      "execution_count": null,
      "outputs": []
    },
    {
      "cell_type": "code",
      "metadata": {
        "id": "6kdC56i2qZXv"
      },
      "source": [
        ""
      ],
      "execution_count": null,
      "outputs": []
    },
    {
      "cell_type": "code",
      "metadata": {
        "id": "RId3rhQ8qZTo"
      },
      "source": [
        ""
      ],
      "execution_count": null,
      "outputs": []
    },
    {
      "cell_type": "markdown",
      "metadata": {
        "id": "OEV1dSSqjrjH"
      },
      "source": [
        "# **Visuialisation of the feed-forward neural network**"
      ]
    },
    {
      "cell_type": "code",
      "metadata": {
        "colab": {
          "base_uri": "https://localhost:8080/",
          "height": 422
        },
        "id": "8zfZgzXNUiCL",
        "outputId": "56162c52-90b2-470d-91e7-87465c1b6e3e"
      },
      "source": [
        "from keras.utils import plot_model\n",
        "plot_model(mod, to_file='feed_forward.png', show_shapes=True, show_layer_names=True)"
      ],
      "execution_count": null,
      "outputs": [
        {
          "output_type": "execute_result",
          "data": {
            "image/png": "[encoded data removed]",
            "text/plain": [
              "<IPython.core.display.Image object>"
            ]
          },
          "metadata": {
            "tags": []
          },
          "execution_count": 46
        }
      ]
    },
    {
      "cell_type": "code",
      "metadata": {
        "id": "iKPEhEVDqbc3"
      },
      "source": [
        ""
      ],
      "execution_count": null,
      "outputs": []
    },
    {
      "cell_type": "code",
      "metadata": {
        "id": "hWujE8JRqbZL"
      },
      "source": [
        ""
      ],
      "execution_count": null,
      "outputs": []
    },
    {
      "cell_type": "code",
      "metadata": {
        "id": "u99GY09gqbU3"
      },
      "source": [
        ""
      ],
      "execution_count": null,
      "outputs": []
    },
    {
      "cell_type": "code",
      "metadata": {
        "id": "0BftgStZqbRL"
      },
      "source": [
        ""
      ],
      "execution_count": null,
      "outputs": []
    },
    {
      "cell_type": "markdown",
      "metadata": {
        "id": "vX-8FSxsnauD"
      },
      "source": [
        "# **Evaluation of the model**"
      ]
    },
    {
      "cell_type": "code",
      "metadata": {
        "colab": {
          "base_uri": "https://localhost:8080/"
        },
        "id": "KfdM42HFXT6i",
        "outputId": "2e015f48-50fa-4244-ec3c-578ed48c674f"
      },
      "source": [
        "score = mod.evaluate(X_test, y_test, verbose = 0) \n",
        "print('Test loss:', score[0]) \n",
        "print('Test accuracy:', score[1])"
      ],
      "execution_count": null,
      "outputs": [
        {
          "output_type": "stream",
          "name": "stdout",
          "text": [
            "Test loss: 0.155473530292511\n",
            "Test accuracy: 0.9678188562393188\n"
          ]
        }
      ]
    },
    {
      "cell_type": "code",
      "metadata": {
        "id": "NF15ilXKKzcA"
      },
      "source": [
        "import sklearn"
      ],
      "execution_count": null,
      "outputs": []
    },
    {
      "cell_type": "code",
      "metadata": {
        "id": "tbO9daLoH44L"
      },
      "source": [
        "y_pred = mod.predict(X_test)\n",
        "confusion_matrix = sklearn.metrics.confusion_matrix(y_test, np.rint(y_pred))"
      ],
      "execution_count": null,
      "outputs": []
    },
    {
      "cell_type": "code",
      "metadata": {
        "colab": {
          "base_uri": "https://localhost:8080/"
        },
        "id": "7YWShh_RK3Om",
        "outputId": "abd46e9e-cb05-469e-b010-4a147a7b86ec"
      },
      "source": [
        "print(confusion_matrix)"
      ],
      "execution_count": null,
      "outputs": [
        {
          "output_type": "stream",
          "name": "stdout",
          "text": [
            "[[644  36]\n",
            " [ 18 980]]\n"
          ]
        }
      ]
    },
    {
      "cell_type": "code",
      "metadata": {
        "id": "ILmvZSlILd6f"
      },
      "source": [
        ""
      ],
      "execution_count": null,
      "outputs": []
    },
    {
      "cell_type": "code",
      "metadata": {
        "id": "PrC5KFK3LeCQ"
      },
      "source": [
        ""
      ],
      "execution_count": null,
      "outputs": []
    },
    {
      "cell_type": "code",
      "metadata": {
        "id": "_XcJLVjlK7Mm"
      },
      "source": [
        "from sklearn.metrics import classification_report"
      ],
      "execution_count": null,
      "outputs": []
    },
    {
      "cell_type": "code",
      "metadata": {
        "colab": {
          "base_uri": "https://localhost:8080/"
        },
        "id": "Iu0740Fwn3kx",
        "outputId": "b7ba42fb-2c72-44e8-9455-dbdf41b400d3"
      },
      "source": [
        "list(zip(mod.predict(X_test).flatten(),y_test.flatten()))"
      ],
      "execution_count": null,
      "outputs": [
        {
          "output_type": "execute_result",
          "data": {
            "text/plain": [
              "[(0.08535847, 0),\n",
              " (0.89740056, 1),\n",
              " (0.015844613, 0),\n",
              " (0.98637354, 1),\n",
              " (0.9869453, 1),\n",
              " (0.42040065, 1),\n",
              " (0.0018847287, 0),\n",
              " (0.9873251, 1),\n",
              " (0.9865706, 1),\n",
              " (0.23740023, 0),\n",
              " (0.9866015, 1),\n",
              " (0.0008470416, 0),\n",
              " (0.9871439, 1),\n",
              " (0.018342853, 0),\n",
              " (0.89629036, 1),\n",
              " (0.0006438494, 0),\n",
              " (0.010596514, 0),\n",
              " (0.9872376, 1),\n",
              " (0.9873169, 1),\n",
              " (0.9870068, 1),\n",
              " (0.9871627, 1),\n",
              " (0.98708, 1),\n",
              " (4.430618e-05, 0),\n",
              " (0.91143525, 1),\n",
              " (0.6145887, 1),\n",
              " (0.9870829, 1),\n",
              " (0.02553457, 0),\n",
              " (0.98767895, 1),\n",
              " (0.9871675, 1),\n",
              " (0.9870882, 1),\n",
              " (0.000610739, 0),\n",
              " (0.9872179, 1),\n",
              " (0.9868536, 1),\n",
              " (0.0012591481, 0),\n",
              " (0.13686323, 0),\n",
              " (0.12194842, 0),\n",
              " (0.00041267276, 0),\n",
              " (0.90845156, 1),\n",
              " (0.95518625, 1),\n",
              " (0.0016133487, 0),\n",
              " (0.98683786, 1),\n",
              " (0.009890646, 0),\n",
              " (0.966009, 1),\n",
              " (0.9869556, 1),\n",
              " (0.023410708, 0),\n",
              " (0.7412479, 1),\n",
              " (0.06588635, 0),\n",
              " (0.9050053, 1),\n",
              " (0.005943209, 0),\n",
              " (0.9871277, 1),\n",
              " (0.98714596, 1),\n",
              " (0.98727524, 1),\n",
              " (0.11000806, 0),\n",
              " (0.006523758, 0),\n",
              " (0.011488736, 0),\n",
              " (0.006008595, 0),\n",
              " (0.14937106, 0),\n",
              " (0.98715025, 1),\n",
              " (0.008256823, 0),\n",
              " (0.8948089, 1),\n",
              " (0.10094038, 0),\n",
              " (0.8945558, 1),\n",
              " (0.2279191, 1),\n",
              " (0.008918315, 0),\n",
              " (0.00032788515, 0),\n",
              " (0.98724383, 1),\n",
              " (0.9871862, 1),\n",
              " (0.9868953, 1),\n",
              " (0.9423388, 1),\n",
              " (0.9512694, 1),\n",
              " (0.0115363, 0),\n",
              " (0.13297987, 0),\n",
              " (5.04263e-11, 0),\n",
              " (0.9873918, 1),\n",
              " (0.001868546, 0),\n",
              " (0.9871218, 1),\n",
              " (0.9862323, 1),\n",
              " (0.0052974224, 0),\n",
              " (0.93391514, 1),\n",
              " (0.98725915, 1),\n",
              " (0.83216715, 1),\n",
              " (0.97907275, 1),\n",
              " (0.98728395, 1),\n",
              " (0.96909463, 1),\n",
              " (0.01804015, 0),\n",
              " (0.016860723, 1),\n",
              " (0.44141334, 1),\n",
              " (0.014019966, 1),\n",
              " (2.7320857e-05, 0),\n",
              " (0.76904213, 1),\n",
              " (0.5891577, 1),\n",
              " (0.98740274, 1),\n",
              " (0.0032524765, 0),\n",
              " (0.21555352, 0),\n",
              " (0.043186754, 0),\n",
              " (0.9867914, 1),\n",
              " (0.9453586, 1),\n",
              " (0.0017641187, 0),\n",
              " (0.9871936, 1),\n",
              " (0.0021326542, 0),\n",
              " (0.94903815, 1),\n",
              " (0.18601811, 0),\n",
              " (0.10950512, 0),\n",
              " (0.9863143, 1),\n",
              " (0.9096569, 1),\n",
              " (0.98714924, 1),\n",
              " (0.9871079, 1),\n",
              " (0.42063695, 1),\n",
              " (0.98639286, 1),\n",
              " (0.012773395, 1),\n",
              " (0.92390555, 1),\n",
              " (0.0007311404, 0),\n",
              " (0.9872904, 1),\n",
              " (0.0052897036, 0),\n",
              " (0.9635663, 1),\n",
              " (0.9862287, 1),\n",
              " (0.98710716, 1),\n",
              " (0.8945196, 1),\n",
              " (0.9867049, 1),\n",
              " (0.98662496, 1),\n",
              " (0.005427301, 0),\n",
              " (0.98618203, 1),\n",
              " (0.012205392, 0),\n",
              " (0.0096799135, 0),\n",
              " (0.024148524, 1),\n",
              " (0.9862133, 1),\n",
              " (0.0004119575, 0),\n",
              " (0.9867351, 1),\n",
              " (0.027757227, 0),\n",
              " (0.98728734, 1),\n",
              " (0.98716044, 1),\n",
              " (0.9873892, 1),\n",
              " (0.0048212707, 0),\n",
              " (0.9873183, 1),\n",
              " (0.05220747, 0),\n",
              " (0.98727447, 1),\n",
              " (0.00933513, 0),\n",
              " (0.017858684, 0),\n",
              " (0.98631537, 1),\n",
              " (0.0009148717, 0),\n",
              " (0.8571234, 1),\n",
              " (0.008335322, 0),\n",
              " (0.55881673, 1),\n",
              " (0.9436072, 1),\n",
              " (0.009324908, 0),\n",
              " (0.01626736, 0),\n",
              " (0.9871488, 1),\n",
              " (0.00056001544, 0),\n",
              " (1.144462e-09, 0),\n",
              " (0.0075909793, 0),\n",
              " (0.16422302, 0),\n",
              " (0.98621464, 1),\n",
              " (0.00035747886, 0),\n",
              " (0.065624475, 0),\n",
              " (0.02125296, 0),\n",
              " (0.8953916, 1),\n",
              " (0.33379483, 0),\n",
              " (0.98682123, 1),\n",
              " (0.101080626, 1),\n",
              " (0.94355977, 1),\n",
              " (0.10634369, 0),\n",
              " (0.0038061142, 0),\n",
              " (0.98734075, 1),\n",
              " (0.0005673766, 0),\n",
              " (0.9873086, 1),\n",
              " (0.9899488, 1),\n",
              " (0.0032745004, 0),\n",
              " (0.0043506324, 0),\n",
              " (0.014975131, 0),\n",
              " (0.017537624, 0),\n",
              " (0.9873278, 1),\n",
              " (0.89660275, 1),\n",
              " (0.98724353, 1),\n",
              " (0.9869913, 1),\n",
              " (0.93822384, 0),\n",
              " (0.9524814, 1),\n",
              " (0.046391666, 0),\n",
              " (0.0039049387, 0),\n",
              " (0.0038300753, 0),\n",
              " (0.98732084, 1),\n",
              " (0.016330272, 0),\n",
              " (0.9871715, 1),\n",
              " (0.7833334, 1),\n",
              " (0.9353322, 1),\n",
              " (0.15667248, 0),\n",
              " (0.061703265, 0),\n",
              " (0.9902682, 1),\n",
              " (0.98717, 1),\n",
              " (0.98617613, 1),\n",
              " (0.98655605, 1),\n",
              " (0.005389869, 0),\n",
              " (0.00016081333, 0),\n",
              " (0.98728085, 1),\n",
              " (0.00016605854, 0),\n",
              " (0.83688504, 0),\n",
              " (0.04545003, 0),\n",
              " (0.9864979, 1),\n",
              " (0.9872929, 1),\n",
              " (0.0013613403, 0),\n",
              " (0.027667195, 0),\n",
              " (0.8562157, 1),\n",
              " (0.26412982, 1),\n",
              " (0.9638642, 1),\n",
              " (0.9862062, 1),\n",
              " (0.9861567, 1),\n",
              " (0.009042621, 1),\n",
              " (0.95695376, 1),\n",
              " (0.9871259, 1),\n",
              " (0.98651695, 1),\n",
              " (0.0004695952, 0),\n",
              " (0.0027633011, 0),\n",
              " (0.98684543, 1),\n",
              " (0.98680234, 1),\n",
              " (0.013052344, 0),\n",
              " (0.9872529, 1),\n",
              " (0.0010135174, 0),\n",
              " (0.9896505, 1),\n",
              " (0.8970109, 1),\n",
              " (0.78928924, 0),\n",
              " (0.15404576, 0),\n",
              " (0.9868777, 1),\n",
              " (0.97590315, 1),\n",
              " (3.7453356e-05, 0),\n",
              " (0.98695755, 1),\n",
              " (0.0029608011, 0),\n",
              " (0.98692846, 1),\n",
              " (0.9063911, 1),\n",
              " (0.98727745, 1),\n",
              " (0.98929524, 1),\n",
              " (0.0041178763, 0),\n",
              " (0.9871049, 1),\n",
              " (0.00091296434, 0),\n",
              " (0.98728323, 1),\n",
              " (0.00072711706, 0),\n",
              " (0.008352995, 0),\n",
              " (0.8959181, 1),\n",
              " (0.987362, 1),\n",
              " (0.0009993017, 0),\n",
              " (0.72860044, 0),\n",
              " (0.98696804, 1),\n",
              " (0.0040743053, 0),\n",
              " (0.9873607, 1),\n",
              " (0.0127491355, 0),\n",
              " (0.5561592, 0),\n",
              " (0.10141635, 0),\n",
              " (0.98641115, 1),\n",
              " (0.98691785, 1),\n",
              " (0.02068314, 0),\n",
              " (0.006843269, 0),\n",
              " (0.98773384, 1),\n",
              " (0.012030065, 0),\n",
              " (0.26095432, 0),\n",
              " (0.00022816658, 0),\n",
              " (0.9874768, 1),\n",
              " (0.9861682, 1),\n",
              " (0.00087693334, 0),\n",
              " (0.895238, 1),\n",
              " (0.004345387, 0),\n",
              " (0.98717046, 1),\n",
              " (0.9862745, 1),\n",
              " (0.24333706, 0),\n",
              " (0.9867605, 1),\n",
              " (0.97199345, 1),\n",
              " (0.030333072, 0),\n",
              " (0.9864019, 1),\n",
              " (0.9872134, 1),\n",
              " (0.0011950731, 0),\n",
              " (0.006196648, 0),\n",
              " (0.0004107952, 0),\n",
              " (0.023046076, 0),\n",
              " (0.88795865, 1),\n",
              " (0.08165243, 0),\n",
              " (0.9447224, 1),\n",
              " (0.98720026, 1),\n",
              " (0.9898319, 1),\n",
              " (0.9872571, 1),\n",
              " (0.98667157, 1),\n",
              " (0.9863094, 1),\n",
              " (0.9867051, 1),\n",
              " (0.98702633, 1),\n",
              " (0.89558303, 1),\n",
              " (0.00018706918, 0),\n",
              " (0.98692846, 1),\n",
              " (0.8953736, 1),\n",
              " (0.80343515, 1),\n",
              " (0.9871665, 1),\n",
              " (0.016346186, 0),\n",
              " (0.9873346, 1),\n",
              " (0.98638403, 1),\n",
              " (0.9871785, 1),\n",
              " (0.98717177, 1),\n",
              " (0.9871013, 1),\n",
              " (0.5580699, 1),\n",
              " (0.8945626, 1),\n",
              " (0.9869801, 1),\n",
              " (0.0011262596, 0),\n",
              " (0.98664105, 1),\n",
              " (0.98670256, 1),\n",
              " (0.0072484612, 0),\n",
              " (0.9867203, 1),\n",
              " (0.0058964193, 0),\n",
              " (0.017383724, 0),\n",
              " (0.98673296, 1),\n",
              " (0.9867388, 1),\n",
              " (0.15797108, 0),\n",
              " (0.02812928, 0),\n",
              " (0.9870645, 1),\n",
              " (0.98718506, 1),\n",
              " (0.020617604, 0),\n",
              " (0.9872196, 1),\n",
              " (0.987458, 1),\n",
              " (0.00649032, 0),\n",
              " (0.9872438, 1),\n",
              " (0.9169357, 1),\n",
              " (0.025950104, 0),\n",
              " (0.9867075, 1),\n",
              " (0.88773316, 1),\n",
              " (0.98721206, 1),\n",
              " (0.85128427, 1),\n",
              " (0.986671, 1),\n",
              " (0.010477573, 0),\n",
              " (0.001178056, 0),\n",
              " (0.909803, 1),\n",
              " (0.9899932, 1),\n",
              " (0.0053277016, 0),\n",
              " (0.0069556236, 0),\n",
              " (0.9871733, 1),\n",
              " (0.98683244, 1),\n",
              " (0.89543927, 1),\n",
              " (0.009082258, 0),\n",
              " (0.4728459, 0),\n",
              " (0.95416635, 1),\n",
              " (0.98728746, 1),\n",
              " (0.98650175, 1),\n",
              " (0.85417426, 1),\n",
              " (0.98712176, 1),\n",
              " (0.98620933, 1),\n",
              " (0.04155612, 0),\n",
              " (0.0050059855, 0),\n",
              " (0.98731685, 1),\n",
              " (0.910864, 1),\n",
              " (0.9477118, 0),\n",
              " (0.03249052, 0),\n",
              " (0.00065144897, 0),\n",
              " (0.98725915, 1),\n",
              " (0.005030364, 0),\n",
              " (0.006393373, 0),\n",
              " (0.9379233, 1),\n",
              " (0.0040696263, 0),\n",
              " (0.9869524, 1),\n",
              " (0.9867809, 1),\n",
              " (0.9859674, 1),\n",
              " (0.9131453, 1),\n",
              " (0.9862813, 1),\n",
              " (0.8597561, 1),\n",
              " (0.00094401836, 0),\n",
              " (0.9862919, 1),\n",
              " (0.89706445, 1),\n",
              " (0.14188308, 0),\n",
              " (0.9862095, 1),\n",
              " (0.02306959, 0),\n",
              " (0.0016316175, 0),\n",
              " (0.37786058, 1),\n",
              " (0.98718154, 1),\n",
              " (0.9867313, 1),\n",
              " (0.9700428, 1),\n",
              " (0.9874016, 1),\n",
              " (0.94999045, 1),\n",
              " (0.89546555, 1),\n",
              " (0.0012817085, 0),\n",
              " (0.98672694, 1),\n",
              " (0.9873599, 1),\n",
              " (0.98618406, 1),\n",
              " (0.0082959235, 0),\n",
              " (0.036315143, 0),\n",
              " (0.0035057068, 0),\n",
              " (0.98729527, 1),\n",
              " (0.8956834, 1),\n",
              " (0.98626935, 1),\n",
              " (0.1646271, 0),\n",
              " (0.17000237, 1),\n",
              " (0.9871764, 1),\n",
              " (0.0027992427, 0),\n",
              " (0.3038047, 1),\n",
              " (0.9871843, 1),\n",
              " (0.98610103, 1),\n",
              " (0.710436, 0),\n",
              " (0.0036717653, 0),\n",
              " (0.9547509, 1),\n",
              " (0.9872493, 1),\n",
              " (0.9863769, 1),\n",
              " (0.01045683, 0),\n",
              " (0.0037424266, 0),\n",
              " (0.046188682, 0),\n",
              " (0.8856852, 1),\n",
              " (0.8962414, 1),\n",
              " (0.9859996, 1),\n",
              " (0.7321634, 1),\n",
              " (0.9864124, 1),\n",
              " (0.006534457, 0),\n",
              " (0.14638808, 0),\n",
              " (0.7196231, 1),\n",
              " (0.98724556, 1),\n",
              " (0.9870509, 1),\n",
              " (0.019669443, 0),\n",
              " (0.5470094, 1),\n",
              " (0.98731685, 1),\n",
              " (0.98654664, 1),\n",
              " (0.0015316904, 0),\n",
              " (0.7523961, 1),\n",
              " (0.00015082955, 0),\n",
              " (0.89381975, 1),\n",
              " (0.0028348863, 0),\n",
              " (0.9445615, 1),\n",
              " (0.022385538, 0),\n",
              " (0.7384317, 1),\n",
              " (0.9867864, 1),\n",
              " (0.98659974, 1),\n",
              " (0.95851415, 1),\n",
              " (0.001654774, 0),\n",
              " (0.006461501, 0),\n",
              " (0.986812, 1),\n",
              " (0.9447018, 1),\n",
              " (0.0011511743, 0),\n",
              " (0.98724055, 1),\n",
              " (0.9869232, 1),\n",
              " (0.6954435, 0),\n",
              " (0.0008535087, 0),\n",
              " (0.9871682, 1),\n",
              " (0.98720795, 1),\n",
              " (0.9871656, 1),\n",
              " (0.0004633069, 0),\n",
              " (0.07098469, 0),\n",
              " (0.8942923, 1),\n",
              " (0.98710585, 1),\n",
              " (0.15340707, 0),\n",
              " (0.24037808, 0),\n",
              " (0.98730326, 1),\n",
              " (0.9872067, 1),\n",
              " (0.89672726, 1),\n",
              " (0.9871313, 1),\n",
              " (0.91099095, 1),\n",
              " (0.9900185, 1),\n",
              " (6.1037485e-05, 0),\n",
              " (0.010231376, 0),\n",
              " (0.009012371, 0),\n",
              " (0.70406854, 1),\n",
              " (0.008690387, 0),\n",
              " (2.1819906e-05, 0),\n",
              " (0.98735994, 1),\n",
              " (0.00091680884, 0),\n",
              " (0.98717344, 1),\n",
              " (0.31021044, 0),\n",
              " (0.98646677, 1),\n",
              " (0.93108135, 1),\n",
              " (0.98731637, 1),\n",
              " (0.04208073, 0),\n",
              " (0.986707, 1),\n",
              " (0.0030430853, 0),\n",
              " (0.9872681, 1),\n",
              " (0.98664635, 1),\n",
              " (0.9869721, 1),\n",
              " (0.031663597, 0),\n",
              " (0.29556063, 1),\n",
              " (0.9871472, 1),\n",
              " (0.005777657, 0),\n",
              " (0.00010765555, 0),\n",
              " (0.9865222, 1),\n",
              " (0.010596365, 0),\n",
              " (0.06571078, 0),\n",
              " (0.8463203, 1),\n",
              " (0.00025466084, 0),\n",
              " (0.92002296, 1),\n",
              " (0.3322657, 0),\n",
              " (0.9539418, 1),\n",
              " (0.98192334, 1),\n",
              " (0.9861934, 1),\n",
              " (1.2696948e-05, 0),\n",
              " (0.9900357, 1),\n",
              " (0.9864508, 1),\n",
              " (0.0016723871, 0),\n",
              " (0.16102543, 0),\n",
              " (0.9869225, 1),\n",
              " (0.96169984, 1),\n",
              " (0.9872172, 1),\n",
              " (0.0016307533, 0),\n",
              " (0.9865856, 1),\n",
              " (9.1151895e-05, 0),\n",
              " (0.06517419, 0),\n",
              " (0.98614967, 1),\n",
              " (0.9873278, 1),\n",
              " (0.9861629, 1),\n",
              " (0.0039155185, 0),\n",
              " (0.0070555806, 0),\n",
              " (0.006418377, 0),\n",
              " (0.002913624, 1),\n",
              " (0.50542766, 0),\n",
              " (0.0021083653, 0),\n",
              " (0.16394219, 0),\n",
              " (0.116638154, 0),\n",
              " (0.9860453, 1),\n",
              " (0.9360874, 1),\n",
              " (0.8495358, 1),\n",
              " (0.9871552, 1),\n",
              " (4.0578016e-06, 0),\n",
              " (0.00025349855, 0),\n",
              " (0.01080963, 0),\n",
              " (0.9860898, 1),\n",
              " (0.98733306, 1),\n",
              " (0.9872384, 1),\n",
              " (0.009941578, 0),\n",
              " (0.8967851, 1),\n",
              " (0.9869924, 1),\n",
              " (0.8965932, 1),\n",
              " (0.0028863847, 0),\n",
              " (0.0017334819, 0),\n",
              " (0.981166, 1),\n",
              " (0.99507356, 1),\n",
              " (0.0026815832, 0),\n",
              " (0.9668143, 1),\n",
              " (0.9871967, 1),\n",
              " (0.75620955, 1),\n",
              " (0.03119868, 0),\n",
              " (0.8860631, 1),\n",
              " (0.059193134, 1),\n",
              " (0.07809928, 0),\n",
              " (0.08834022, 1),\n",
              " (0.8528969, 1),\n",
              " (0.014074057, 0),\n",
              " (0.15561217, 0),\n",
              " (0.9872381, 1),\n",
              " (0.9871907, 1),\n",
              " (0.98717535, 1),\n",
              " (0.98717785, 1),\n",
              " (0.9868041, 1),\n",
              " (0.00030848384, 0),\n",
              " (5.470092e-05, 0),\n",
              " (0.98727286, 1),\n",
              " (0.008948684, 0),\n",
              " (0.0030308664, 0),\n",
              " (0.9872661, 1),\n",
              " (0.98732007, 1),\n",
              " (0.050031602, 1),\n",
              " (0.98710525, 1),\n",
              " (0.98677343, 1),\n",
              " (0.007294953, 0),\n",
              " (0.0007882118, 0),\n",
              " (0.047654927, 0),\n",
              " (0.0049620867, 0),\n",
              " (0.90543103, 1),\n",
              " (0.7419676, 1),\n",
              " (0.07612586, 0),\n",
              " (1.9774786e-06, 0),\n",
              " (0.0017826557, 0),\n",
              " (0.9871502, 1),\n",
              " (0.98658574, 1),\n",
              " (0.9871412, 1),\n",
              " (0.9483061, 1),\n",
              " (0.9387212, 1),\n",
              " (0.009805679, 0),\n",
              " (0.986166, 1),\n",
              " (0.98689365, 1),\n",
              " (0.15780154, 0),\n",
              " (0.9871233, 1),\n",
              " (0.98694366, 1),\n",
              " (0.053515315, 0),\n",
              " (0.98448455, 1),\n",
              " (0.015475661, 0),\n",
              " (0.08205643, 0),\n",
              " (0.98677945, 1),\n",
              " (0.98707306, 1),\n",
              " (0.006527275, 0),\n",
              " (0.98733205, 1),\n",
              " (0.00014278293, 0),\n",
              " (0.987468, 1),\n",
              " (0.00992924, 0),\n",
              " (0.038095027, 0),\n",
              " (0.98737264, 1),\n",
              " (0.010076582, 0),\n",
              " (0.009994864, 0),\n",
              " (0.002620548, 0),\n",
              " (0.9872304, 1),\n",
              " (0.8945558, 1),\n",
              " (0.9872995, 1),\n",
              " (0.031564623, 0),\n",
              " (0.07990202, 0),\n",
              " (0.9872594, 1),\n",
              " (0.006797701, 0),\n",
              " (5.11073e-05, 0),\n",
              " (0.00646466, 0),\n",
              " (0.8957215, 1),\n",
              " (0.89588755, 1),\n",
              " (0.0017401278, 0),\n",
              " (0.0057555437, 0),\n",
              " (0.98715734, 1),\n",
              " (0.9870354, 1),\n",
              " (0.9871588, 1),\n",
              " (0.9866738, 1),\n",
              " (0.98737764, 1),\n",
              " (0.96553683, 1),\n",
              " (0.98718, 1),\n",
              " (0.98723733, 1),\n",
              " (0.89604855, 1),\n",
              " (0.0023833513, 0),\n",
              " (0.8568753, 1),\n",
              " (0.016857296, 0),\n",
              " (0.0020439923, 0),\n",
              " (0.9872309, 1),\n",
              " (0.987258, 1),\n",
              " (0.00019958615, 0),\n",
              " (0.035772026, 0),\n",
              " (0.987201, 1),\n",
              " (0.9862237, 1),\n",
              " (0.008047849, 0),\n",
              " (0.89587945, 1),\n",
              " (0.98685837, 1),\n",
              " (0.9872495, 1),\n",
              " (0.03621298, 0),\n",
              " (0.98666835, 1),\n",
              " (0.9872789, 1),\n",
              " (0.02046603, 0),\n",
              " (0.98735464, 1),\n",
              " (0.9867731, 1),\n",
              " (0.98721313, 1),\n",
              " (0.98724216, 1),\n",
              " (0.0009665787, 0),\n",
              " (0.027769774, 0),\n",
              " (0.98680973, 1),\n",
              " (0.8964411, 1),\n",
              " (0.012705088, 0),\n",
              " (0.98624927, 1),\n",
              " (0.09346473, 0),\n",
              " (0.8967353, 1),\n",
              " (0.012645036, 0),\n",
              " (0.98656595, 1),\n",
              " (0.98726237, 1),\n",
              " (0.08851409, 0),\n",
              " (0.006416708, 0),\n",
              " (0.98688346, 1),\n",
              " (0.89674515, 1),\n",
              " (0.124699086, 0),\n",
              " (0.98634315, 1),\n",
              " (0.044059664, 0),\n",
              " (0.59401876, 1),\n",
              " (0.024012536, 0),\n",
              " (0.987409, 1),\n",
              " (4.414744e-06, 0),\n",
              " (0.00216192, 0),\n",
              " (0.98726046, 1),\n",
              " (0.98725474, 1),\n",
              " (0.07441199, 0),\n",
              " (0.98697424, 1),\n",
              " (0.92282116, 1),\n",
              " (0.9896543, 1),\n",
              " (0.9863862, 1),\n",
              " (0.0021366775, 0),\n",
              " (0.98724127, 1),\n",
              " (0.0005412698, 0),\n",
              " (0.987172, 1),\n",
              " (0.9499943, 1),\n",
              " (0.98725986, 1),\n",
              " (0.98689604, 1),\n",
              " (0.9871725, 1),\n",
              " (0.0085093975, 0),\n",
              " (0.9872874, 1),\n",
              " (0.011856139, 0),\n",
              " (0.8956722, 1),\n",
              " (0.9462606, 1),\n",
              " (0.98736393, 1),\n",
              " (0.98670715, 1),\n",
              " (0.0033437312, 0),\n",
              " (0.9872222, 1),\n",
              " (0.74857265, 0),\n",
              " (0.895985, 1),\n",
              " (0.026786089, 0),\n",
              " (0.00037881732, 0),\n",
              " (0.008136243, 0),\n",
              " (0.9875745, 1),\n",
              " (0.9617082, 1),\n",
              " (0.8247205, 1),\n",
              " (0.9868003, 1),\n",
              " (0.9867345, 1),\n",
              " (0.0047208965, 0),\n",
              " (0.98725677, 1),\n",
              " (0.007815897, 0),\n",
              " (0.98721814, 1),\n",
              " (0.98715967, 1),\n",
              " (0.9861745, 1),\n",
              " (0.987157, 1),\n",
              " (0.989219, 1),\n",
              " (0.0021166205, 0),\n",
              " (0.98699236, 1),\n",
              " (0.9867277, 1),\n",
              " (0.98703164, 1),\n",
              " (0.9867981, 1),\n",
              " (0.86503017, 1),\n",
              " (0.30431986, 1),\n",
              " (0.9872738, 1),\n",
              " (0.9115418, 1),\n",
              " (0.0014050603, 0),\n",
              " (0.7651949, 1),\n",
              " (0.005902499, 0),\n",
              " (0.9860639, 1),\n",
              " (0.98675454, 1),\n",
              " (0.0059871376, 0),\n",
              " (0.9895098, 1),\n",
              " (0.9711715, 1),\n",
              " (0.9871087, 1),\n",
              " (0.0064303577, 0),\n",
              " (0.059717298, 0),\n",
              " (0.0012120306, 0),\n",
              " (0.0056481957, 0),\n",
              " (0.0019443631, 0),\n",
              " (0.24097294, 0),\n",
              " (0.98721045, 1),\n",
              " (0.9867443, 1),\n",
              " (0.0005594194, 0),\n",
              " (0.013804853, 0),\n",
              " (0.9871334, 1),\n",
              " (0.9867676, 1),\n",
              " (0.9606801, 1),\n",
              " (0.074094266, 0),\n",
              " (0.98717403, 1),\n",
              " (0.9871191, 1),\n",
              " (0.8954838, 1),\n",
              " (0.98604774, 1),\n",
              " (0.00055623055, 0),\n",
              " (0.00084388256, 0),\n",
              " (0.9865148, 1),\n",
              " (0.6869803, 0),\n",
              " (0.9861897, 1),\n",
              " (0.085368454, 0),\n",
              " (0.0043474734, 0),\n",
              " (0.9872878, 1),\n",
              " (0.98990875, 1),\n",
              " (0.09669173, 0),\n",
              " (0.8962628, 1),\n",
              " (0.98614967, 1),\n",
              " (0.9873697, 1),\n",
              " (0.0054273307, 0),\n",
              " (0.6250198, 0),\n",
              " (0.98718613, 1),\n",
              " (0.98995626, 1),\n",
              " (0.98718137, 1),\n",
              " (0.98718584, 1),\n",
              " (3.47613e-05, 0),\n",
              " (0.78958905, 1),\n",
              " (0.98734176, 1),\n",
              " (0.018897742, 0),\n",
              " (0.98725426, 1),\n",
              " (0.9862472, 1),\n",
              " (0.7610643, 0),\n",
              " (0.0104644, 0),\n",
              " (0.9104425, 1),\n",
              " (0.0017347932, 0),\n",
              " (0.896245, 1),\n",
              " (0.0036326647, 0),\n",
              " (0.0046236217, 0),\n",
              " (0.00711897, 0),\n",
              " (0.9867323, 1),\n",
              " (0.95852846, 1),\n",
              " (0.065612316, 1),\n",
              " (0.12986305, 0),\n",
              " (0.9867654, 1),\n",
              " (0.9872514, 1),\n",
              " (0.004668504, 0),\n",
              " (0.0040996075, 0),\n",
              " (0.9868573, 1),\n",
              " (0.98639023, 1),\n",
              " (0.9868482, 1),\n",
              " (0.9860872, 1),\n",
              " (0.98719025, 1),\n",
              " (0.98659635, 1),\n",
              " (0.9870877, 1),\n",
              " (0.98735774, 1),\n",
              " (0.87678915, 1),\n",
              " (0.9872249, 1),\n",
              " (0.0025857687, 0),\n",
              " (0.78372586, 1),\n",
              " (0.9873056, 1),\n",
              " (0.0023652613, 0),\n",
              " (0.9871023, 1),\n",
              " (0.9868978, 1),\n",
              " (0.98720443, 1),\n",
              " (0.98599726, 1),\n",
              " (0.8959592, 1),\n",
              " (0.9863499, 1),\n",
              " (0.9872823, 1),\n",
              " (0.039911598, 1),\n",
              " (0.16080141, 0),\n",
              " (0.987206, 1),\n",
              " (0.98723173, 1),\n",
              " (0.019368917, 0),\n",
              " (0.005494505, 0),\n",
              " (0.00042656064, 0),\n",
              " (0.008608162, 0),\n",
              " (0.0040992796, 0),\n",
              " (0.89585185, 1),\n",
              " (0.10792673, 0),\n",
              " (0.98613214, 1),\n",
              " (0.9871769, 1),\n",
              " (0.9866359, 1),\n",
              " (0.0015158653, 0),\n",
              " (0.9897556, 1),\n",
              " (0.9872868, 1),\n",
              " (0.986268, 1),\n",
              " (0.5132618, 1),\n",
              " (0.6990812, 0),\n",
              " (0.9861488, 1),\n",
              " (0.9873591, 1),\n",
              " (0.24202934, 0),\n",
              " (0.9872384, 1),\n",
              " (0.001611501, 0),\n",
              " (0.98717785, 1),\n",
              " (0.022082806, 0),\n",
              " (0.92870754, 0),\n",
              " (0.014069855, 0),\n",
              " (0.9871872, 1),\n",
              " (0.9812431, 1),\n",
              " (0.9866392, 1),\n",
              " (0.9868938, 1),\n",
              " (0.9872414, 1),\n",
              " (0.14731869, 0),\n",
              " (0.9873176, 1),\n",
              " (0.0025609732, 0),\n",
              " (0.98716605, 1),\n",
              " (0.9873548, 1),\n",
              " (0.9863367, 1),\n",
              " (0.98718363, 1),\n",
              " (0.0034423172, 0),\n",
              " (0.987286, 1),\n",
              " (0.0051550865, 0),\n",
              " (0.98721033, 1),\n",
              " (0.00018030405, 0),\n",
              " (0.9865898, 1),\n",
              " (0.98685515, 1),\n",
              " (0.39304897, 0),\n",
              " (0.9862764, 1),\n",
              " (0.9873874, 1),\n",
              " (0.8948053, 1),\n",
              " (0.9873055, 1),\n",
              " (0.0037952363, 0),\n",
              " (0.013834417, 0),\n",
              " (0.9870256, 1),\n",
              " (0.98730695, 1),\n",
              " (0.8956809, 1),\n",
              " (3.3501074e-05, 0),\n",
              " (0.98616296, 1),\n",
              " (0.002124399, 0),\n",
              " (0.9862493, 1),\n",
              " (0.894256, 1),\n",
              " (0.99016255, 1),\n",
              " (0.9397296, 1),\n",
              " (0.032445997, 0),\n",
              " (0.98678833, 1),\n",
              " (0.0005773008, 0),\n",
              " (0.8948089, 1),\n",
              " (0.98727536, 1),\n",
              " (0.98633564, 1),\n",
              " (0.9860803, 1),\n",
              " (0.021350384, 0),\n",
              " (0.98601097, 1),\n",
              " (0.053750545, 0),\n",
              " (0.9869616, 1),\n",
              " (0.02139321, 0),\n",
              " (0.98655796, 1),\n",
              " (0.99005306, 1),\n",
              " (0.6923897, 1),\n",
              " (0.011768401, 0),\n",
              " (0.9872123, 1),\n",
              " (0.9862058, 1),\n",
              " (0.9872696, 1),\n",
              " (0.98711216, 1),\n",
              " (0.98636746, 1),\n",
              " (0.004314661, 0),\n",
              " (0.9872328, 1),\n",
              " (0.005583197, 0),\n",
              " (0.98679763, 1),\n",
              " (0.00011769963, 0),\n",
              " (0.80952466, 1),\n",
              " (0.0034064353, 0),\n",
              " (0.0010613501, 0),\n",
              " (0.98727715, 1),\n",
              " (0.98669386, 1),\n",
              " (0.9872378, 1),\n",
              " (0.895816, 1),\n",
              " (0.98722684, 1),\n",
              " (0.069303215, 0),\n",
              " (0.003655821, 0),\n",
              " (0.9871882, 1),\n",
              " (0.032234013, 0),\n",
              " (0.9872558, 1),\n",
              " (0.9872677, 1),\n",
              " (0.9951004, 1),\n",
              " (0.9859903, 1),\n",
              " (0.9871139, 1),\n",
              " (0.20354548, 0),\n",
              " (0.05270478, 0),\n",
              " (0.24573123, 0),\n",
              " (0.9810703, 1),\n",
              " (0.019958407, 0),\n",
              " (0.0004672408, 0),\n",
              " (0.023391664, 0),\n",
              " (0.9867425, 1),\n",
              " (0.9869364, 1),\n",
              " (0.06735715, 0),\n",
              " (0.9653787, 1),\n",
              " (3.4917724e-05, 0),\n",
              " (0.0037595034, 0),\n",
              " (0.98724467, 1),\n",
              " (0.9872558, 1),\n",
              " (0.0076999664, 0),\n",
              " (0.8124945, 1),\n",
              " (0.9477597, 1),\n",
              " (0.9872896, 1),\n",
              " (0.98735774, 1),\n",
              " (0.98713076, 1),\n",
              " (0.98719573, 1),\n",
              " (0.98719954, 1),\n",
              " (0.96957695, 1),\n",
              " (0.98709893, 1),\n",
              " (9.344659e-06, 0),\n",
              " (4.0861087e-05, 0),\n",
              " (0.98728216, 1),\n",
              " (0.16200617, 0),\n",
              " (0.0026175082, 0),\n",
              " (0.014283359, 0),\n",
              " (0.9871595, 1),\n",
              " (0.98719376, 1),\n",
              " (0.9871795, 1),\n",
              " (0.9900198, 1),\n",
              " (0.060519814, 0),\n",
              " (0.9116532, 1),\n",
              " (0.024390638, 0),\n",
              " (0.9872347, 1),\n",
              " (0.00011717962, 0),\n",
              " (0.98621833, 1),\n",
              " (0.009070367, 0),\n",
              " (0.8148922, 0),\n",
              " (0.88390243, 1),\n",
              " (0.9870208, 1),\n",
              " (0.9110868, 1),\n",
              " (0.98698294, 1),\n",
              " (0.98723954, 1),\n",
              " (0.98642313, 1),\n",
              " (0.98611975, 1),\n",
              " (0.9872551, 1),\n",
              " (0.9872241, 1),\n",
              " (0.0029337406, 0),\n",
              " (0.9449312, 1),\n",
              " (0.9872135, 1),\n",
              " (0.0060589015, 0),\n",
              " (0.9871633, 1),\n",
              " (0.9111533, 1),\n",
              " (0.9862293, 1),\n",
              " (0.76299334, 1),\n",
              " (0.98727036, 1),\n",
              " (0.021734089, 0),\n",
              " (0.064843446, 0),\n",
              " (0.41630828, 0),\n",
              " (0.008080065, 0),\n",
              " (0.004186213, 0),\n",
              " (0.21347773, 0),\n",
              " (0.9871433, 1),\n",
              " (0.047044814, 0),\n",
              " (0.0046947002, 0),\n",
              " (0.7531695, 0),\n",
              " (0.9872141, 1),\n",
              " (0.8879951, 1),\n",
              " (0.070335716, 0),\n",
              " (0.009156346, 0),\n",
              " (0.98605573, 1),\n",
              " (0.9872838, 1),\n",
              " (0.986761, 1),\n",
              " (0.05501023, 0),\n",
              " (0.0048733056, 0),\n",
              " (0.98723936, 1),\n",
              " (0.0016073585, 0),\n",
              " (0.9871842, 1),\n",
              " (0.98717123, 1),\n",
              " (0.9871655, 1),\n",
              " (0.99510807, 1),\n",
              " (0.9872371, 1),\n",
              " (0.0046518445, 0),\n",
              " (0.004190594, 0),\n",
              " (0.9728097, 1),\n",
              " (0.9872154, 1),\n",
              " (0.060573578, 0),\n",
              " (0.9872016, 1),\n",
              " (0.98723423, 1),\n",
              " (0.986284, 1),\n",
              " (0.9157897, 1),\n",
              " (0.05221024, 0),\n",
              " (0.98670405, 1),\n",
              " (0.9861027, 1),\n",
              " (0.8938926, 1),\n",
              " (0.9861982, 1),\n",
              " (0.0048024952, 0),\n",
              " (0.62104607, 1),\n",
              " (0.986725, 1),\n",
              " ...]"
            ]
          },
          "metadata": {
            "tags": []
          },
          "execution_count": 48
        }
      ]
    },
    {
      "cell_type": "code",
      "metadata": {
        "id": "nPSTkn_on3fd"
      },
      "source": [
        ""
      ],
      "execution_count": null,
      "outputs": []
    },
    {
      "cell_type": "markdown",
      "metadata": {
        "id": "GVbPSN5yrNmf"
      },
      "source": [
        "# **Saving and loading model in .h5 format**"
      ]
    },
    {
      "cell_type": "code",
      "metadata": {
        "id": "rnL6SATbn3bG"
      },
      "source": [
        "mod.save(\"account_level.h5\")\n",
        "new_model = load_model('account_level.h5')"
      ],
      "execution_count": null,
      "outputs": []
    },
    {
      "cell_type": "code",
      "metadata": {
        "id": "57qqJd7kpHw1",
        "colab": {
          "base_uri": "https://localhost:8080/"
        },
        "outputId": "e89f0a9e-35bf-46d5-f011-a2205a458430"
      },
      "source": [
        "new_model.summary()"
      ],
      "execution_count": null,
      "outputs": [
        {
          "output_type": "stream",
          "text": [
            "Model: \"model_2\"\n",
            "_________________________________________________________________\n",
            "Layer (type)                 Output Shape              Param #   \n",
            "=================================================================\n",
            "input_4 (InputLayer)         [(None, 10)]              0         \n",
            "_________________________________________________________________\n",
            "dense_6 (Dense)              (None, 500)               5500      \n",
            "_________________________________________________________________\n",
            "dense_7 (Dense)              (None, 200)               100200    \n",
            "_________________________________________________________________\n",
            "dense_8 (Dense)              (None, 1)                 201       \n",
            "=================================================================\n",
            "Total params: 105,901\n",
            "Trainable params: 105,901\n",
            "Non-trainable params: 0\n",
            "_________________________________________________________________\n"
          ],
          "name": "stdout"
        }
      ]
    },
    {
      "cell_type": "code",
      "metadata": {
        "id": "TYMGr1xgr1wo"
      },
      "source": [
        ""
      ],
      "execution_count": null,
      "outputs": []
    },
    {
      "cell_type": "code",
      "metadata": {
        "id": "MHAsd9sxr1tJ"
      },
      "source": [
        ""
      ],
      "execution_count": null,
      "outputs": []
    },
    {
      "cell_type": "code",
      "metadata": {
        "id": "VN8l_ZZCr1pb"
      },
      "source": [
        ""
      ],
      "execution_count": null,
      "outputs": []
    },
    {
      "cell_type": "code",
      "metadata": {
        "id": "zBw3ujxir1lE"
      },
      "source": [
        ""
      ],
      "execution_count": null,
      "outputs": []
    },
    {
      "cell_type": "code",
      "metadata": {
        "id": "NcVpnamGr1g3"
      },
      "source": [
        ""
      ],
      "execution_count": null,
      "outputs": []
    },
    {
      "cell_type": "code",
      "metadata": {
        "id": "_zgUJ3DZXTzh"
      },
      "source": [
        "import matplotlib.pyplot as plt\n",
        "fig = plt.figure()\n",
        "ax = fig.add_axes([0,0,1,1])\n",
        "langs = ['genuine accounts', 'social spambots #1','social spambots #2','social spambots #3', 'traditional spambots #1', 'traditional spambots #2','traditional spambots #3','traditional spambots #4','fake followers']\n",
        "students = [3474,991,3457,464,1000,100,433,1128,3351]\n",
        "ax.bar(langs,students)\n",
        "plt.xticks(rotation=90)\n",
        "plt.ylabel('number of accounts')\n",
        "plt.show()\n",
        "\n",
        "from matplotlib import pyplot as plt\n",
        "import numpy as np\n",
        "fig = plt.figure()\n",
        "ax = fig.add_axes([0,0,1,1])\n",
        "ax.axis('equal')\n",
        "langs = ['genuine twitter users in the dataset','Bot accounts in the dataset']\n",
        "students = [3474,10924]\n",
        "explode = (0, 0.2)\n",
        "ax.pie(students,explode=explode, labels = langs,autopct='%1.2f%%',shadow=True)\n",
        "plt.show()"
      ],
      "execution_count": null,
      "outputs": []
    }
  ]
}
