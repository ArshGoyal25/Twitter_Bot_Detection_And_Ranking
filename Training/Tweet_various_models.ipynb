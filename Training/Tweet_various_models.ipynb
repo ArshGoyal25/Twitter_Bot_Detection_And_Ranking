{
  "nbformat": 4,
  "nbformat_minor": 0,
  "metadata": {
    "colab": {
      "name": "Tweet_various_models.ipynb",
      "provenance": [],
      "collapsed_sections": []
    },
    "kernelspec": {
      "name": "python3",
      "display_name": "Python 3"
    },
    "language_info": {
      "name": "python"
    },
    "accelerator": "GPU"
  },
  "cells": [
    {
      "cell_type": "code",
      "metadata": {
        "id": "KYZF9kSd4MV5",
        "colab": {
          "base_uri": "https://localhost:8080/"
        },
        "outputId": "d86c7ee1-7706-4579-f117-1fcd52c02aa7"
      },
      "source": [
        "from google.colab import drive\n",
        "\n",
        "drive.mount(\"/content/drive\")"
      ],
      "execution_count": null,
      "outputs": [
        {
          "output_type": "stream",
          "name": "stdout",
          "text": [
            "Mounted at /content/drive\n"
          ]
        }
      ]
    },
    {
      "cell_type": "code",
      "metadata": {
        "colab": {
          "base_uri": "https://localhost:8080/"
        },
        "id": "v1GYHg_SVFUi",
        "outputId": "04fdac8f-25ff-4c90-ef82-9f1abb2d27c5"
      },
      "source": [
        "import numpy as np # linear algebra\n",
        "import pandas as pd # data processing, CSV file I/O (e.g. pd.read_csv)\n",
        "import keras\n",
        "from keras.models import load_model\n",
        "import seaborn as sns\n",
        "import io,json\n",
        "from matplotlib import pyplot as plt\n",
        "from keras_preprocessing.text import tokenizer_from_json\n",
        "import matplotlib.pyplot as plt\n",
        "import re\n",
        "import matplotlib\n",
        "import numpy as np\n",
        "import matplotlib.pyplot as plt\n",
        "import pandas as pd\n",
        "from nltk.corpus import stopwords\n",
        "import nltk\n",
        "nltk.download('stopwords')\n",
        "stop_words = set(stopwords.words('english'))\n",
        "from sklearn.svm import LinearSVC\n",
        "import seaborn as sns\n",
        "import pandas as pd\n",
        "from keras.preprocessing.text import Tokenizer\n",
        "from keras.preprocessing.sequence import pad_sequences\n",
        "from keras.models import Sequential\n",
        "from keras.layers import Dense, LSTM, Embedding, Input\n",
        "from sklearn.model_selection import train_test_split\n",
        "import numpy as np\n",
        "import pandas as pd\n",
        "from keras.layers import Dense, Input, LSTM, Bidirectional, Conv1D,GRU\n",
        "from keras.layers import Dropout, Embedding\n",
        "from keras.preprocessing import text, sequence\n",
        "from keras.layers import GlobalMaxPooling1D, GlobalAveragePooling1D, concatenate, SpatialDropout1D\n",
        "from keras.models import Model\n",
        "from keras_preprocessing.text import tokenizer_from_json\n",
        "import json"
      ],
      "execution_count": null,
      "outputs": [
        {
          "output_type": "stream",
          "name": "stdout",
          "text": [
            "[nltk_data] Downloading package stopwords to /root/nltk_data...\n",
            "[nltk_data]   Package stopwords is already up-to-date!\n"
          ]
        }
      ]
    },
    {
      "cell_type": "code",
      "metadata": {
        "id": "Gs9OZqO_GWuH"
      },
      "source": [
        "import pandas as pd\n",
        "import numpy as np\n",
        "import math\n",
        "from keras.preprocessing.text import Tokenizer\n",
        "from keras.preprocessing import text, sequence\n",
        "from keras.layers import Embedding, Dense, LSTM, Dense, Input, concatenate\n",
        "from keras.models import Model\n",
        "import tensorflow as tf\n",
        "from keras.preprocessing import text, sequence\n",
        "from keras.preprocessing.text import Tokenizer\n",
        "from keras.preprocessing.sequence import pad_sequences\n",
        "import datetime\n",
        "from sklearn.model_selection import train_test_split"
      ],
      "execution_count": null,
      "outputs": []
    },
    {
      "cell_type": "code",
      "metadata": {
        "id": "UuBZ0C0-YlNm",
        "colab": {
          "base_uri": "https://localhost:8080/"
        },
        "outputId": "a5f2c2ac-5b0d-4a38-aa61-f0452b15247f"
      },
      "source": [
        "df_social_spambot_1=pd.read_csv('/content/drive/MyDrive/SAAS-2121/Datasets/mini_datasets/mini_social_spambot_1.csv',error_bad_lines=False)\n",
        "df_social_spambot_2=pd.read_csv('/content/drive/MyDrive/SAAS-2121/Datasets/mini_datasets/mini_social_spambot_2.csv',error_bad_lines=False)\n",
        "df_social_spambot_3=pd.read_csv('/content/drive/MyDrive/SAAS-2121/Datasets/mini_datasets/mini_social_spambot_3.csv',error_bad_lines=False)\n",
        "df_traditional_spambot=pd.read_csv('/content/drive/MyDrive/SAAS-2121/Datasets/mini_datasets/mini_traditional_spambots.csv',error_bad_lines=False)\n",
        "df_mini_genuine=pd.read_csv('/content/drive/MyDrive/SAAS-2121/Datasets/mini_datasets/mini_genuine_new.csv',error_bad_lines=False)"
      ],
      "execution_count": null,
      "outputs": [
        {
          "output_type": "stream",
          "name": "stderr",
          "text": [
            "/usr/local/lib/python3.7/dist-packages/IPython/core/interactiveshell.py:2718: DtypeWarning: Columns (1,2,3,4,7,8,9,10,11,12,13,17,18,19,20,21,22,23,24,25,26) have mixed types.Specify dtype option on import or set low_memory=False.\n",
            "  interactivity=interactivity, compiler=compiler, result=result)\n"
          ]
        }
      ]
    },
    {
      "cell_type": "code",
      "metadata": {
        "id": "pdzDkBQvMoNA"
      },
      "source": [
        "tweet=df_mini_genuine['RT @morningJewshow: Speaking about Jews and comedy tonight at Temple Emanu-El in San Francisco. In other words, my High Holidays.']\n",
        "tweets_mini_genuine=df_mini_genuine['RT @morningJewshow: Speaking about Jews and comedy tonight at Temple Emanu-El in San Francisco. In other words, my High Holidays.']"
      ],
      "execution_count": null,
      "outputs": []
    },
    {
      "cell_type": "code",
      "metadata": {
        "id": "sA-Kr418TGVU"
      },
      "source": [
        "df_genuine_final = pd.DataFrame(columns = ['text', 'genuine','social_spambot_1','social_spambot_2', 'social_spambot_3','traditional_spambot','fake_followers'])\n",
        "df_genuine_final['text']=df_mini_genuine['RT @morningJewshow: Speaking about Jews and comedy tonight at Temple Emanu-El in San Francisco. In other words, my High Holidays.']\n",
        "df_genuine_final['social_spambot_1']=0\n",
        "df_genuine_final['social_spambot_2']=0\n",
        "df_genuine_final['social_spambot_3']=0\n",
        "df_genuine_final['traditional_spambot']=0\n",
        "df_genuine_final['fake_followers']=0\n",
        "df_genuine_final['genuine']=1"
      ],
      "execution_count": null,
      "outputs": []
    },
    {
      "cell_type": "code",
      "metadata": {
        "id": "V0aRRgQWTGIf",
        "colab": {
          "base_uri": "https://localhost:8080/",
          "height": 417
        },
        "outputId": "53860fb7-c049-4cac-ba05-c3dc0c2f1011"
      },
      "source": [
        "df_genuine_final"
      ],
      "execution_count": null,
      "outputs": [
        {
          "output_type": "execute_result",
          "data": {
            "text/html": [
              "<div>\n",
              "<style scoped>\n",
              "    .dataframe tbody tr th:only-of-type {\n",
              "        vertical-align: middle;\n",
              "    }\n",
              "\n",
              "    .dataframe tbody tr th {\n",
              "        vertical-align: top;\n",
              "    }\n",
              "\n",
              "    .dataframe thead th {\n",
              "        text-align: right;\n",
              "    }\n",
              "</style>\n",
              "<table border=\"1\" class=\"dataframe\">\n",
              "  <thead>\n",
              "    <tr style=\"text-align: right;\">\n",
              "      <th></th>\n",
              "      <th>text</th>\n",
              "      <th>genuine</th>\n",
              "      <th>social_spambot_1</th>\n",
              "      <th>social_spambot_2</th>\n",
              "      <th>social_spambot_3</th>\n",
              "      <th>traditional_spambot</th>\n",
              "      <th>fake_followers</th>\n",
              "    </tr>\n",
              "  </thead>\n",
              "  <tbody>\n",
              "    <tr>\n",
              "      <th>0</th>\n",
              "      <td>@landun_P  https://t.co/R7AW8xXrCZ</td>\n",
              "      <td>1</td>\n",
              "      <td>0</td>\n",
              "      <td>0</td>\n",
              "      <td>0</td>\n",
              "      <td>0</td>\n",
              "      <td>0</td>\n",
              "    </tr>\n",
              "    <tr>\n",
              "      <th>1</th>\n",
              "      <td>\\@koolkopper:</td>\n",
              "      <td>1</td>\n",
              "      <td>0</td>\n",
              "      <td>0</td>\n",
              "      <td>0</td>\n",
              "      <td>0</td>\n",
              "      <td>0</td>\n",
              "    </tr>\n",
              "    <tr>\n",
              "      <th>2</th>\n",
              "      <td>It's game day!! Good luck @SunDevilHoops!!! Ge...</td>\n",
              "      <td>1</td>\n",
              "      <td>0</td>\n",
              "      <td>0</td>\n",
              "      <td>0</td>\n",
              "      <td>0</td>\n",
              "      <td>0</td>\n",
              "    </tr>\n",
              "    <tr>\n",
              "      <th>3</th>\n",
              "      <td>RT @tinyambition__: When your girl is not only...</td>\n",
              "      <td>1</td>\n",
              "      <td>0</td>\n",
              "      <td>0</td>\n",
              "      <td>0</td>\n",
              "      <td>0</td>\n",
              "      <td>0</td>\n",
              "    </tr>\n",
              "    <tr>\n",
              "      <th>4</th>\n",
              "      <td>Your inspiration motivates you to take the lea...</td>\n",
              "      <td>1</td>\n",
              "      <td>0</td>\n",
              "      <td>0</td>\n",
              "      <td>0</td>\n",
              "      <td>0</td>\n",
              "      <td>0</td>\n",
              "    </tr>\n",
              "    <tr>\n",
              "      <th>...</th>\n",
              "      <td>...</td>\n",
              "      <td>...</td>\n",
              "      <td>...</td>\n",
              "      <td>...</td>\n",
              "      <td>...</td>\n",
              "      <td>...</td>\n",
              "      <td>...</td>\n",
              "    </tr>\n",
              "    <tr>\n",
              "      <th>1114276</th>\n",
              "      <td>Just know if I come me give up life to serve m...</td>\n",
              "      <td>1</td>\n",
              "      <td>0</td>\n",
              "      <td>0</td>\n",
              "      <td>0</td>\n",
              "      <td>0</td>\n",
              "      <td>0</td>\n",
              "    </tr>\n",
              "    <tr>\n",
              "      <th>1114277</th>\n",
              "      <td>Doh be calling up my name if you know you gonn...</td>\n",
              "      <td>1</td>\n",
              "      <td>0</td>\n",
              "      <td>0</td>\n",
              "      <td>0</td>\n",
              "      <td>0</td>\n",
              "      <td>0</td>\n",
              "    </tr>\n",
              "    <tr>\n",
              "      <th>1114278</th>\n",
              "      <td>@ExoSwxft ohh</td>\n",
              "      <td>1</td>\n",
              "      <td>0</td>\n",
              "      <td>0</td>\n",
              "      <td>0</td>\n",
              "      <td>0</td>\n",
              "      <td>0</td>\n",
              "    </tr>\n",
              "    <tr>\n",
              "      <th>1114279</th>\n",
              "      <td>New Chapter in Arkansas Uncut! http://t.co/cyX...</td>\n",
              "      <td>1</td>\n",
              "      <td>0</td>\n",
              "      <td>0</td>\n",
              "      <td>0</td>\n",
              "      <td>0</td>\n",
              "      <td>0</td>\n",
              "    </tr>\n",
              "    <tr>\n",
              "      <th>1114280</th>\n",
              "      <td>RT @B_Hurd25: I hope one day it'll all make sense</td>\n",
              "      <td>1</td>\n",
              "      <td>0</td>\n",
              "      <td>0</td>\n",
              "      <td>0</td>\n",
              "      <td>0</td>\n",
              "      <td>0</td>\n",
              "    </tr>\n",
              "  </tbody>\n",
              "</table>\n",
              "<p>1114281 rows × 7 columns</p>\n",
              "</div>"
            ],
            "text/plain": [
              "                                                      text  ...  fake_followers\n",
              "0                       @landun_P  https://t.co/R7AW8xXrCZ  ...               0\n",
              "1                                            \\@koolkopper:  ...               0\n",
              "2        It's game day!! Good luck @SunDevilHoops!!! Ge...  ...               0\n",
              "3        RT @tinyambition__: When your girl is not only...  ...               0\n",
              "4        Your inspiration motivates you to take the lea...  ...               0\n",
              "...                                                    ...  ...             ...\n",
              "1114276  Just know if I come me give up life to serve m...  ...               0\n",
              "1114277  Doh be calling up my name if you know you gonn...  ...               0\n",
              "1114278                                      @ExoSwxft ohh  ...               0\n",
              "1114279  New Chapter in Arkansas Uncut! http://t.co/cyX...  ...               0\n",
              "1114280  RT @B_Hurd25: I hope one day it'll all make sense  ...               0\n",
              "\n",
              "[1114281 rows x 7 columns]"
            ]
          },
          "metadata": {},
          "execution_count": 7
        }
      ]
    },
    {
      "cell_type": "code",
      "metadata": {
        "id": "38-_AeAjG3V_"
      },
      "source": [
        "mini_bots=pd.read_csv(\"/content/drive/MyDrive/SAAS-2121/Datasets/mini_datasets/mini_bots.csv\")\n",
        "mini_bots=mini_bots.drop(['Unnamed: 0',\n",
        " 'Unnamed: 0.1',\n",
        " 'id',\n",
        " 'source',\n",
        " 'user_id',\n",
        " 'truncated',\n",
        " 'in_reply_to_status_id',\n",
        " 'in_reply_to_user_id',\n",
        " 'in_reply_to_screen_name',\n",
        " 'retweeted_status_id',\n",
        " 'geo',\n",
        " 'place',\n",
        " 'contributors',\n",
        " 'retweet_count',\n",
        " 'reply_count',\n",
        " 'favorite_count',\n",
        " 'favorited',\n",
        " 'retweeted',\n",
        " 'possibly_sensitive',\n",
        " 'num_hashtags',\n",
        " 'num_urls',\n",
        " 'num_mentions',\n",
        " 'created_at',\n",
        " 'timestamp'],axis=1)"
      ],
      "execution_count": null,
      "outputs": []
    },
    {
      "cell_type": "code",
      "metadata": {
        "id": "SRP8ymcvO1Tz"
      },
      "source": [
        "df_genuine_dropped=df_genuine_final.dropna()"
      ],
      "execution_count": null,
      "outputs": []
    },
    {
      "cell_type": "code",
      "metadata": {
        "colab": {
          "base_uri": "https://localhost:8080/",
          "height": 417
        },
        "id": "yRq04Lx1O1Jg",
        "outputId": "2252b50f-bcdb-415f-f95a-639523eb3c6b"
      },
      "source": [
        "df_genuine_dropped"
      ],
      "execution_count": null,
      "outputs": [
        {
          "output_type": "execute_result",
          "data": {
            "text/html": [
              "<div>\n",
              "<style scoped>\n",
              "    .dataframe tbody tr th:only-of-type {\n",
              "        vertical-align: middle;\n",
              "    }\n",
              "\n",
              "    .dataframe tbody tr th {\n",
              "        vertical-align: top;\n",
              "    }\n",
              "\n",
              "    .dataframe thead th {\n",
              "        text-align: right;\n",
              "    }\n",
              "</style>\n",
              "<table border=\"1\" class=\"dataframe\">\n",
              "  <thead>\n",
              "    <tr style=\"text-align: right;\">\n",
              "      <th></th>\n",
              "      <th>text</th>\n",
              "      <th>genuine</th>\n",
              "      <th>social_spambot_1</th>\n",
              "      <th>social_spambot_2</th>\n",
              "      <th>social_spambot_3</th>\n",
              "      <th>traditional_spambot</th>\n",
              "      <th>fake_followers</th>\n",
              "    </tr>\n",
              "  </thead>\n",
              "  <tbody>\n",
              "    <tr>\n",
              "      <th>0</th>\n",
              "      <td>@landun_P  https://t.co/R7AW8xXrCZ</td>\n",
              "      <td>1</td>\n",
              "      <td>0</td>\n",
              "      <td>0</td>\n",
              "      <td>0</td>\n",
              "      <td>0</td>\n",
              "      <td>0</td>\n",
              "    </tr>\n",
              "    <tr>\n",
              "      <th>1</th>\n",
              "      <td>\\@koolkopper:</td>\n",
              "      <td>1</td>\n",
              "      <td>0</td>\n",
              "      <td>0</td>\n",
              "      <td>0</td>\n",
              "      <td>0</td>\n",
              "      <td>0</td>\n",
              "    </tr>\n",
              "    <tr>\n",
              "      <th>2</th>\n",
              "      <td>It's game day!! Good luck @SunDevilHoops!!! Ge...</td>\n",
              "      <td>1</td>\n",
              "      <td>0</td>\n",
              "      <td>0</td>\n",
              "      <td>0</td>\n",
              "      <td>0</td>\n",
              "      <td>0</td>\n",
              "    </tr>\n",
              "    <tr>\n",
              "      <th>3</th>\n",
              "      <td>RT @tinyambition__: When your girl is not only...</td>\n",
              "      <td>1</td>\n",
              "      <td>0</td>\n",
              "      <td>0</td>\n",
              "      <td>0</td>\n",
              "      <td>0</td>\n",
              "      <td>0</td>\n",
              "    </tr>\n",
              "    <tr>\n",
              "      <th>4</th>\n",
              "      <td>Your inspiration motivates you to take the lea...</td>\n",
              "      <td>1</td>\n",
              "      <td>0</td>\n",
              "      <td>0</td>\n",
              "      <td>0</td>\n",
              "      <td>0</td>\n",
              "      <td>0</td>\n",
              "    </tr>\n",
              "    <tr>\n",
              "      <th>...</th>\n",
              "      <td>...</td>\n",
              "      <td>...</td>\n",
              "      <td>...</td>\n",
              "      <td>...</td>\n",
              "      <td>...</td>\n",
              "      <td>...</td>\n",
              "      <td>...</td>\n",
              "    </tr>\n",
              "    <tr>\n",
              "      <th>1114276</th>\n",
              "      <td>Just know if I come me give up life to serve m...</td>\n",
              "      <td>1</td>\n",
              "      <td>0</td>\n",
              "      <td>0</td>\n",
              "      <td>0</td>\n",
              "      <td>0</td>\n",
              "      <td>0</td>\n",
              "    </tr>\n",
              "    <tr>\n",
              "      <th>1114277</th>\n",
              "      <td>Doh be calling up my name if you know you gonn...</td>\n",
              "      <td>1</td>\n",
              "      <td>0</td>\n",
              "      <td>0</td>\n",
              "      <td>0</td>\n",
              "      <td>0</td>\n",
              "      <td>0</td>\n",
              "    </tr>\n",
              "    <tr>\n",
              "      <th>1114278</th>\n",
              "      <td>@ExoSwxft ohh</td>\n",
              "      <td>1</td>\n",
              "      <td>0</td>\n",
              "      <td>0</td>\n",
              "      <td>0</td>\n",
              "      <td>0</td>\n",
              "      <td>0</td>\n",
              "    </tr>\n",
              "    <tr>\n",
              "      <th>1114279</th>\n",
              "      <td>New Chapter in Arkansas Uncut! http://t.co/cyX...</td>\n",
              "      <td>1</td>\n",
              "      <td>0</td>\n",
              "      <td>0</td>\n",
              "      <td>0</td>\n",
              "      <td>0</td>\n",
              "      <td>0</td>\n",
              "    </tr>\n",
              "    <tr>\n",
              "      <th>1114280</th>\n",
              "      <td>RT @B_Hurd25: I hope one day it'll all make sense</td>\n",
              "      <td>1</td>\n",
              "      <td>0</td>\n",
              "      <td>0</td>\n",
              "      <td>0</td>\n",
              "      <td>0</td>\n",
              "      <td>0</td>\n",
              "    </tr>\n",
              "  </tbody>\n",
              "</table>\n",
              "<p>332334 rows × 7 columns</p>\n",
              "</div>"
            ],
            "text/plain": [
              "                                                      text  ...  fake_followers\n",
              "0                       @landun_P  https://t.co/R7AW8xXrCZ  ...               0\n",
              "1                                            \\@koolkopper:  ...               0\n",
              "2        It's game day!! Good luck @SunDevilHoops!!! Ge...  ...               0\n",
              "3        RT @tinyambition__: When your girl is not only...  ...               0\n",
              "4        Your inspiration motivates you to take the lea...  ...               0\n",
              "...                                                    ...  ...             ...\n",
              "1114276  Just know if I come me give up life to serve m...  ...               0\n",
              "1114277  Doh be calling up my name if you know you gonn...  ...               0\n",
              "1114278                                      @ExoSwxft ohh  ...               0\n",
              "1114279  New Chapter in Arkansas Uncut! http://t.co/cyX...  ...               0\n",
              "1114280  RT @B_Hurd25: I hope one day it'll all make sense  ...               0\n",
              "\n",
              "[332334 rows x 7 columns]"
            ]
          },
          "metadata": {},
          "execution_count": 10
        }
      ]
    },
    {
      "cell_type": "code",
      "metadata": {
        "id": "8q52knbIN9Zl"
      },
      "source": [
        "df_final=pd.concat([mini_bots,df_genuine_dropped])"
      ],
      "execution_count": null,
      "outputs": []
    },
    {
      "cell_type": "code",
      "metadata": {
        "id": "kY5q2R76O8AD"
      },
      "source": [
        "df_final_temp=df_final.sample(frac=0.5)"
      ],
      "execution_count": null,
      "outputs": []
    },
    {
      "cell_type": "code",
      "metadata": {
        "id": "KxENOkhWO78M"
      },
      "source": [
        "df_final_temp.to_csv(\"final_dataset.csv\")"
      ],
      "execution_count": null,
      "outputs": []
    },
    {
      "cell_type": "code",
      "metadata": {
        "id": "BhXkNc_77SdU"
      },
      "source": [
        ""
      ],
      "execution_count": null,
      "outputs": []
    },
    {
      "cell_type": "code",
      "metadata": {
        "id": "Q8qhfH9oO74b"
      },
      "source": [
        "#############################################################################################################################################################################################"
      ],
      "execution_count": null,
      "outputs": []
    },
    {
      "cell_type": "code",
      "metadata": {
        "id": "_bdsFuvZ-Spy"
      },
      "source": [
        "df_final_temp=pd.read_csv(\"/content/drive/MyDrive/SAAS-2121/Datasets/mini_datasets/final_dataset.csv\")\n",
        "\n",
        "categorywise_data = df_final_temp[['genuine','social_spambot_1','social_spambot_2', 'social_spambot_3','traditional_spambot','fake_followers']] \n",
        "counts_category = []                                              \n",
        "categories = list(categorywise_data.columns.values)\n",
        "for i in categories:\n",
        "    counts_category.append((i, categorywise_data[i].sum()))\n",
        "    \n",
        "dataframe = pd.DataFrame(counts_category, columns=['Labels', 'number_of_comments'])\n",
        "\n",
        "EMBEDDING_FILE = '/content/drive/MyDrive/SAAS-2121/Bot_Ranking_Code/Hate_Speech_Detection/glove.6B.50d.txt'\n",
        "max_features=75000\n",
        "maxlen=250\n",
        "embed_size=50\n",
        "\n",
        "del df_final_temp[\"Unnamed: 0\"]\n",
        "\n",
        "df_final_temp=df_final_temp.drop_duplicates(subset='text')\n"
      ],
      "execution_count": null,
      "outputs": []
    },
    {
      "cell_type": "markdown",
      "metadata": {
        "id": "Ox-pHrUEBZgv"
      },
      "source": [
        "#Tweet pre-processing (substituting urls with <'URL'> and account mentions with <'ACCOUNT'>)"
      ]
    },
    {
      "cell_type": "code",
      "metadata": {
        "colab": {
          "base_uri": "https://localhost:8080/",
          "height": 501
        },
        "id": "kIT4bwcEY4km",
        "outputId": "7c71a69a-01a0-4b3a-c686-f1296bb5e4e1"
      },
      "source": [
        "df_final_temp"
      ],
      "execution_count": null,
      "outputs": [
        {
          "output_type": "execute_result",
          "data": {
            "text/html": [
              "<div>\n",
              "<style scoped>\n",
              "    .dataframe tbody tr th:only-of-type {\n",
              "        vertical-align: middle;\n",
              "    }\n",
              "\n",
              "    .dataframe tbody tr th {\n",
              "        vertical-align: top;\n",
              "    }\n",
              "\n",
              "    .dataframe thead th {\n",
              "        text-align: right;\n",
              "    }\n",
              "</style>\n",
              "<table border=\"1\" class=\"dataframe\">\n",
              "  <thead>\n",
              "    <tr style=\"text-align: right;\">\n",
              "      <th></th>\n",
              "      <th>text</th>\n",
              "      <th>genuine</th>\n",
              "      <th>social_spambot_1</th>\n",
              "      <th>social_spambot_2</th>\n",
              "      <th>social_spambot_3</th>\n",
              "      <th>traditional_spambot</th>\n",
              "      <th>fake_followers</th>\n",
              "    </tr>\n",
              "  </thead>\n",
              "  <tbody>\n",
              "    <tr>\n",
              "      <th>0</th>\n",
              "      <td>RT @KaptaanKiTigres: #KaptaanKhanOnGeo</td>\n",
              "      <td>1</td>\n",
              "      <td>0</td>\n",
              "      <td>0</td>\n",
              "      <td>0</td>\n",
              "      <td>0</td>\n",
              "      <td>0</td>\n",
              "    </tr>\n",
              "    <tr>\n",
              "      <th>5</th>\n",
              "      <td>Brain fitness seen as hot industry of the futu...</td>\n",
              "      <td>0</td>\n",
              "      <td>0</td>\n",
              "      <td>0</td>\n",
              "      <td>0</td>\n",
              "      <td>1</td>\n",
              "      <td>0</td>\n",
              "    </tr>\n",
              "    <tr>\n",
              "      <th>6</th>\n",
              "      <td>\"'Twas the Night After Edmund\" available on IT...</td>\n",
              "      <td>0</td>\n",
              "      <td>0</td>\n",
              "      <td>0</td>\n",
              "      <td>0</td>\n",
              "      <td>0</td>\n",
              "      <td>1</td>\n",
              "    </tr>\n",
              "    <tr>\n",
              "      <th>8</th>\n",
              "      <td>Chuva chata tudo praga do @sr_renato</td>\n",
              "      <td>0</td>\n",
              "      <td>0</td>\n",
              "      <td>0</td>\n",
              "      <td>0</td>\n",
              "      <td>0</td>\n",
              "      <td>1</td>\n",
              "    </tr>\n",
              "    <tr>\n",
              "      <th>16</th>\n",
              "      <td>Flood-hit town gets safety support - http://ti...</td>\n",
              "      <td>0</td>\n",
              "      <td>0</td>\n",
              "      <td>0</td>\n",
              "      <td>0</td>\n",
              "      <td>1</td>\n",
              "      <td>0</td>\n",
              "    </tr>\n",
              "    <tr>\n",
              "      <th>...</th>\n",
              "      <td>...</td>\n",
              "      <td>...</td>\n",
              "      <td>...</td>\n",
              "      <td>...</td>\n",
              "      <td>...</td>\n",
              "      <td>...</td>\n",
              "      <td>...</td>\n",
              "    </tr>\n",
              "    <tr>\n",
              "      <th>210408</th>\n",
              "      <td>I don't think going through all his fetus musi...</td>\n",
              "      <td>0</td>\n",
              "      <td>0</td>\n",
              "      <td>1</td>\n",
              "      <td>0</td>\n",
              "      <td>0</td>\n",
              "      <td>0</td>\n",
              "    </tr>\n",
              "    <tr>\n",
              "      <th>210415</th>\n",
              "      <td>My lrt&amp;amp;quote thats just like me!</td>\n",
              "      <td>0</td>\n",
              "      <td>0</td>\n",
              "      <td>1</td>\n",
              "      <td>0</td>\n",
              "      <td>0</td>\n",
              "      <td>0</td>\n",
              "    </tr>\n",
              "    <tr>\n",
              "      <th>210423</th>\n",
              "      <td>kiwi doesn't know what a penis is</td>\n",
              "      <td>0</td>\n",
              "      <td>0</td>\n",
              "      <td>1</td>\n",
              "      <td>0</td>\n",
              "      <td>0</td>\n",
              "      <td>0</td>\n",
              "    </tr>\n",
              "    <tr>\n",
              "      <th>210434</th>\n",
              "      <td>don't keep askin for my advice if you don't li...</td>\n",
              "      <td>0</td>\n",
              "      <td>0</td>\n",
              "      <td>1</td>\n",
              "      <td>0</td>\n",
              "      <td>0</td>\n",
              "      <td>0</td>\n",
              "    </tr>\n",
              "    <tr>\n",
              "      <th>210435</th>\n",
              "      <td>Read the History of the Stylistics  http://t.c...</td>\n",
              "      <td>0</td>\n",
              "      <td>0</td>\n",
              "      <td>0</td>\n",
              "      <td>1</td>\n",
              "      <td>0</td>\n",
              "      <td>0</td>\n",
              "    </tr>\n",
              "  </tbody>\n",
              "</table>\n",
              "<p>38925 rows × 7 columns</p>\n",
              "</div>"
            ],
            "text/plain": [
              "                                                     text  ...  fake_followers\n",
              "0                  RT @KaptaanKiTigres: #KaptaanKhanOnGeo  ...               0\n",
              "5       Brain fitness seen as hot industry of the futu...  ...               0\n",
              "6       \"'Twas the Night After Edmund\" available on IT...  ...               1\n",
              "8                    Chuva chata tudo praga do @sr_renato  ...               1\n",
              "16      Flood-hit town gets safety support - http://ti...  ...               0\n",
              "...                                                   ...  ...             ...\n",
              "210408  I don't think going through all his fetus musi...  ...               0\n",
              "210415               My lrt&amp;quote thats just like me!  ...               0\n",
              "210423                  kiwi doesn't know what a penis is  ...               0\n",
              "210434  don't keep askin for my advice if you don't li...  ...               0\n",
              "210435  Read the History of the Stylistics  http://t.c...  ...               0\n",
              "\n",
              "[38925 rows x 7 columns]"
            ]
          },
          "metadata": {},
          "execution_count": 5
        }
      ]
    },
    {
      "cell_type": "code",
      "metadata": {
        "id": "5uH4ekO5XC3h"
      },
      "source": [
        "## Cleaning tweets functions => substituting urls with \"<URL>\" and account mentions with \"<ACCOUNT>\"\n",
        "\n",
        "def remove_urls(string):\n",
        "    urls=re.compile(r'(?:http|ftp|https)://(?:[\\w_-]+(?:(?:\\.[\\w_-]+)+))(?:[\\w.,@?^=%&:/~+#-]*[\\w@?^=%&/~+#-])?')\n",
        "    for url in re.findall(urls, string):\n",
        "      string=re.sub(url, \"<URL>\", string)\n",
        "    \n",
        "    return string\n",
        "\n",
        "def remove_tags(string):\n",
        "    tags=re.compile(r'(^|[^@\\w])@(\\w{1,15})\\b')\n",
        "    for tag in re.findall(tags, string):\n",
        "      account_name='@'+tag[1]\n",
        "      string=re.sub(account_name, \"<ACCOUNT>\", string)\n",
        "  \n",
        "    return string\n",
        "\n",
        "def clean_tweets(tweets):\n",
        "  tweets_without_urls_and_tags = []\n",
        "  for tweet in list(tweets):\n",
        "    try:\n",
        "      tweet_without_urls_and_tags = remove_tags(remove_urls(tweet))\n",
        "      tweets_without_urls_and_tags.append(tweet_without_urls_and_tags)\n",
        "    except:\n",
        "      tweet=''\n",
        "      tweets_without_urls_and_tags.append(tweet)\n",
        "\n",
        "  return tweets_without_urls_and_tags\n",
        "\n"
      ],
      "execution_count": null,
      "outputs": []
    },
    {
      "cell_type": "code",
      "metadata": {
        "colab": {
          "base_uri": "https://localhost:8080/",
          "height": 484
        },
        "id": "OYjyIKhXfK3P",
        "outputId": "428f3d18-7e99-423e-e5d4-aff1b60d5d3f"
      },
      "source": [
        "## cleaning the tweets, renaming and reordering columns \n",
        "df_final_temp['cleaned_tweets'] = clean_tweets(df_final_temp['text'])\n",
        "df_final_temp.drop('text', axis=1, inplace=True)\n",
        "df_final_temp.rename(columns={\"cleaned_tweets\":\"text\"}, inplace=True)\n",
        "cols = df_final_temp.columns.tolist()\n",
        "cols = cols[-1:] + cols[:-1]\n",
        "df_final_temp = df_final_temp[cols]\n",
        "df_final_temp"
      ],
      "execution_count": null,
      "outputs": [
        {
          "output_type": "execute_result",
          "data": {
            "text/html": [
              "<div>\n",
              "<style scoped>\n",
              "    .dataframe tbody tr th:only-of-type {\n",
              "        vertical-align: middle;\n",
              "    }\n",
              "\n",
              "    .dataframe tbody tr th {\n",
              "        vertical-align: top;\n",
              "    }\n",
              "\n",
              "    .dataframe thead th {\n",
              "        text-align: right;\n",
              "    }\n",
              "</style>\n",
              "<table border=\"1\" class=\"dataframe\">\n",
              "  <thead>\n",
              "    <tr style=\"text-align: right;\">\n",
              "      <th></th>\n",
              "      <th>text</th>\n",
              "      <th>genuine</th>\n",
              "      <th>social_spambot_1</th>\n",
              "      <th>social_spambot_2</th>\n",
              "      <th>social_spambot_3</th>\n",
              "      <th>traditional_spambot</th>\n",
              "      <th>fake_followers</th>\n",
              "    </tr>\n",
              "  </thead>\n",
              "  <tbody>\n",
              "    <tr>\n",
              "      <th>0</th>\n",
              "      <td>RT &lt;ACCOUNT&gt;: #KaptaanKhanOnGeo</td>\n",
              "      <td>1</td>\n",
              "      <td>0</td>\n",
              "      <td>0</td>\n",
              "      <td>0</td>\n",
              "      <td>0</td>\n",
              "      <td>0</td>\n",
              "    </tr>\n",
              "    <tr>\n",
              "      <th>5</th>\n",
              "      <td>Brain fitness seen as hot industry of the futu...</td>\n",
              "      <td>0</td>\n",
              "      <td>0</td>\n",
              "      <td>0</td>\n",
              "      <td>0</td>\n",
              "      <td>1</td>\n",
              "      <td>0</td>\n",
              "    </tr>\n",
              "    <tr>\n",
              "      <th>6</th>\n",
              "      <td>\"'Twas the Night After Edmund\" available on IT...</td>\n",
              "      <td>0</td>\n",
              "      <td>0</td>\n",
              "      <td>0</td>\n",
              "      <td>0</td>\n",
              "      <td>0</td>\n",
              "      <td>1</td>\n",
              "    </tr>\n",
              "    <tr>\n",
              "      <th>8</th>\n",
              "      <td>Chuva chata tudo praga do &lt;ACCOUNT&gt;</td>\n",
              "      <td>0</td>\n",
              "      <td>0</td>\n",
              "      <td>0</td>\n",
              "      <td>0</td>\n",
              "      <td>0</td>\n",
              "      <td>1</td>\n",
              "    </tr>\n",
              "    <tr>\n",
              "      <th>16</th>\n",
              "      <td>Flood-hit town gets safety support - &lt;URL&gt;</td>\n",
              "      <td>0</td>\n",
              "      <td>0</td>\n",
              "      <td>0</td>\n",
              "      <td>0</td>\n",
              "      <td>1</td>\n",
              "      <td>0</td>\n",
              "    </tr>\n",
              "    <tr>\n",
              "      <th>...</th>\n",
              "      <td>...</td>\n",
              "      <td>...</td>\n",
              "      <td>...</td>\n",
              "      <td>...</td>\n",
              "      <td>...</td>\n",
              "      <td>...</td>\n",
              "      <td>...</td>\n",
              "    </tr>\n",
              "    <tr>\n",
              "      <th>210408</th>\n",
              "      <td>I don't think going through all his fetus musi...</td>\n",
              "      <td>0</td>\n",
              "      <td>0</td>\n",
              "      <td>1</td>\n",
              "      <td>0</td>\n",
              "      <td>0</td>\n",
              "      <td>0</td>\n",
              "    </tr>\n",
              "    <tr>\n",
              "      <th>210415</th>\n",
              "      <td>My lrt&amp;amp;quote thats just like me!</td>\n",
              "      <td>0</td>\n",
              "      <td>0</td>\n",
              "      <td>1</td>\n",
              "      <td>0</td>\n",
              "      <td>0</td>\n",
              "      <td>0</td>\n",
              "    </tr>\n",
              "    <tr>\n",
              "      <th>210423</th>\n",
              "      <td>kiwi doesn't know what a penis is</td>\n",
              "      <td>0</td>\n",
              "      <td>0</td>\n",
              "      <td>1</td>\n",
              "      <td>0</td>\n",
              "      <td>0</td>\n",
              "      <td>0</td>\n",
              "    </tr>\n",
              "    <tr>\n",
              "      <th>210434</th>\n",
              "      <td>don't keep askin for my advice if you don't li...</td>\n",
              "      <td>0</td>\n",
              "      <td>0</td>\n",
              "      <td>1</td>\n",
              "      <td>0</td>\n",
              "      <td>0</td>\n",
              "      <td>0</td>\n",
              "    </tr>\n",
              "    <tr>\n",
              "      <th>210435</th>\n",
              "      <td>Read the History of the Stylistics  &lt;URL&gt;</td>\n",
              "      <td>0</td>\n",
              "      <td>0</td>\n",
              "      <td>0</td>\n",
              "      <td>1</td>\n",
              "      <td>0</td>\n",
              "      <td>0</td>\n",
              "    </tr>\n",
              "  </tbody>\n",
              "</table>\n",
              "<p>38925 rows × 7 columns</p>\n",
              "</div>"
            ],
            "text/plain": [
              "                                                     text  ...  fake_followers\n",
              "0                         RT <ACCOUNT>: #KaptaanKhanOnGeo  ...               0\n",
              "5       Brain fitness seen as hot industry of the futu...  ...               0\n",
              "6       \"'Twas the Night After Edmund\" available on IT...  ...               1\n",
              "8                     Chuva chata tudo praga do <ACCOUNT>  ...               1\n",
              "16             Flood-hit town gets safety support - <URL>  ...               0\n",
              "...                                                   ...  ...             ...\n",
              "210408  I don't think going through all his fetus musi...  ...               0\n",
              "210415               My lrt&amp;quote thats just like me!  ...               0\n",
              "210423                  kiwi doesn't know what a penis is  ...               0\n",
              "210434  don't keep askin for my advice if you don't li...  ...               0\n",
              "210435          Read the History of the Stylistics  <URL>  ...               0\n",
              "\n",
              "[38925 rows x 7 columns]"
            ]
          },
          "metadata": {},
          "execution_count": 7
        }
      ]
    },
    {
      "cell_type": "code",
      "metadata": {
        "colab": {
          "base_uri": "https://localhost:8080/",
          "height": 203
        },
        "id": "8PAh4JmsV9Zh",
        "outputId": "c9e66e95-e49a-4f38-e0dc-24dbaf2fe432"
      },
      "source": [
        "df_final_temp.head()"
      ],
      "execution_count": null,
      "outputs": [
        {
          "output_type": "execute_result",
          "data": {
            "text/html": [
              "<div>\n",
              "<style scoped>\n",
              "    .dataframe tbody tr th:only-of-type {\n",
              "        vertical-align: middle;\n",
              "    }\n",
              "\n",
              "    .dataframe tbody tr th {\n",
              "        vertical-align: top;\n",
              "    }\n",
              "\n",
              "    .dataframe thead th {\n",
              "        text-align: right;\n",
              "    }\n",
              "</style>\n",
              "<table border=\"1\" class=\"dataframe\">\n",
              "  <thead>\n",
              "    <tr style=\"text-align: right;\">\n",
              "      <th></th>\n",
              "      <th>text</th>\n",
              "      <th>genuine</th>\n",
              "      <th>social_spambot_1</th>\n",
              "      <th>social_spambot_2</th>\n",
              "      <th>social_spambot_3</th>\n",
              "      <th>traditional_spambot</th>\n",
              "      <th>fake_followers</th>\n",
              "    </tr>\n",
              "  </thead>\n",
              "  <tbody>\n",
              "    <tr>\n",
              "      <th>0</th>\n",
              "      <td>RT &lt;ACCOUNT&gt;: #KaptaanKhanOnGeo</td>\n",
              "      <td>1</td>\n",
              "      <td>0</td>\n",
              "      <td>0</td>\n",
              "      <td>0</td>\n",
              "      <td>0</td>\n",
              "      <td>0</td>\n",
              "    </tr>\n",
              "    <tr>\n",
              "      <th>5</th>\n",
              "      <td>Brain fitness seen as hot industry of the futu...</td>\n",
              "      <td>0</td>\n",
              "      <td>0</td>\n",
              "      <td>0</td>\n",
              "      <td>0</td>\n",
              "      <td>1</td>\n",
              "      <td>0</td>\n",
              "    </tr>\n",
              "    <tr>\n",
              "      <th>6</th>\n",
              "      <td>\"'Twas the Night After Edmund\" available on IT...</td>\n",
              "      <td>0</td>\n",
              "      <td>0</td>\n",
              "      <td>0</td>\n",
              "      <td>0</td>\n",
              "      <td>0</td>\n",
              "      <td>1</td>\n",
              "    </tr>\n",
              "    <tr>\n",
              "      <th>8</th>\n",
              "      <td>Chuva chata tudo praga do &lt;ACCOUNT&gt;</td>\n",
              "      <td>0</td>\n",
              "      <td>0</td>\n",
              "      <td>0</td>\n",
              "      <td>0</td>\n",
              "      <td>0</td>\n",
              "      <td>1</td>\n",
              "    </tr>\n",
              "    <tr>\n",
              "      <th>16</th>\n",
              "      <td>Flood-hit town gets safety support - &lt;URL&gt;</td>\n",
              "      <td>0</td>\n",
              "      <td>0</td>\n",
              "      <td>0</td>\n",
              "      <td>0</td>\n",
              "      <td>1</td>\n",
              "      <td>0</td>\n",
              "    </tr>\n",
              "  </tbody>\n",
              "</table>\n",
              "</div>"
            ],
            "text/plain": [
              "                                                 text  ...  fake_followers\n",
              "0                     RT <ACCOUNT>: #KaptaanKhanOnGeo  ...               0\n",
              "5   Brain fitness seen as hot industry of the futu...  ...               0\n",
              "6   \"'Twas the Night After Edmund\" available on IT...  ...               1\n",
              "8                 Chuva chata tudo praga do <ACCOUNT>  ...               1\n",
              "16         Flood-hit town gets safety support - <URL>  ...               0\n",
              "\n",
              "[5 rows x 7 columns]"
            ]
          },
          "metadata": {},
          "execution_count": 8
        }
      ]
    },
    {
      "cell_type": "code",
      "metadata": {
        "colab": {
          "base_uri": "https://localhost:8080/",
          "height": 568
        },
        "id": "Y2nKDBZrP1_E",
        "outputId": "aa57540f-4f32-494d-899c-bebea3dab61c"
      },
      "source": [
        "#test-train split\n",
        "\n",
        "train, test = train_test_split(df_final_temp, test_size=0.2)\n",
        "train"
      ],
      "execution_count": null,
      "outputs": [
        {
          "output_type": "execute_result",
          "data": {
            "text/html": [
              "<div>\n",
              "<style scoped>\n",
              "    .dataframe tbody tr th:only-of-type {\n",
              "        vertical-align: middle;\n",
              "    }\n",
              "\n",
              "    .dataframe tbody tr th {\n",
              "        vertical-align: top;\n",
              "    }\n",
              "\n",
              "    .dataframe thead th {\n",
              "        text-align: right;\n",
              "    }\n",
              "</style>\n",
              "<table border=\"1\" class=\"dataframe\">\n",
              "  <thead>\n",
              "    <tr style=\"text-align: right;\">\n",
              "      <th></th>\n",
              "      <th>text</th>\n",
              "      <th>genuine</th>\n",
              "      <th>social_spambot_1</th>\n",
              "      <th>social_spambot_2</th>\n",
              "      <th>social_spambot_3</th>\n",
              "      <th>traditional_spambot</th>\n",
              "      <th>fake_followers</th>\n",
              "    </tr>\n",
              "  </thead>\n",
              "  <tbody>\n",
              "    <tr>\n",
              "      <th>143136</th>\n",
              "      <td>&lt;URL&gt;</td>\n",
              "      <td>0</td>\n",
              "      <td>1</td>\n",
              "      <td>0</td>\n",
              "      <td>0</td>\n",
              "      <td>0</td>\n",
              "      <td>0</td>\n",
              "    </tr>\n",
              "    <tr>\n",
              "      <th>190829</th>\n",
              "      <td>What's up with these \"Did I really die?\" billb...</td>\n",
              "      <td>0</td>\n",
              "      <td>0</td>\n",
              "      <td>1</td>\n",
              "      <td>0</td>\n",
              "      <td>0</td>\n",
              "      <td>0</td>\n",
              "    </tr>\n",
              "    <tr>\n",
              "      <th>137665</th>\n",
              "      <td>I ragazzini di oggi, senza ginocchia sbucciate...</td>\n",
              "      <td>0</td>\n",
              "      <td>1</td>\n",
              "      <td>0</td>\n",
              "      <td>0</td>\n",
              "      <td>0</td>\n",
              "      <td>0</td>\n",
              "    </tr>\n",
              "    <tr>\n",
              "      <th>196825</th>\n",
              "      <td>&lt;ACCOUNT&gt; My son played football at PSHS (Clas...</td>\n",
              "      <td>1</td>\n",
              "      <td>0</td>\n",
              "      <td>0</td>\n",
              "      <td>0</td>\n",
              "      <td>0</td>\n",
              "      <td>0</td>\n",
              "    </tr>\n",
              "    <tr>\n",
              "      <th>113132</th>\n",
              "      <td>&lt;ACCOUNT&gt; DONT LET THIS FLOP IT TOOK ME A WHIL...</td>\n",
              "      <td>1</td>\n",
              "      <td>0</td>\n",
              "      <td>0</td>\n",
              "      <td>0</td>\n",
              "      <td>0</td>\n",
              "      <td>0</td>\n",
              "    </tr>\n",
              "    <tr>\n",
              "      <th>...</th>\n",
              "      <td>...</td>\n",
              "      <td>...</td>\n",
              "      <td>...</td>\n",
              "      <td>...</td>\n",
              "      <td>...</td>\n",
              "      <td>...</td>\n",
              "      <td>...</td>\n",
              "    </tr>\n",
              "    <tr>\n",
              "      <th>69137</th>\n",
              "      <td>I sent Aleah a snap saying \"I'm on my way to s...</td>\n",
              "      <td>0</td>\n",
              "      <td>0</td>\n",
              "      <td>1</td>\n",
              "      <td>0</td>\n",
              "      <td>0</td>\n",
              "      <td>0</td>\n",
              "    </tr>\n",
              "    <tr>\n",
              "      <th>66547</th>\n",
              "      <td>La natura con la sua bellezza e armonia è in g...</td>\n",
              "      <td>0</td>\n",
              "      <td>1</td>\n",
              "      <td>0</td>\n",
              "      <td>0</td>\n",
              "      <td>0</td>\n",
              "      <td>0</td>\n",
              "    </tr>\n",
              "    <tr>\n",
              "      <th>145713</th>\n",
              "      <td>Acabo de completar \"A que d\\xe9cada voc\\xea re...</td>\n",
              "      <td>0</td>\n",
              "      <td>0</td>\n",
              "      <td>0</td>\n",
              "      <td>0</td>\n",
              "      <td>1</td>\n",
              "      <td>0</td>\n",
              "    </tr>\n",
              "    <tr>\n",
              "      <th>163824</th>\n",
              "      <td>Corona che scrive una lettera dalla prigione: ...</td>\n",
              "      <td>0</td>\n",
              "      <td>1</td>\n",
              "      <td>0</td>\n",
              "      <td>0</td>\n",
              "      <td>0</td>\n",
              "      <td>0</td>\n",
              "    </tr>\n",
              "    <tr>\n",
              "      <th>176515</th>\n",
              "      <td>&lt;ACCOUNT&gt; Cloak and track your affiliate links...</td>\n",
              "      <td>0</td>\n",
              "      <td>0</td>\n",
              "      <td>0</td>\n",
              "      <td>0</td>\n",
              "      <td>1</td>\n",
              "      <td>0</td>\n",
              "    </tr>\n",
              "  </tbody>\n",
              "</table>\n",
              "<p>31140 rows × 7 columns</p>\n",
              "</div>"
            ],
            "text/plain": [
              "                                                     text  ...  fake_followers\n",
              "143136                                              <URL>  ...               0\n",
              "190829  What's up with these \"Did I really die?\" billb...  ...               0\n",
              "137665  I ragazzini di oggi, senza ginocchia sbucciate...  ...               0\n",
              "196825  <ACCOUNT> My son played football at PSHS (Clas...  ...               0\n",
              "113132  <ACCOUNT> DONT LET THIS FLOP IT TOOK ME A WHIL...  ...               0\n",
              "...                                                   ...  ...             ...\n",
              "69137   I sent Aleah a snap saying \"I'm on my way to s...  ...               0\n",
              "66547   La natura con la sua bellezza e armonia è in g...  ...               0\n",
              "145713  Acabo de completar \"A que d\\xe9cada voc\\xea re...  ...               0\n",
              "163824  Corona che scrive una lettera dalla prigione: ...  ...               0\n",
              "176515  <ACCOUNT> Cloak and track your affiliate links...  ...               0\n",
              "\n",
              "[31140 rows x 7 columns]"
            ]
          },
          "metadata": {},
          "execution_count": 9
        }
      ]
    },
    {
      "cell_type": "code",
      "metadata": {
        "id": "aDE9uONGCasJ"
      },
      "source": [
        "train_x=train[\"text\"]\n",
        "test_x=test[\"text\"]\n",
        "train_x = train['text'].str.lower()\n",
        "test_x = test['text'].str.lower()"
      ],
      "execution_count": null,
      "outputs": []
    },
    {
      "cell_type": "code",
      "metadata": {
        "colab": {
          "base_uri": "https://localhost:8080/"
        },
        "id": "34eqSWMiC6Wt",
        "outputId": "b25418a7-1798-47a4-8ecb-793084849750"
      },
      "source": [
        "train_x"
      ],
      "execution_count": null,
      "outputs": [
        {
          "output_type": "execute_result",
          "data": {
            "text/plain": [
              "143136                                                <url>\n",
              "190829    what's up with these \"did i really die?\" billb...\n",
              "137665    i ragazzini di oggi, senza ginocchia sbucciate...\n",
              "196825    <account> my son played football at pshs (clas...\n",
              "113132    <account> dont let this flop it took me a whil...\n",
              "                                ...                        \n",
              "69137     i sent aleah a snap saying \"i'm on my way to s...\n",
              "66547     la natura con la sua bellezza e armonia è in g...\n",
              "145713    acabo de completar \"a que d\\xe9cada voc\\xea re...\n",
              "163824    corona che scrive una lettera dalla prigione: ...\n",
              "176515    <account> cloak and track your affiliate links...\n",
              "Name: text, Length: 31140, dtype: object"
            ]
          },
          "metadata": {},
          "execution_count": 11
        }
      ]
    },
    {
      "cell_type": "code",
      "metadata": {
        "colab": {
          "base_uri": "https://localhost:8080/"
        },
        "id": "RiPt3Wfn-6Q1",
        "outputId": "8675866f-92d7-4a67-e480-ecab234673d9"
      },
      "source": [
        "df_final_temp['text'].values"
      ],
      "execution_count": null,
      "outputs": [
        {
          "output_type": "execute_result",
          "data": {
            "text/plain": [
              "array(['RT <ACCOUNT>: #KaptaanKhanOnGeo',\n",
              "       'Brain fitness seen as hot industry of the future <URL>',\n",
              "       '\"\\'Twas the Night After Edmund\" available on ITunes now! Go check it out!',\n",
              "       ..., \"kiwi doesn't know what a penis is\",\n",
              "       \"don't keep askin for my advice if you don't like it LOL\",\n",
              "       'Read the History of the Stylistics  <URL>'], dtype=object)"
            ]
          },
          "metadata": {},
          "execution_count": 12
        }
      ]
    },
    {
      "cell_type": "code",
      "metadata": {
        "id": "ZgCLr89Z8JBQ"
      },
      "source": [
        "train_y = train[['genuine','social_spambot_1','social_spambot_2', 'social_spambot_3','traditional_spambot','fake_followers']].values\n",
        "test_y=test[['genuine','social_spambot_1','social_spambot_2', 'social_spambot_3','traditional_spambot','fake_followers']].values\n",
        "df_final_temp=df_final_temp.applymap(str)\n",
        "sentiment = train_x\n",
        "max_len=250"
      ],
      "execution_count": null,
      "outputs": []
    },
    {
      "cell_type": "code",
      "metadata": {
        "id": "sDMnl7MEEI06"
      },
      "source": [
        "tokenizer = Tokenizer(num_words=20000)\n",
        "tokenizer.fit_on_texts(list(sentiment))\n",
        "seq = tokenizer.texts_to_sequences(sentiment)\n",
        "pad = sequence.pad_sequences(seq, maxlen=max_len)"
      ],
      "execution_count": null,
      "outputs": []
    },
    {
      "cell_type": "code",
      "metadata": {
        "id": "WG3HviluGdWH"
      },
      "source": [
        "train_x=train_x.apply(str)\n",
        "test_x=test_x.apply(str)"
      ],
      "execution_count": null,
      "outputs": []
    },
    {
      "cell_type": "code",
      "metadata": {
        "colab": {
          "base_uri": "https://localhost:8080/"
        },
        "id": "gjOGPR5a9zw1",
        "outputId": "eb425665-711c-4a21-af63-91c07ceb6c92"
      },
      "source": [
        "from keras.layers import Dense, Input, LSTM, Embedding, Dropout, Activation\n",
        "from keras.layers import Bidirectional, GlobalMaxPool1D\n",
        "from keras.models import Model\n",
        "from keras import initializers, regularizers, constraints, optimizers, layers\n",
        "\n",
        "\n",
        "def model_add():\n",
        "    inputs = Input(shape=(250, ))\n",
        "    x = Embedding(20000, 128)(inputs)\n",
        "    x = Bidirectional(LSTM(50))(x)\n",
        "    x = Dropout(0.1)(x)\n",
        "    x = Dense(50, activation=\"relu\")(x)\n",
        "    x = Dropout(0.1)(x)\n",
        "    outputs = Dense(6, activation=\"sigmoid\")(x)\n",
        "    model = Model(inputs=inputs, outputs=outputs)\n",
        "    model.compile(loss='binary_crossentropy',\n",
        "                  optimizer='adam',\n",
        "                  metrics=['accuracy'])\n",
        "    return model\n",
        "model = model_add()\n",
        "print(model.summary())"
      ],
      "execution_count": null,
      "outputs": [
        {
          "output_type": "stream",
          "name": "stdout",
          "text": [
            "Model: \"model\"\n",
            "_________________________________________________________________\n",
            "Layer (type)                 Output Shape              Param #   \n",
            "=================================================================\n",
            "input_1 (InputLayer)         [(None, 250)]             0         \n",
            "_________________________________________________________________\n",
            "embedding (Embedding)        (None, 250, 128)          2560000   \n",
            "_________________________________________________________________\n",
            "bidirectional (Bidirectional (None, 100)               71600     \n",
            "_________________________________________________________________\n",
            "dropout (Dropout)            (None, 100)               0         \n",
            "_________________________________________________________________\n",
            "dense (Dense)                (None, 50)                5050      \n",
            "_________________________________________________________________\n",
            "dropout_1 (Dropout)          (None, 50)                0         \n",
            "_________________________________________________________________\n",
            "dense_1 (Dense)              (None, 6)                 306       \n",
            "=================================================================\n",
            "Total params: 2,636,956\n",
            "Trainable params: 2,636,956\n",
            "Non-trainable params: 0\n",
            "_________________________________________________________________\n",
            "None\n"
          ]
        }
      ]
    },
    {
      "cell_type": "code",
      "metadata": {
        "colab": {
          "base_uri": "https://localhost:8080/"
        },
        "id": "HtJtMscG9zsD",
        "outputId": "a111ebb3-c180-4dbc-b120-be5b39d32ee6"
      },
      "source": [
        "len(train_y)\n"
      ],
      "execution_count": null,
      "outputs": [
        {
          "output_type": "execute_result",
          "data": {
            "text/plain": [
              "31140"
            ]
          },
          "metadata": {},
          "execution_count": 17
        }
      ]
    },
    {
      "cell_type": "code",
      "metadata": {
        "colab": {
          "base_uri": "https://localhost:8080/"
        },
        "id": "UNycz48n9znE",
        "outputId": "a120f719-e724-4673-ebe6-bc091d2ef7bd"
      },
      "source": [
        "len(pad)"
      ],
      "execution_count": null,
      "outputs": [
        {
          "output_type": "execute_result",
          "data": {
            "text/plain": [
              "31140"
            ]
          },
          "metadata": {},
          "execution_count": 18
        }
      ]
    },
    {
      "cell_type": "code",
      "metadata": {
        "colab": {
          "base_uri": "https://localhost:8080/"
        },
        "id": "nXQ63HhK9ziq",
        "outputId": "7d31ff31-8e5b-4fa3-e488-6cc7eb2c1cce"
      },
      "source": [
        "from keras.callbacks import EarlyStopping, ModelCheckpoint\n",
        "early = EarlyStopping(monitor=\"val_loss\", mode=\"min\", patience=20)\n",
        "model.fit(pad, train_y, batch_size=32, epochs=10, validation_split=0.1, callbacks=early)"
      ],
      "execution_count": null,
      "outputs": [
        {
          "output_type": "stream",
          "name": "stdout",
          "text": [
            "Epoch 1/10\n",
            "876/876 [==============================] - 99s 104ms/step - loss: 0.2633 - accuracy: 0.6210 - val_loss: 0.1901 - val_accuracy: 0.7396\n",
            "Epoch 2/10\n",
            "876/876 [==============================] - 90s 103ms/step - loss: 0.1577 - accuracy: 0.7941 - val_loss: 0.1729 - val_accuracy: 0.7636\n",
            "Epoch 3/10\n",
            "876/876 [==============================] - 90s 103ms/step - loss: 0.1135 - accuracy: 0.8586 - val_loss: 0.1802 - val_accuracy: 0.7608\n",
            "Epoch 4/10\n",
            "876/876 [==============================] - 90s 103ms/step - loss: 0.0860 - accuracy: 0.8947 - val_loss: 0.2098 - val_accuracy: 0.7717\n",
            "Epoch 5/10\n",
            "876/876 [==============================] - 90s 103ms/step - loss: 0.0678 - accuracy: 0.9179 - val_loss: 0.2340 - val_accuracy: 0.7566\n",
            "Epoch 6/10\n",
            "876/876 [==============================] - 90s 103ms/step - loss: 0.0563 - accuracy: 0.9295 - val_loss: 0.2549 - val_accuracy: 0.7640\n",
            "Epoch 7/10\n",
            "876/876 [==============================] - 90s 103ms/step - loss: 0.0477 - accuracy: 0.9388 - val_loss: 0.3154 - val_accuracy: 0.7678\n",
            "Epoch 8/10\n",
            "876/876 [==============================] - 90s 103ms/step - loss: 0.0411 - accuracy: 0.9474 - val_loss: 0.3273 - val_accuracy: 0.7617\n",
            "Epoch 9/10\n",
            "876/876 [==============================] - 90s 103ms/step - loss: 0.0373 - accuracy: 0.9512 - val_loss: 0.3292 - val_accuracy: 0.7620\n",
            "Epoch 10/10\n",
            "876/876 [==============================] - 90s 103ms/step - loss: 0.0334 - accuracy: 0.9560 - val_loss: 0.3895 - val_accuracy: 0.7527\n"
          ]
        },
        {
          "output_type": "execute_result",
          "data": {
            "text/plain": [
              "<keras.callbacks.History at 0x7fa1e0554a90>"
            ]
          },
          "metadata": {},
          "execution_count": 19
        }
      ]
    },
    {
      "cell_type": "code",
      "metadata": {
        "id": "3u1b8fgCEGSZ"
      },
      "source": [
        "model.save(\"tweet_model.h5\")"
      ],
      "execution_count": null,
      "outputs": []
    },
    {
      "cell_type": "code",
      "metadata": {
        "id": "Ww4lpRiC9zak"
      },
      "source": [
        "import io,json\n",
        "tokenizer_json = tokenizer.to_json()\n",
        "with io.open('tokenizer.json', 'w', encoding='utf-8') as f:\n",
        "    f.write(json.dumps(tokenizer_json, ensure_ascii=False))"
      ],
      "execution_count": null,
      "outputs": []
    },
    {
      "cell_type": "code",
      "metadata": {
        "id": "JcaKeJ7L9zVQ"
      },
      "source": [
        "with open('tokenizer.json') as f:\n",
        "    data = json.load(f)\n",
        "    tokenizer= tokenizer_from_json(data)\n",
        "model = load_model('tweet_model.h5')"
      ],
      "execution_count": null,
      "outputs": []
    },
    {
      "cell_type": "code",
      "metadata": {
        "id": "DXN-6J4t9zO6"
      },
      "source": [
        "def BILSTM_Predict(text):\n",
        "    tweet= [text]\n",
        "    y_list = [\"genuine\",\"social_spambot_1\",\"social_spambot_2\",\"social_spambot_3\",\"traditional_spambot\",\"fake_followers\"]\n",
        "    tweet_seq = tokenizer.texts_to_sequences(tweet)\n",
        "    tweet_pad = sequence.pad_sequences(tweet_seq, maxlen=250)\n",
        "    y_prob = model.predict([tweet_pad]) \n",
        "    y_prob.argmax(axis=-1)\n",
        "    result=y_prob[0]\n",
        "    final=[x for _, x in sorted(zip(result, y_list),reverse=True)]\n",
        "    for i,j in sorted(zip(result, y_list),reverse=True):\n",
        "        print(str(i)+\"                 \"+str(j))  "
      ],
      "execution_count": null,
      "outputs": []
    },
    {
      "cell_type": "code",
      "metadata": {
        "colab": {
          "base_uri": "https://localhost:8080/"
        },
        "id": "Uq9GhqwQFRfY",
        "outputId": "fd152343-8b81-4d29-dbe9-1aa257d275f2"
      },
      "source": [
        "BILSTM_Predict('i think this is it')"
      ],
      "execution_count": null,
      "outputs": [
        {
          "output_type": "stream",
          "name": "stdout",
          "text": [
            "0.37555882                 genuine\n",
            "0.28666285                 fake_followers\n",
            "0.24501717                 social_spambot_2\n",
            "0.11124959                 traditional_spambot\n",
            "0.044882283                 social_spambot_3\n",
            "0.031112637                 social_spambot_1\n"
          ]
        }
      ]
    },
    {
      "cell_type": "code",
      "metadata": {
        "id": "fe8tSD1MJSdj"
      },
      "source": [
        "def tweet(text,tweet_model,tokenizer):\n",
        "    tweet= [text]\n",
        "    y_list = [\"genuine\",\"social_spambot_1\",\"social_spambot_2\",\"social_spambot_3\",\"traditional_spambot\",\"fake_followers\"]\n",
        "    tweet_seq = tokenizer.texts_to_sequences(tweet)\n",
        "    tweet_pad = sequence.pad_sequences(tweet_seq, maxlen=250)\n",
        "    y_prob = tweet_model.predict([tweet_pad]) \n",
        "    y_prob.argmax(axis=-1)\n",
        "    result=y_prob[0]\n",
        "    final=[x for _, x in sorted(zip(result, y_list),reverse=True)]\n",
        "    bot_perc=result[0]\n",
        "    non_bot_perc=sum(result[1:])\n",
        "    print((bot_perc/non_bot_perc)*100)"
      ],
      "execution_count": null,
      "outputs": []
    },
    {
      "cell_type": "code",
      "metadata": {
        "id": "1i5EayfaJWNc"
      },
      "source": [
        "def account_tweet(account_metadata,text_list):\n",
        "  with open('tokenizer.json') as f:\n",
        "    data = json.load(f)\n",
        "    tokenizer= tokenizer_from_json(data)\n",
        "  tweet_model = load_model('tweet_model.h5')\n",
        "  for i in text_list:\n",
        "    tweet(i,tweet_model,tokenizer)\n",
        "  account_model = load_model('/content/drive/MyDrive/SAAS-2121/Account_level_code/account_level.h5')\n",
        "  print(\"Account level : \",account_model.predict(account_metadata)[0]*100)"
      ],
      "execution_count": null,
      "outputs": []
    },
    {
      "cell_type": "code",
      "metadata": {
        "colab": {
          "base_uri": "https://localhost:8080/"
        },
        "id": "s3bCxdqcJWGu",
        "outputId": "d9d16ffe-cd20-4d5c-9f98-1a7f83f689dc"
      },
      "source": [
        "account_tweet([[ 0.82868672,  1.        ,  0.        ,  0.20498027,  0.28777462,-0.01814796, -0.24477836,  0.        ,  1.        ,  1.        ]],[\"hello this is it\"])"
      ],
      "execution_count": null,
      "outputs": [
        {
          "output_type": "stream",
          "name": "stdout",
          "text": [
            "57.84366678052003\n",
            "Account level :  [90.411255]\n"
          ]
        }
      ]
    },
    {
      "cell_type": "code",
      "metadata": {
        "id": "ViXKbAqKJV9C"
      },
      "source": [
        ""
      ],
      "execution_count": null,
      "outputs": []
    },
    {
      "cell_type": "code",
      "metadata": {
        "id": "naMFq_2bJV5I"
      },
      "source": [
        ""
      ],
      "execution_count": null,
      "outputs": []
    },
    {
      "cell_type": "code",
      "metadata": {
        "id": "vO972V_HJVyi"
      },
      "source": [
        ""
      ],
      "execution_count": null,
      "outputs": []
    },
    {
      "cell_type": "code",
      "metadata": {
        "id": "FIAL0KxQJVql"
      },
      "source": [
        ""
      ],
      "execution_count": null,
      "outputs": []
    },
    {
      "cell_type": "code",
      "metadata": {
        "id": "CoG7gKgNJVlZ"
      },
      "source": [
        ""
      ],
      "execution_count": null,
      "outputs": []
    },
    {
      "cell_type": "code",
      "metadata": {
        "id": "-O4QFSq0JSNe"
      },
      "source": [
        ""
      ],
      "execution_count": null,
      "outputs": []
    },
    {
      "cell_type": "code",
      "metadata": {
        "id": "4IBPgzqNFRae"
      },
      "source": [
        ""
      ],
      "execution_count": null,
      "outputs": []
    },
    {
      "cell_type": "code",
      "metadata": {
        "id": "VBhK2DSs9zE6",
        "colab": {
          "base_uri": "https://localhost:8080/",
          "height": 52
        },
        "outputId": "0ab46e95-c399-4a78-a613-6c6c0a7638db"
      },
      "source": [
        "\"##############################################################################################################################################\""
      ],
      "execution_count": null,
      "outputs": [
        {
          "output_type": "execute_result",
          "data": {
            "application/vnd.google.colaboratory.intrinsic+json": {
              "type": "string"
            },
            "text/plain": [
              "'##############################################################################################################################################'"
            ]
          },
          "metadata": {},
          "execution_count": 36
        }
      ]
    },
    {
      "cell_type": "code",
      "metadata": {
        "colab": {
          "base_uri": "https://localhost:8080/"
        },
        "id": "jq-t-m0GTB1T",
        "outputId": "ba56f7bc-2390-415e-d6b4-fb175e06c92f"
      },
      "source": [
        "test_x"
      ],
      "execution_count": null,
      "outputs": [
        {
          "output_type": "execute_result",
          "data": {
            "text/plain": [
              "7361      rt <account>: <account> new mixtape vs13 get i...\n",
              "154413            setting up twitter for my squidoo account\n",
              "9115      commento serio sulla suora di rieti: spero che...\n",
              "33602     learn about advanced weight scales and body mo...\n",
              "30377        76 if you want 100 followers a day use <url> .\n",
              "                                ...                        \n",
              "68910     <account> <account> hahaha yan ba yung time na...\n",
              "182469    learn about the history of the nautilus fitnes...\n",
              "98844     putting headphones in and gonna listen to the ...\n",
              "208678                                       <account> nice\n",
              "201055    perché la psicoanalisi e' molto più veloce neg...\n",
              "Name: text, Length: 7785, dtype: object"
            ]
          },
          "metadata": {},
          "execution_count": 14
        }
      ]
    },
    {
      "cell_type": "code",
      "metadata": {
        "id": "-B0ZWizTDxfP"
      },
      "source": [
        "train_x = tokenizer.texts_to_sequences(train_x)\n",
        "test_x = tokenizer.texts_to_sequences(test_x)\n",
        "train_x = sequence.pad_sequences(train_x, maxlen=maxlen)\n",
        "test_x = sequence.pad_sequences(test_x, maxlen=maxlen)"
      ],
      "execution_count": null,
      "outputs": []
    },
    {
      "cell_type": "code",
      "metadata": {
        "id": "pEyujAbVDxH8"
      },
      "source": [
        "\n",
        "embeddings_index = {}\n",
        "with open(EMBEDDING_FILE, encoding='utf8') as f:\n",
        "    for line in f:\n",
        "        values = line.rstrip().rsplit(' ')\n",
        "        word = values[0]\n",
        "        coefs = np.asarray(values[1:], dtype='float32')\n",
        "        embeddings_index[word] = coefs\n",
        "word_index = tokenizer.word_index\n",
        "num_words = min(max_features, len(word_index) + 1)\n",
        "embedding_matrix = np.zeros((num_words, embed_size))\n",
        "for word, i in word_index.items():\n",
        "    if i >= max_features:\n",
        "        continue\n",
        "    \n",
        "    embedding_vector = embeddings_index.get(word)\n",
        "    if embedding_vector is not None:\n",
        "        embedding_matrix[i] = embedding_vector"
      ],
      "execution_count": null,
      "outputs": []
    },
    {
      "cell_type": "code",
      "metadata": {
        "id": "AWb9wiO3JaY9"
      },
      "source": [
        "embedding_matrix.shape\n",
        "from keras.layers import Dense, Input, LSTM, Embedding, Dropout, Activation"
      ],
      "execution_count": null,
      "outputs": []
    },
    {
      "cell_type": "code",
      "metadata": {
        "id": "KWcEgrTLROi9"
      },
      "source": [
        "inputs = Input(shape=(max_len, ))\n",
        "x = Embedding(20000, 128)(inputs)\n",
        "x = Bidirectional(LSTM(50))(x)\n",
        "x = Dropout(0.1)(x)\n",
        "x = Dense(50, activation=\"relu\")(x)\n",
        "x = Dropout(0.1)(x)\n",
        "outputs = Dense(6, activation=\"sigmoid\")(x)\n",
        "model = Model(inputs=inputs, outputs=outputs)\n",
        "model.compile(loss='binary_crossentropy',\n",
        "              optimizer='adam',\n",
        "              metrics=['accuracy'])"
      ],
      "execution_count": null,
      "outputs": []
    },
    {
      "cell_type": "code",
      "metadata": {
        "colab": {
          "base_uri": "https://localhost:8080/"
        },
        "id": "-k5OxD5DRaYO",
        "outputId": "bb862c2b-0b00-44e6-da1e-b2edd3e09903"
      },
      "source": [
        "model.summary()"
      ],
      "execution_count": null,
      "outputs": [
        {
          "output_type": "stream",
          "name": "stdout",
          "text": [
            "Model: \"model\"\n",
            "_________________________________________________________________\n",
            "Layer (type)                 Output Shape              Param #   \n",
            "=================================================================\n",
            "input_1 (InputLayer)         [(None, 250)]             0         \n",
            "_________________________________________________________________\n",
            "embedding (Embedding)        (None, 250, 128)          2560000   \n",
            "_________________________________________________________________\n",
            "bidirectional (Bidirectional (None, 100)               71600     \n",
            "_________________________________________________________________\n",
            "dropout (Dropout)            (None, 100)               0         \n",
            "_________________________________________________________________\n",
            "dense (Dense)                (None, 50)                5050      \n",
            "_________________________________________________________________\n",
            "dropout_1 (Dropout)          (None, 50)                0         \n",
            "_________________________________________________________________\n",
            "dense_1 (Dense)              (None, 6)                 306       \n",
            "=================================================================\n",
            "Total params: 2,636,956\n",
            "Trainable params: 2,636,956\n",
            "Non-trainable params: 0\n",
            "_________________________________________________________________\n"
          ]
        }
      ]
    },
    {
      "cell_type": "code",
      "metadata": {
        "colab": {
          "base_uri": "https://localhost:8080/",
          "height": 754
        },
        "id": "HIHRn1bIRi2Q",
        "outputId": "9b3ff54a-94d4-4394-cb38-27ac226d2f02"
      },
      "source": [
        "from keras.utils.vis_utils import plot_model\n",
        "plot_model(model, to_file='BI_LSTM.png', show_shapes=True, show_layer_names=True)"
      ],
      "execution_count": null,
      "outputs": [
        {
          "output_type": "execute_result",
          "data": {
            "image/png": "[encoded data removed]",
            "text/plain": [
              "<IPython.core.display.Image object>"
            ]
          },
          "metadata": {},
          "execution_count": 22
        }
      ]
    }
  ]
}